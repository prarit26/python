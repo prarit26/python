{
  "nbformat": 4,
  "nbformat_minor": 0,
  "metadata": {
    "colab": {
      "provenance": [],
      "authorship_tag": "ABX9TyMdLorQRf3ZYSq6HNHu6/KG",
      "include_colab_link": true
    },
    "kernelspec": {
      "name": "python3",
      "display_name": "Python 3"
    },
    "language_info": {
      "name": "python"
    }
  },
  "cells": [
    {
      "cell_type": "markdown",
      "metadata": {
        "id": "view-in-github",
        "colab_type": "text"
      },
      "source": [
        "<a href=\"https://colab.research.google.com/github/prarit26/python/blob/python-program/assprogm2.ipynb\" target=\"_parent\"><img src=\"https://colab.research.google.com/assets/colab-badge.svg\" alt=\"Open In Colab\"/></a>"
      ]
    },
    {
      "cell_type": "markdown",
      "source": [
        "1. Write a Python program to convert kilometers to miles?"
      ],
      "metadata": {
        "id": "FJlLEVcRFZx8"
      }
    },
    {
      "cell_type": "code",
      "source": [
        "km=float(input(\"enter distance in km: \"))\n",
        "def kmtomiles(km):\n",
        "  miles=km*0.621371\n",
        "  return miles\n",
        "kmtomiles(km)"
      ],
      "metadata": {
        "colab": {
          "base_uri": "https://localhost:8080/"
        },
        "id": "_fjmPw3cFeKw",
        "outputId": "a70f8061-6a0e-4912-cd46-5ec754da8e19"
      },
      "execution_count": 2,
      "outputs": [
        {
          "name": "stdout",
          "output_type": "stream",
          "text": [
            "enter distance in km: 31\n"
          ]
        },
        {
          "output_type": "execute_result",
          "data": {
            "text/plain": [
              "19.262501"
            ]
          },
          "metadata": {},
          "execution_count": 2
        }
      ]
    },
    {
      "cell_type": "markdown",
      "source": [
        "2. Write a Python program to convert Celsius to Fahrenheit?"
      ],
      "metadata": {
        "id": "Ojd82i0sGnaJ"
      }
    },
    {
      "cell_type": "code",
      "source": [
        "def celToFarh():\n",
        "    celsius = int(input(\"Enter temperature in celsius : \"))\n",
        "    Farenheit = (celsius*(9/5))+32\n",
        "    print(\"{}° Celsius is Equal to {}° Farenheit\".format(celsius,Farenheit))\n",
        "    \n",
        "celToFarh()"
      ],
      "metadata": {
        "colab": {
          "base_uri": "https://localhost:8080/"
        },
        "id": "gwAqmdrfG1PF",
        "outputId": "5a9309c2-fd37-4e7d-d4de-fd0a85693d31"
      },
      "execution_count": 3,
      "outputs": [
        {
          "output_type": "stream",
          "name": "stdout",
          "text": [
            "Enter temperature in celsius : 56\n",
            "56° Celsius is Equal to 132.8° Farenheit\n"
          ]
        }
      ]
    },
    {
      "cell_type": "markdown",
      "source": [
        "3. Write a Python program to display calendar?"
      ],
      "metadata": {
        "id": "5yBq4soRG6PK"
      }
    },
    {
      "cell_type": "code",
      "source": [
        "import calendar\n",
        "\n",
        "def showCalender():\n",
        "    year = int(input(\"Enter calender year: \"))\n",
        "    print(calendar.calendar(year))\n",
        "    \n",
        "showCalender()"
      ],
      "metadata": {
        "colab": {
          "base_uri": "https://localhost:8080/"
        },
        "id": "TVtf7AtyG9GI",
        "outputId": "ddbf6199-805e-4cc1-8f6c-efc92fffe44c"
      },
      "execution_count": 5,
      "outputs": [
        {
          "output_type": "stream",
          "name": "stdout",
          "text": [
            "Enter calender year: 2023\n",
            "                                  2023\n",
            "\n",
            "      January                   February                   March\n",
            "Mo Tu We Th Fr Sa Su      Mo Tu We Th Fr Sa Su      Mo Tu We Th Fr Sa Su\n",
            "                   1             1  2  3  4  5             1  2  3  4  5\n",
            " 2  3  4  5  6  7  8       6  7  8  9 10 11 12       6  7  8  9 10 11 12\n",
            " 9 10 11 12 13 14 15      13 14 15 16 17 18 19      13 14 15 16 17 18 19\n",
            "16 17 18 19 20 21 22      20 21 22 23 24 25 26      20 21 22 23 24 25 26\n",
            "23 24 25 26 27 28 29      27 28                     27 28 29 30 31\n",
            "30 31\n",
            "\n",
            "       April                      May                       June\n",
            "Mo Tu We Th Fr Sa Su      Mo Tu We Th Fr Sa Su      Mo Tu We Th Fr Sa Su\n",
            "                1  2       1  2  3  4  5  6  7                1  2  3  4\n",
            " 3  4  5  6  7  8  9       8  9 10 11 12 13 14       5  6  7  8  9 10 11\n",
            "10 11 12 13 14 15 16      15 16 17 18 19 20 21      12 13 14 15 16 17 18\n",
            "17 18 19 20 21 22 23      22 23 24 25 26 27 28      19 20 21 22 23 24 25\n",
            "24 25 26 27 28 29 30      29 30 31                  26 27 28 29 30\n",
            "\n",
            "        July                     August                  September\n",
            "Mo Tu We Th Fr Sa Su      Mo Tu We Th Fr Sa Su      Mo Tu We Th Fr Sa Su\n",
            "                1  2          1  2  3  4  5  6                   1  2  3\n",
            " 3  4  5  6  7  8  9       7  8  9 10 11 12 13       4  5  6  7  8  9 10\n",
            "10 11 12 13 14 15 16      14 15 16 17 18 19 20      11 12 13 14 15 16 17\n",
            "17 18 19 20 21 22 23      21 22 23 24 25 26 27      18 19 20 21 22 23 24\n",
            "24 25 26 27 28 29 30      28 29 30 31               25 26 27 28 29 30\n",
            "31\n",
            "\n",
            "      October                   November                  December\n",
            "Mo Tu We Th Fr Sa Su      Mo Tu We Th Fr Sa Su      Mo Tu We Th Fr Sa Su\n",
            "                   1             1  2  3  4  5                   1  2  3\n",
            " 2  3  4  5  6  7  8       6  7  8  9 10 11 12       4  5  6  7  8  9 10\n",
            " 9 10 11 12 13 14 15      13 14 15 16 17 18 19      11 12 13 14 15 16 17\n",
            "16 17 18 19 20 21 22      20 21 22 23 24 25 26      18 19 20 21 22 23 24\n",
            "23 24 25 26 27 28 29      27 28 29 30               25 26 27 28 29 30 31\n",
            "30 31\n",
            "\n"
          ]
        }
      ]
    },
    {
      "cell_type": "code",
      "execution_count": null,
      "metadata": {
        "id": "HtRqLbMYFRfm"
      },
      "outputs": [],
      "source": []
    },
    {
      "cell_type": "markdown",
      "source": [
        "4. Write a Python program to solve quadratic equation?"
      ],
      "metadata": {
        "id": "LNdwpD5WHPiY"
      }
    },
    {
      "cell_type": "code",
      "source": [
        "import cmath\n",
        "import math\n",
        "\n",
        "def quadarticEquationRoots(a,b,c):\n",
        "    \n",
        "    discriminant = b*b-4*a*c\n",
        "    \n",
        "    if discriminant == 0:\n",
        "        r1 = -b/2*a\n",
        "        r2 = -b/2*a\n",
        "        print(\"Roots are Real\",r1,r2)\n",
        "    elif discriminant > 0:\n",
        "        r1 = (-b-math.sqrt(discriminant))/(2 * a)\n",
        "        r2 = (-b+math.sqrt(discriminant))/(2 * a)\n",
        "        print(\"Roots are Real and different\",r1,r2)\n",
        "    else:\n",
        "        r1 = (-b-cmath.sqrt(discriminant))/(2 * a)\n",
        "        r2 = (-b+cmath.sqrt(discriminant))/(2 * a)\n",
        "        print(\"Roots are Imaginary\",r1,r2)\n",
        "\n",
        "print(\"input value of a,b,c acc to : ax^2+bx+c=0\")\n",
        "a = int(input('Enter a value: '))\n",
        "b = int(input('Enter b value: '))\n",
        "c = int(input('Enter c value: '))\n",
        "\n",
        "quadarticEquationRoots(a,b,c)"
      ],
      "metadata": {
        "colab": {
          "base_uri": "https://localhost:8080/"
        },
        "id": "865K2vndHQtV",
        "outputId": "3d33ad35-8ba2-4786-9ba7-d56538c1f5ad"
      },
      "execution_count": 6,
      "outputs": [
        {
          "output_type": "stream",
          "name": "stdout",
          "text": [
            "input value of a,b,c acc to : ax^2+bx+c=0\n",
            "Enter a value: 1\n",
            "Enter b value: 5\n",
            "Enter c value: 5\n",
            "Roots are Real and different -3.618033988749895 -1.381966011250105\n"
          ]
        }
      ]
    },
    {
      "cell_type": "markdown",
      "source": [
        "5. Write a Python program to swap two variables without temp variable?"
      ],
      "metadata": {
        "id": "cyEzC7eeIIZy"
      }
    },
    {
      "cell_type": "code",
      "source": [
        "a=int(input('enter first no: '))\n",
        "b=int(input('enter second no: '))\n",
        "def swap(a,b):\n",
        "  a=a+b\n",
        "  b=a-b\n",
        "  a=a-b\n",
        "  print(f'after swap a= {a} and b= {b}')\n",
        "swap(a,b)"
      ],
      "metadata": {
        "colab": {
          "base_uri": "https://localhost:8080/"
        },
        "id": "YtuvA3E_ILP6",
        "outputId": "2e6a27f6-e2ff-466a-9601-6627a3189806"
      },
      "execution_count": 7,
      "outputs": [
        {
          "output_type": "stream",
          "name": "stdout",
          "text": [
            "enter first no: 46\n",
            "enter second no: 64\n",
            "after swap a= 64 and b= 46\n"
          ]
        }
      ]
    }
  ]
}