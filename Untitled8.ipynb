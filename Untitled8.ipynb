{
  "nbformat": 4,
  "nbformat_minor": 0,
  "metadata": {
    "colab": {
      "provenance": [],
      "authorship_tag": "ABX9TyO+81bvpwYLS0DJWiJ1bWiI",
      "include_colab_link": true
    },
    "kernelspec": {
      "name": "python3",
      "display_name": "Python 3"
    },
    "language_info": {
      "name": "python"
    }
  },
  "cells": [
    {
      "cell_type": "markdown",
      "metadata": {
        "id": "view-in-github",
        "colab_type": "text"
      },
      "source": [
        "<a href=\"https://colab.research.google.com/github/prarit26/python/blob/main/Untitled8.ipynb\" target=\"_parent\"><img src=\"https://colab.research.google.com/assets/colab-badge.svg\" alt=\"Open In Colab\"/></a>"
      ]
    },
    {
      "cell_type": "markdown",
      "source": [
        "Given two strings s1 and s2, return *the lowest **ASCII** sum of deleted characters to make two strings equal*.\n",
        "\n",
        "**Example 1:**\n",
        "\n",
        "**Input:** s1 = \"sea\", s2 = \"eat\"\n",
        "\n",
        "**Output:** 231\n",
        "\n",
        "**Explanation:** Deleting \"s\" from \"sea\" adds the ASCII value of \"s\" (115) to the sum.\n",
        "\n",
        "Deleting \"t\" from \"eat\" adds 116 to the sum.\n",
        "\n",
        "At the end, both strings are equal, and 115 + 116 = 231 is the minimum sum possible to achieve this."
      ],
      "metadata": {
        "id": "z8bgxtMdHwNU"
      }
    },
    {
      "cell_type": "code",
      "execution_count": 1,
      "metadata": {
        "colab": {
          "base_uri": "https://localhost:8080/"
        },
        "id": "phczqeSbHUF6",
        "outputId": "3dfff2e0-a1cb-4d30-ee39-46630031e6d0"
      },
      "outputs": [
        {
          "output_type": "stream",
          "name": "stdout",
          "text": [
            "231\n"
          ]
        }
      ],
      "source": [
        "def minimumDeleteSum(s1, s2):\n",
        "    m, n = len(s1), len(s2)\n",
        "    dp = [[0] * (n + 1) for _ in range(m + 1)]\n",
        "\n",
        "    for i in range(1, m + 1):\n",
        "        dp[i][0] = dp[i-1][0] + ord(s1[i-1])\n",
        "\n",
        "    for j in range(1, n + 1):\n",
        "        dp[0][j] = dp[0][j-1] + ord(s2[j-1])\n",
        "\n",
        "    for i in range(1, m + 1):\n",
        "        for j in range(1, n + 1):\n",
        "            if s1[i-1] == s2[j-1]:\n",
        "                dp[i][j] = dp[i-1][j-1]\n",
        "            else:\n",
        "                dp[i][j] = min(dp[i-1][j] + ord(s1[i-1]), dp[i][j-1] + ord(s2[j-1]))\n",
        "\n",
        "    return dp[m][n]\n",
        "s1 = \"sea\"\n",
        "s2 = \"eat\"\n",
        "print(minimumDeleteSum(s1, s2))\n"
      ]
    },
    {
      "cell_type": "markdown",
      "source": [
        "Given a string s containing only three types of characters: '(', ')' and '*', return true *if* s *is **valid***.\n",
        "\n",
        "The following rules define a **valid** string:\n",
        "\n",
        "- Any left parenthesis '(' must have a corresponding right parenthesis ')'.\n",
        "- Any right parenthesis ')' must have a corresponding left parenthesis '('.\n",
        "- Left parenthesis '(' must go before the corresponding right parenthesis ')'.\n",
        "- '*' could be treated as a single right parenthesis ')' or a single left parenthesis '(' or an empty string \"\".\n",
        "\n",
        "**Example 1:**\n",
        "\n",
        "**Input:** s = \"()\"\n",
        "\n",
        "**Output:**\n",
        "\n",
        "true"
      ],
      "metadata": {
        "id": "nOgcJG_uIEsk"
      }
    },
    {
      "cell_type": "code",
      "source": [
        "def checkValidString(s):\n",
        "    stack = []\n",
        "    open_count = 0\n",
        "\n",
        "    for c in s:\n",
        "        if c == '(' or c == '*':\n",
        "            stack.append(c)\n",
        "        elif c == ')':\n",
        "            if stack and stack[-1] == '(':\n",
        "                stack.pop()\n",
        "            else:\n",
        "                stack.append(c)\n",
        "\n",
        "    for c in stack:\n",
        "        if c == '(':\n",
        "            open_count += 1\n",
        "        elif c == '*':\n",
        "            if open_count > 0:\n",
        "                open_count -= 1\n",
        "\n",
        "    return open_count == 0\n",
        "s = \"()\"\n",
        "print(checkValidString(s))\n"
      ],
      "metadata": {
        "colab": {
          "base_uri": "https://localhost:8080/"
        },
        "id": "kP3MY22zH_VM",
        "outputId": "63d50625-389a-43e1-cdcf-f04b03b51858"
      },
      "execution_count": 2,
      "outputs": [
        {
          "output_type": "stream",
          "name": "stdout",
          "text": [
            "True\n"
          ]
        }
      ]
    },
    {
      "cell_type": "markdown",
      "source": [
        "Given two strings word1 and word2, return *the minimum number of **steps** required to make* word1 *and* word2 *the same*.\n",
        "\n",
        "In one **step**, you can delete exactly one character in either string.\n",
        "\n",
        "**Example 1:**\n",
        "\n",
        "**Input:** word1 = \"sea\", word2 = \"eat\"\n",
        "\n",
        "**Output:** 2\n",
        "\n",
        "**Explanation:** You need one step to make \"sea\" to \"ea\" and another step to make \"eat\" to \"ea\""
      ],
      "metadata": {
        "id": "3wNJaXbfIRY6"
      }
    },
    {
      "cell_type": "code",
      "source": [
        "def minDistance(word1, word2):\n",
        "    m, n = len(word1), len(word2)\n",
        "    dp = [[0] * (n + 1) for _ in range(m + 1)]\n",
        "\n",
        "    for i in range(m + 1):\n",
        "        dp[i][0] = i\n",
        "\n",
        "    for j in range(n + 1):\n",
        "        dp[0][j] = j\n",
        "\n",
        "    for i in range(1, m + 1):\n",
        "        for j in range(1, n + 1):\n",
        "            if word1[i-1] == word2[j-1]:\n",
        "                dp[i][j] = dp[i-1][j-1]\n",
        "            else:\n",
        "                dp[i][j] = min(dp[i-1][j], dp[i][j-1]) + 1\n",
        "\n",
        "    return dp[m][n]\n",
        "word1 = \"sea\"\n",
        "word2 = \"eat\"\n",
        "print(minDistance(word1, word2))\n"
      ],
      "metadata": {
        "colab": {
          "base_uri": "https://localhost:8080/"
        },
        "id": "YUITKBMtILTL",
        "outputId": "9c6a9e08-f655-457d-ef6b-c11d5f9c9438"
      },
      "execution_count": 3,
      "outputs": [
        {
          "output_type": "stream",
          "name": "stdout",
          "text": [
            "2\n"
          ]
        }
      ]
    },
    {
      "cell_type": "markdown",
      "source": [
        "You need to construct a binary tree from a string consisting of parenthesis and integers.\n",
        "\n",
        "The whole input represents a binary tree. It contains an integer followed by zero, one or two pairs of parenthesis. The integer represents the root's value and a pair of parenthesis contains a child binary tree with the same structure.\n",
        "You always start to construct the **left** child node of the parent first if it exists.\n",
        "**Input:** s = \"4(2(3)(1))(6(5))\"\n",
        "\n",
        "**Output:** [4,2,6,3,1,5]\n"
      ],
      "metadata": {
        "id": "tDQSoQ_CIfup"
      }
    },
    {
      "cell_type": "code",
      "source": [
        "class TreeNode:\n",
        "    def __init__(self, val=0, left=None, right=None):\n",
        "        self.val = val\n",
        "        self.left = left\n",
        "        self.right = right\n",
        "\n",
        "\n",
        "def str2tree(s):\n",
        "    stack = []\n",
        "\n",
        "    i = 0\n",
        "    while i < len(s):\n",
        "        if s[i] == '(':\n",
        "            i += 1\n",
        "        elif s[i] == ')':\n",
        "            i += 1\n",
        "            if stack:\n",
        "                subtree = stack.pop()\n",
        "                if stack[-1].left is None:\n",
        "                    stack[-1].left = subtree\n",
        "                else:\n",
        "                    stack[-1].right = subtree\n",
        "        else:\n",
        "            j = i\n",
        "            while j < len(s) and (s[j].isdigit() or s[j] == '-'):\n",
        "                j += 1\n",
        "            val = int(s[i:j])\n",
        "            node = TreeNode(val)\n",
        "            stack.append(node)\n",
        "            i = j\n",
        "\n",
        "    return stack.pop() if stack else None\n",
        "\n",
        "\n",
        "def inorder_traversal(root):\n",
        "    result = []\n",
        "\n",
        "    def inorder(node):\n",
        "        if node:\n",
        "            inorder(node.left)\n",
        "            result.append(node.val)\n",
        "            inorder(node.right)\n",
        "\n",
        "    inorder(root)\n",
        "    return result\n",
        "s = \"4(2(3)(1))(6(5))\"\n",
        "root = str2tree(s)\n",
        "result = inorder_traversal(root)\n",
        "print(result)\n"
      ],
      "metadata": {
        "colab": {
          "base_uri": "https://localhost:8080/"
        },
        "id": "Cs4Dc2h0IXZj",
        "outputId": "d5d2540c-943f-4225-f565-39f3973a2b65"
      },
      "execution_count": 4,
      "outputs": [
        {
          "output_type": "stream",
          "name": "stdout",
          "text": [
            "[3, 2, 1, 4, 5, 6]\n"
          ]
        }
      ]
    },
    {
      "cell_type": "markdown",
      "source": [
        "Given an array of characters chars, compress it using the following algorithm:\n",
        "\n",
        "Begin with an empty string s. For each group of **consecutive repeating characters** in chars:\n",
        "\n",
        "- If the group's length is 1, append the character to s.\n",
        "- Otherwise, append the character followed by the group's length.\n",
        "\n",
        "The compressed string s **should not be returned separately**, but instead, be stored **in the input character array chars**. Note that group lengths that are 10 or longer will be split into multiple characters in chars.\n",
        "\n",
        "After you are done **modifying the input array,** return *the new length of the array*.\n",
        "\n",
        "You must write an algorithm that uses only constant extra space.\n",
        "\n",
        "**Example 1:**\n",
        "\n",
        "**Input:** chars = [\"a\",\"a\",\"b\",\"b\",\"c\",\"c\",\"c\"]\n",
        "\n",
        "**Output:** Return 6, and the first 6 characters of the input array should be: [\"a\",\"2\",\"b\",\"2\",\"c\",\"3\"]\n",
        "\n",
        "**Explanation:**\n",
        "\n",
        "The groups are \"aa\", \"bb\", and \"ccc\". This compresses to \"a2b2c3\"."
      ],
      "metadata": {
        "id": "IIip98MVI3SV"
      }
    },
    {
      "cell_type": "code",
      "source": [
        "def compress(chars):\n",
        "    read, write = 0, 0\n",
        "\n",
        "    while read < len(chars):\n",
        "        currentChar = chars[read]\n",
        "        count = 0\n",
        "\n",
        "        while read < len(chars) and chars[read] == currentChar:\n",
        "            read += 1\n",
        "            count += 1\n",
        "\n",
        "        chars[write] = currentChar\n",
        "        write += 1\n",
        "\n",
        "        if count > 1:\n",
        "            countStr = str(count)\n",
        "            for digit in countStr:\n",
        "                chars[write] = digit\n",
        "                write += 1\n",
        "\n",
        "    return write\n",
        "chars = [\"a\", \"a\", \"b\", \"b\", \"c\", \"c\", \"c\"]\n",
        "compressedLength = compress(chars)\n",
        "print(compressedLength)\n",
        "print(chars[:compressedLength])\n"
      ],
      "metadata": {
        "colab": {
          "base_uri": "https://localhost:8080/"
        },
        "id": "18P9k46mIw_c",
        "outputId": "d312e4dc-cdf3-452e-c36d-251fd2e9082f"
      },
      "execution_count": 5,
      "outputs": [
        {
          "output_type": "stream",
          "name": "stdout",
          "text": [
            "6\n",
            "['a', '2', 'b', '2', 'c', '3']\n"
          ]
        }
      ]
    },
    {
      "cell_type": "markdown",
      "source": [
        "Given two strings s and p, return *an array of all the start indices of* p*'s anagrams in* s. You may return the answer in **any order**.\n",
        "\n",
        "An **Anagram** is a word or phrase formed by rearranging the letters of a different word or phrase, typically using all the original letters exactly once.\n",
        "\n",
        "**Example 1:**\n",
        "\n",
        "**Input:** s = \"cbaebabacd\", p = \"abc\"\n",
        "\n",
        "**Output:** [0,6]\n",
        "\n",
        "**Explanation:**\n",
        "\n",
        "The substring with start index = 0 is \"cba\", which is an anagram of \"abc\".\n",
        "\n",
        "The substring with start index = 6 is \"bac\", which is an anagram of \"abc\"."
      ],
      "metadata": {
        "id": "8IYey47NJTIN"
      }
    },
    {
      "cell_type": "code",
      "source": [
        "from collections import Counter\n",
        "\n",
        "\n",
        "def findAnagrams(s, p):\n",
        "    pFreq = Counter(p)\n",
        "    windowFreq = Counter()\n",
        "    left = 0\n",
        "    matched = 0\n",
        "    result = []\n",
        "\n",
        "    for right in range(len(s)):\n",
        "        if s[right] in pFreq:\n",
        "            windowFreq[s[right]] += 1\n",
        "            if windowFreq[s[right]] == pFreq[s[right]]:\n",
        "                matched += 1\n",
        "\n",
        "        if right - left + 1 >= len(p):\n",
        "            if matched == len(pFreq):\n",
        "                result.append(left)\n",
        "\n",
        "            if s[left] in pFreq:\n",
        "                windowFreq[s[left]] -= 1\n",
        "                if windowFreq[s[left]] < pFreq[s[left]]:\n",
        "                    matched -= 1\n",
        "\n",
        "            left += 1\n",
        "\n",
        "    return result\n",
        "s = \"cbaebabacd\"\n",
        "p = \"abc\"\n",
        "result = findAnagrams(s, p)\n",
        "print(result)\n"
      ],
      "metadata": {
        "colab": {
          "base_uri": "https://localhost:8080/"
        },
        "id": "rG-pkdyMJM68",
        "outputId": "16cf332b-3bba-4c39-d235-2a44ab13482c"
      },
      "execution_count": 6,
      "outputs": [
        {
          "output_type": "stream",
          "name": "stdout",
          "text": [
            "[0, 6]\n"
          ]
        }
      ]
    },
    {
      "cell_type": "markdown",
      "source": [
        "Given an encoded string, return its decoded string.\n",
        "\n",
        "The encoding rule is: k[encoded_string], where the encoded_string inside the square brackets is being repeated exactly k times. Note that k is guaranteed to be a positive integer.\n",
        "\n",
        "You may assume that the input string is always valid; there are no extra white spaces, square brackets are well-formed, etc. Furthermore, you may assume that the original data does not contain any digits and that digits are only for those repeat numbers, k. For example, there will not be input like 3a or 2[4].\n",
        "\n",
        "The test cases are generated so that the length of the output will never exceed 105.\n",
        "\n",
        "**Example 1:**\n",
        "\n",
        "**Input:** s = \"3[a]2[bc]\"\n",
        "\n",
        "**Output:** \"aaabcbc\""
      ],
      "metadata": {
        "id": "iC7fjTSdJkEg"
      }
    },
    {
      "cell_type": "code",
      "source": [
        "def decodeString(s):\n",
        "    stack = []\n",
        "\n",
        "    for char in s:\n",
        "        if char == ']':\n",
        "            encodedString = ''\n",
        "            while stack and stack[-1] != '[':\n",
        "                encodedString = stack.pop() + encodedString\n",
        "\n",
        "            stack.pop()  # Pop the '['\n",
        "\n",
        "            k = int(stack.pop())  # Pop the repetition count\n",
        "            repeatedString = encodedString * k\n",
        "            stack.append(repeatedString)\n",
        "        else:\n",
        "            stack.append(char)\n",
        "\n",
        "    return ''.join(stack[::-1])  # Reverse the stack and concatenate the characters\n",
        "\n",
        "\n",
        "# Example usage:\n",
        "s = \"3[a]2[bc]\"\n",
        "decodedString = decodeString(s)\n",
        "print(decodedString)\n"
      ],
      "metadata": {
        "colab": {
          "base_uri": "https://localhost:8080/"
        },
        "id": "3FpwTFfaJeUH",
        "outputId": "2014b778-69cf-4359-e03d-952f1b3a0f67"
      },
      "execution_count": 7,
      "outputs": [
        {
          "output_type": "stream",
          "name": "stdout",
          "text": [
            "bcbcaaa\n"
          ]
        }
      ]
    },
    {
      "cell_type": "markdown",
      "source": [
        "Given two strings s and goal, return true *if you can swap two letters in* s *so the result is equal to* goal*, otherwise, return* false*.*\n",
        "\n",
        "Swapping letters is defined as taking two indices i and j (0-indexed) such that i != j and swapping the characters at s[i] and s[j].\n",
        "\n",
        "- For example, swapping at indices 0 and 2 in \"abcd\" results in \"cbad\".\n",
        "\n",
        "**Example 1:**\n",
        "\n",
        "**Input:** s = \"ab\", goal = \"ba\"\n",
        "\n",
        "**Output:** true\n",
        "\n",
        "**Explanation:** You can swap s[0] = 'a' and s[1] = 'b' to get \"ba\", which is equal to goal."
      ],
      "metadata": {
        "id": "dnvhZODrKXmU"
      }
    },
    {
      "cell_type": "code",
      "source": [
        "def buddyStrings(s, goal):\n",
        "    if len(s) != len(goal):\n",
        "        return False\n",
        "\n",
        "    mismatchS = []\n",
        "    mismatchGoal = []\n",
        "\n",
        "    for charS, charGoal in zip(s, goal):\n",
        "        if charS != charGoal:\n",
        "            mismatchS.append(charS)\n",
        "            mismatchGoal.append(charGoal)\n",
        "\n",
        "    if len(mismatchS) == 0:\n",
        "        return len(set(s)) < len(s)\n",
        "\n",
        "    if len(mismatchS) != 2:\n",
        "        return False\n",
        "\n",
        "    return mismatchS[0] == mismatchGoal[1] and mismatchS[1] == mismatchGoal[0]\n",
        "\n",
        "\n",
        "# Example usage:\n",
        "s = \"ab\"\n",
        "goal = \"ba\"\n",
        "result = buddyStrings(s, goal)\n",
        "print(result)\n"
      ],
      "metadata": {
        "colab": {
          "base_uri": "https://localhost:8080/"
        },
        "id": "jLJ3Jz6hJsbj",
        "outputId": "a022d410-f6be-4af3-d8f4-1e6e677a806d"
      },
      "execution_count": 8,
      "outputs": [
        {
          "output_type": "stream",
          "name": "stdout",
          "text": [
            "True\n"
          ]
        }
      ]
    },
    {
      "cell_type": "code",
      "source": [],
      "metadata": {
        "id": "pmkrAehDKpwc"
      },
      "execution_count": null,
      "outputs": []
    }
  ]
}