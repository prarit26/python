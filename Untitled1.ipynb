{
  "nbformat": 4,
  "nbformat_minor": 0,
  "metadata": {
    "colab": {
      "provenance": [],
      "authorship_tag": "ABX9TyOOSyNjU6vDZwskzYKUDXtf",
      "include_colab_link": true
    },
    "kernelspec": {
      "name": "python3",
      "display_name": "Python 3"
    },
    "language_info": {
      "name": "python"
    }
  },
  "cells": [
    {
      "cell_type": "markdown",
      "metadata": {
        "id": "view-in-github",
        "colab_type": "text"
      },
      "source": [
        "<a href=\"https://colab.research.google.com/github/prarit26/python/blob/main/Untitled1.ipynb\" target=\"_parent\"><img src=\"https://colab.research.google.com/assets/colab-badge.svg\" alt=\"Open In Colab\"/></a>"
      ]
    },
    {
      "cell_type": "markdown",
      "source": [
        "<aside>\n",
        "💡 **Q1.** Given an array of integers nums and an integer target, return indices of the two numbers such that they add up to target.\n",
        "\n",
        "You may assume that each input would have exactly one solution, and you may not use the same element twice.\n",
        "\n",
        "You can return the answer in any order.\n",
        "\n",
        "**Example:**\n",
        "Input: nums = [2,7,11,15], target = 9\n",
        "Output0 [0,1]\n",
        "\n",
        "**Explanation:** Because nums[0] + nums[1] == 9, we return [0, 1][\n",
        "\n",
        "</aside>"
      ],
      "metadata": {
        "id": "ylAkQMy2uwqC"
      }
    },
    {
      "cell_type": "code",
      "execution_count": null,
      "metadata": {
        "colab": {
          "base_uri": "https://localhost:8080/"
        },
        "id": "SGKDSbpRdbeR",
        "outputId": "4c56003d-7d21-412a-d9cb-2bf51aa4a4cd"
      },
      "outputs": [
        {
          "output_type": "stream",
          "name": "stdout",
          "text": [
            "[[0, 1]]\n"
          ]
        }
      ],
      "source": [
        " def summ(ag,no):\n",
        "    nums=sorted(ag)\n",
        "    lo=0\n",
        "    a=[]\n",
        "    hi=len(ag)-1\n",
        "    #print(hi)\n",
        "    while (lo < hi):\n",
        "            sum =  nums[lo] + nums[hi] - no\n",
        "            #print(sum,nums[lo] ,nums[hi])\n",
        "            if sum < 0:\n",
        "                lo += 1\n",
        "            elif sum > 0:\n",
        "                hi -= 1\n",
        "            else:\n",
        "                lo1=ag.index(nums[lo])\n",
        "                hi1=ag.index(nums[hi])\n",
        "                a.append([ lo1, hi1])\n",
        "                lo += 1\n",
        "                hi -= 1\n",
        "                while lo < hi and nums[lo] == nums[lo - 1]:\n",
        "                    lo += 1\n",
        "    return a\n",
        "           \n",
        "b=summ([2,7,11,15],9)\n",
        "print(b)"
      ]
    },
    {
      "cell_type": "markdown",
      "source": [
        "<aside>\n",
        "💡 **.** Given an integer array nums and an integer val, remove all occurrences of val in nums in-place. The order of the elements may be changed. Then return the number of elements in nums which are not equal to val.\n",
        "\n",
        "Consider the number of elements in nums which are not equal to val be k, to get accepted, you need to do the following things:\n",
        "\n",
        "- Change the array nums such that the first k elements of nums contain the elements which are not equal to val. The remaining elements of nums are not important as well as the size of nums.\n",
        "- Return k.\n",
        "\n",
        "**Example :**\n",
        "Input: nums = [3,2,2,3], val = 3\n",
        "Output: 2, nums = [2,2,_*,_*]\n",
        "\n",
        "**Explanation:** Your function should return k = 2, with the first two elements of nums being 2. It does not matter what you leave beyond the returned k (hence they are underscores)[\n",
        "\n",
        "</aside>"
      ],
      "metadata": {
        "id": "pBU0zCCTu1Um"
      }
    },
    {
      "cell_type": "code",
      "source": [
        "def removeElement(nums, val):\n",
        "    i = 0\n",
        "    for j in range(len(nums)):\n",
        "        if nums[j] != val:\n",
        "            nums[i] = nums[j]\n",
        "            i += 1\n",
        "    return i\n",
        "nums = [3, 2, 2, 3]\n",
        "val = 3\n",
        "result = removeElement(nums, val)\n",
        "print(result)  \n",
        "print(nums)    "
      ],
      "metadata": {
        "colab": {
          "base_uri": "https://localhost:8080/"
        },
        "id": "tTxQFn71dfeA",
        "outputId": "c46c1852-0158-43b7-d853-5d63d48e6e29"
      },
      "execution_count": null,
      "outputs": [
        {
          "output_type": "stream",
          "name": "stdout",
          "text": [
            "2\n",
            "[2, 2, 2, 3]\n"
          ]
        }
      ]
    },
    {
      "cell_type": "markdown",
      "source": [
        "<aside>\n",
        "💡 **Q3.** Given a sorted array of distinct integers and a target value, return the index if the target is found. If not, return the index where it would be if it were inserted in order.\n",
        "\n",
        "You must write an algorithm with O(log n) runtime complexity.\n",
        "\n",
        "**Example 1:**\n",
        "Input: nums = [1,3,5,6], target = 5\n",
        "\n",
        "Output: 2\n",
        "\n",
        "</aside>"
      ],
      "metadata": {
        "id": "67IM2YaSu650"
      }
    },
    {
      "cell_type": "code",
      "source": [
        "def sortg(nums,target):\n",
        "  i=0\n",
        "  b=[]\n",
        "  while i<len(nums):\n",
        "    if nums[i]== target:\n",
        "      b.append(i)\n",
        "    i=i+1\n",
        "  print(b)\n",
        "\n",
        "sortg([1,3,5,6],5)"
      ],
      "metadata": {
        "colab": {
          "base_uri": "https://localhost:8080/"
        },
        "id": "GtzHD2sLf9zf",
        "outputId": "31c1d61d-276d-4282-b3a0-61181d9684b5"
      },
      "execution_count": null,
      "outputs": [
        {
          "output_type": "stream",
          "name": "stdout",
          "text": [
            "[2]\n"
          ]
        }
      ]
    },
    {
      "cell_type": "code",
      "source": [
        "def sortg(nums, target):\n",
        "    left, right = 0, len(nums) - 1\n",
        "    while left <= right:\n",
        "        mid = (left + right) // 2\n",
        "        if nums[mid] == target:\n",
        "            return mid\n",
        "        elif nums[mid] < target:\n",
        "            left = mid + 1\n",
        "        else:\n",
        "            right = mid - 1\n",
        "    return left\n",
        "sortg([1,3,5,6],5)"
      ],
      "metadata": {
        "colab": {
          "base_uri": "https://localhost:8080/"
        },
        "id": "_-w0zYEIg3Z8",
        "outputId": "38cf4447-5d0d-48ec-fd1a-41e9b56defdf"
      },
      "execution_count": null,
      "outputs": [
        {
          "output_type": "execute_result",
          "data": {
            "text/plain": [
              "2"
            ]
          },
          "metadata": {},
          "execution_count": 7
        }
      ]
    },
    {
      "cell_type": "markdown",
      "source": [
        "<aside>\n",
        "💡 **Q4.** You are given a large integer represented as an integer array digits, where each digits[i] is the ith digit of the integer. The digits are ordered from most significant to least significant in left-to-right order. The large integer does not contain any leading 0's.\n",
        "\n",
        "Increment the large integer by one and return the resulting array of digits.\n",
        "\n",
        "**Example 1:**\n",
        "Input: digits = [1,2,3]\n",
        "Output: [1,2,4]\n",
        "\n",
        "**Explanation:** The array represents the integer 123.\n",
        "\n",
        "Incrementing by one gives 123 + 1 = 124.\n",
        "Thus, the result should be [1,2,4].\n",
        "\n",
        "</aside>"
      ],
      "metadata": {
        "id": "Ow0__yj6vACB"
      }
    },
    {
      "cell_type": "code",
      "source": [
        "def result(a):\n",
        "  carry =1\n",
        "  for i in range(len(a)-1,-1,-1):\n",
        "    a[i]=a[i]+1\n",
        "    if a[i]==10:\n",
        "      a[i]=0\n",
        "      if i==0:\n",
        "        a.insert(0,1)\n",
        "      continue\n",
        "    else :\n",
        "      break\n",
        "  return a\n",
        "    \n",
        "result([1,2,3])"
      ],
      "metadata": {
        "colab": {
          "base_uri": "https://localhost:8080/"
        },
        "id": "l1352yOciIW8",
        "outputId": "29f8ed6b-f364-4251-d496-ae7d5c2de0cb"
      },
      "execution_count": null,
      "outputs": [
        {
          "output_type": "execute_result",
          "data": {
            "text/plain": [
              "[1, 2, 4]"
            ]
          },
          "metadata": {},
          "execution_count": 25
        }
      ]
    },
    {
      "cell_type": "markdown",
      "source": [
        "<aside>\n",
        "💡 **Q5.** You are given two integer arrays nums1 and nums2, sorted in non-decreasing order, and two integers m and n, representing the number of elements in nums1 and nums2 respectively.\n",
        "\n",
        "Merge nums1 and nums2 into a single array sorted in non-decreasing order.\n",
        "\n",
        "The final sorted array should not be returned by the function, but instead be stored inside the array nums1. To accommodate this, nums1 has a length of m + n, where the first m elements denote the elements that should be merged, and the last n elements are set to 0 and should be ignored. nums2 has a length of n.\n",
        "\n",
        "**Example 1:**\n",
        "Input: nums1 = [1,2,3,0,0,0], m = 3, nums2 = [2,5,6], n = 3\n",
        "Output: [1,2,2,3,5,6]\n",
        "\n",
        "**Explanation:** The arrays we are merging are [1,2,3] and [2,5,6].\n",
        "The result of the merge is [1,2,2,3,5,6] with the underlined elements coming from nums1.\n",
        "\n",
        "</aside>"
      ],
      "metadata": {
        "id": "2g5uris_vDNY"
      }
    },
    {
      "cell_type": "code",
      "source": [
        "def test(num1,m,num2,n):\n",
        "  num11=num1[0:m]\n",
        "  \n",
        "  p,p1,p2=0,0,0\n",
        "  \n",
        "\n",
        "  while p<=m+n:\n",
        "    if p1<=m &p<m:\n",
        "      num1[p]=num11[p1]\n",
        "      p1=p1+1\n",
        "    elif p2<=n & p>=m:\n",
        "      num1[p]=num2[p2]\n",
        "      print(num2[p2],n,p2,p)\n",
        "      p2=p2+1\n",
        "    p=p+1\n",
        "    print(p)\n",
        "  print(num1)\n",
        "test([1,2,3,0,0,0],3,[2,5,6],3)"
      ],
      "metadata": {
        "id": "APlPxD6OmUtZ",
        "colab": {
          "base_uri": "https://localhost:8080/"
        },
        "outputId": "6b291c47-4e32-4ea8-c99a-b93997b98b4d"
      },
      "execution_count": 1,
      "outputs": [
        {
          "output_type": "stream",
          "name": "stdout",
          "text": [
            "1\n",
            "2\n",
            "3\n",
            "2 3 0 3\n",
            "4\n",
            "5\n",
            "6\n",
            "7\n",
            "[1, 2, 3, 2, 0, 0]\n"
          ]
        }
      ]
    },
    {
      "cell_type": "markdown",
      "source": [],
      "metadata": {
        "id": "nF8m3cYdvFuv"
      }
    },
    {
      "cell_type": "code",
      "source": [
        "def merge(nums1, m, nums2, n):\n",
        "    p1 = m - 1\n",
        "    p2 = n - 1\n",
        "    p = m + n - 1\n",
        "\n",
        "    while p1 >= 0 and p2 >= 0:\n",
        "        if nums1[p1] > nums2[p2]:\n",
        "            nums1[p] = nums1[p1]\n",
        "            p1 -= 1\n",
        "        else:\n",
        "            nums1[p] = nums2[p2]\n",
        "            p2 -= 1\n",
        "        p -= 1\n",
        "\n",
        "    # Copy remaining elements from nums2 to nums1\n",
        "    nums1[:p2 + 1] = nums2[:p2 + 1]\n",
        "\n",
        "# Test case\n",
        "nums1 = [1, 2, 3, 0, 0, 0]\n",
        "m = 3\n",
        "nums2 = [2, 5, 6]\n",
        "n = 3\n",
        "merge(nums1, m, nums2, n)\n",
        "print(nums1)"
      ],
      "metadata": {
        "colab": {
          "base_uri": "https://localhost:8080/"
        },
        "id": "9a8olSjvKB_B",
        "outputId": "0ed0c3f1-11a5-4b57-8f64-49387506128f"
      },
      "execution_count": 6,
      "outputs": [
        {
          "output_type": "stream",
          "name": "stdout",
          "text": [
            "[1, 2, 2, 3, 5, 6]\n"
          ]
        }
      ]
    },
    {
      "cell_type": "markdown",
      "source": [
        "<aside>\n",
        "💡 **Q6.** Given an integer array nums, return true if any value appears at least twice in the array, and return false if every element is distinct.\n",
        "\n",
        "**Example 1:**\n",
        "Input: nums = [1,2,3,1]\n",
        "\n",
        "Output: true\n",
        "\n",
        "</aside>"
      ],
      "metadata": {
        "id": "Ji_84FxKvIRE"
      }
    },
    {
      "cell_type": "code",
      "source": [
        "def containsDuplicate(nums):\n",
        "    seen = set()\n",
        "    for num in nums:\n",
        "        if num in seen:\n",
        "            return True\n",
        "        seen.add(num)\n",
        "    return False\n",
        "\n",
        "# Test case\n",
        "nums = [1, 2, 3, 1]\n",
        "print(containsDuplicate(nums))"
      ],
      "metadata": {
        "id": "_LKlrLlBQwfo",
        "colab": {
          "base_uri": "https://localhost:8080/"
        },
        "outputId": "7fa656f1-573f-407f-fe08-f7c5b9f00cee"
      },
      "execution_count": 2,
      "outputs": [
        {
          "output_type": "stream",
          "name": "stdout",
          "text": [
            "True\n"
          ]
        }
      ]
    },
    {
      "cell_type": "markdown",
      "source": [
        "💡 **Q7.** Given an integer array nums, move all 0's to the end of it while maintaining the relative order of the nonzero elements.\n",
        "Note that you must do this in-place without making a copy of the array.\n",
        "\n",
        "Example 1: Input: nums = [0,1,0,3,12] Output: [1,3,12,0,0]"
      ],
      "metadata": {
        "id": "vV1cRJzVvS7p"
      }
    },
    {
      "cell_type": "code",
      "source": [
        "def moveZeroes(nums):\n",
        "    left = 0\n",
        "    right = 0\n",
        "\n",
        "    while right < len(nums):\n",
        "        if nums[right] != 0:\n",
        "            nums[left], nums[right] = nums[right], nums[left]\n",
        "            left += 1\n",
        "        right += 1\n",
        "\n",
        "    while left < len(nums):\n",
        "        nums[left] = 0\n",
        "        left += 1\n",
        "\n",
        "# Test case\n",
        "nums = [0, 1, 0, 3, 12]\n",
        "moveZeroes(nums)\n",
        "print(nums)"
      ],
      "metadata": {
        "colab": {
          "base_uri": "https://localhost:8080/"
        },
        "id": "cXPxdr8FtoHs",
        "outputId": "8bd9be4a-8220-4f87-f22b-b1492768fdca"
      },
      "execution_count": 3,
      "outputs": [
        {
          "output_type": "stream",
          "name": "stdout",
          "text": [
            "[1, 3, 12, 0, 0]\n"
          ]
        }
      ]
    },
    {
      "cell_type": "markdown",
      "source": [
        "<aside>\n",
        "💡 **Q8.** You have a set of integers s, which originally contains all the numbers from 1 to n. Unfortunately, due to some error, one of the numbers in s got duplicated to another number in the set, which results in repetition of one number and loss of another number.\n",
        "\n",
        "You are given an integer array nums representing the data status of this set after the error.\n",
        "\n",
        "Find the number that occurs twice and the number that is missing and return them in the form of an array.\n",
        "\n",
        "**Example 1:**\n",
        "Input: nums = [1,2,2,4]\n",
        "Output: [2,3]\n",
        "\n",
        "</aside>"
      ],
      "metadata": {
        "id": "xZ6RMxMCvU7e"
      }
    },
    {
      "cell_type": "code",
      "source": [
        "def findErrorNums(nums):\n",
        "    num_set = set()\n",
        "    duplicate = -1\n",
        "    expected_sum = 0\n",
        "\n",
        "    for num in nums:\n",
        "        if num in num_set:\n",
        "            duplicate = num\n",
        "        num_set.add(num)\n",
        "        expected_sum += num\n",
        "\n",
        "    actual_sum = sum(nums)\n",
        "    missing = actual_sum - expected_sum\n",
        "\n",
        "    return [duplicate, missing]\n",
        "\n",
        "# Test case\n",
        "nums = [1, 2, 2, 4]\n",
        "print(findErrorNums(nums))"
      ],
      "metadata": {
        "colab": {
          "base_uri": "https://localhost:8080/"
        },
        "id": "WiG5S6DNt4SW",
        "outputId": "93f483f8-29f5-41ad-92bf-63ce62801401"
      },
      "execution_count": 5,
      "outputs": [
        {
          "output_type": "stream",
          "name": "stdout",
          "text": [
            "[2, 0]\n"
          ]
        }
      ]
    },
    {
      "cell_type": "code",
      "source": [],
      "metadata": {
        "id": "Imc2CcdSuCz_"
      },
      "execution_count": null,
      "outputs": []
    }
  ]
}