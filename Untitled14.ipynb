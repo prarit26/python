{
  "nbformat": 4,
  "nbformat_minor": 0,
  "metadata": {
    "colab": {
      "provenance": [],
      "authorship_tag": "ABX9TyNqksomhD6W9sHrghCC0ZXY",
      "include_colab_link": true
    },
    "kernelspec": {
      "name": "python3",
      "display_name": "Python 3"
    },
    "language_info": {
      "name": "python"
    }
  },
  "cells": [
    {
      "cell_type": "markdown",
      "metadata": {
        "id": "view-in-github",
        "colab_type": "text"
      },
      "source": [
        "<a href=\"https://colab.research.google.com/github/prarit26/python/blob/main/Untitled14.ipynb\" target=\"_parent\"><img src=\"https://colab.research.google.com/assets/colab-badge.svg\" alt=\"Open In Colab\"/></a>"
      ]
    },
    {
      "cell_type": "markdown",
      "source": [
        "Given a linked list of **N** nodes such that it may contain a loop.\n",
        "\n",
        "A loop here means that the last node of the link list is connected to the node at position X(1-based index). If the link list does not have any loop, X=0.\n",
        "\n",
        "Remove the loop from the linked list, if it is present, i.e. unlink the last node which is forming the loop.\n",
        "\n",
        "**Example 1:**"
      ],
      "metadata": {
        "id": "aJzau7VHKs_4"
      }
    },
    {
      "cell_type": "code",
      "execution_count": 1,
      "metadata": {
        "colab": {
          "base_uri": "https://localhost:8080/"
        },
        "id": "zm9Y9eZ1KsSw",
        "outputId": "201236ea-9d17-4bc7-c917-762d177554fc"
      },
      "outputs": [
        {
          "output_type": "stream",
          "name": "stdout",
          "text": [
            "1 -> 3 -> 4 -> "
          ]
        }
      ],
      "source": [
        "class Node:\n",
        "    def __init__(self, data=None):\n",
        "        self.data = data\n",
        "        self.next = None\n",
        "\n",
        "\n",
        "def remove_loop(head):\n",
        "    if not head:\n",
        "        return None\n",
        "\n",
        "    slow_ptr = head\n",
        "    fast_ptr = head\n",
        "\n",
        "    # Detect the loop\n",
        "    while fast_ptr and fast_ptr.next:\n",
        "        slow_ptr = slow_ptr.next\n",
        "        fast_ptr = fast_ptr.next.next\n",
        "\n",
        "        if slow_ptr == fast_ptr:\n",
        "            break\n",
        "\n",
        "    # If there is no loop, return the original linked list\n",
        "    if slow_ptr != fast_ptr:\n",
        "        return head\n",
        "\n",
        "    # Move slow_ptr back to the head\n",
        "    slow_ptr = head\n",
        "\n",
        "    # Move both pointers one step at a time until they meet again\n",
        "    while slow_ptr.next != fast_ptr.next:\n",
        "        slow_ptr = slow_ptr.next\n",
        "        fast_ptr = fast_ptr.next\n",
        "\n",
        "    # Remove the loop by setting the next pointer of the node where the loop starts to None\n",
        "    fast_ptr.next = None\n",
        "\n",
        "    return head\n",
        "# Create the linked list: 1 -> 3 -> 4 -> (loop to 2)\n",
        "list1 = Node(1)\n",
        "list1.next = Node(3)\n",
        "list1.next.next = Node(4)\n",
        "list1.next.next.next = list1.next  # Creating a loop\n",
        "\n",
        "# Call the function to remove the loop from the linked list\n",
        "result = remove_loop(list1)\n",
        "\n",
        "# Print the modified linked list after removing the loop\n",
        "current = result\n",
        "while current:\n",
        "    print(current.data, end=\" -> \")\n",
        "    current = current.next\n"
      ]
    },
    {
      "cell_type": "markdown",
      "source": [
        "A number N is represented in Linked List such that each digit corresponds to a node in linked list. You need to add 1 to it."
      ],
      "metadata": {
        "id": "Hw5XrEd6K6f_"
      }
    },
    {
      "cell_type": "code",
      "source": [
        "class Node:\n",
        "    def __init__(self, data=None):\n",
        "        self.data = data\n",
        "        self.next = None\n",
        "\n",
        "\n",
        "def reverse_linked_list(head):\n",
        "    prev = None\n",
        "    current = head\n",
        "\n",
        "    while current:\n",
        "        next_node = current.next\n",
        "        current.next = prev\n",
        "        prev = current\n",
        "        current = next_node\n",
        "\n",
        "    return prev\n",
        "\n",
        "\n",
        "def add_one_to_linked_list(head):\n",
        "    # Reverse the linked list\n",
        "    head = reverse_linked_list(head)\n",
        "\n",
        "    current = head\n",
        "    carry = 1\n",
        "\n",
        "    while current:\n",
        "        sum_val = current.data + carry\n",
        "        current.data = sum_val % 10\n",
        "        carry = sum_val // 10\n",
        "\n",
        "        if carry == 0:\n",
        "            break\n",
        "\n",
        "        current = current.next\n",
        "\n",
        "    if carry > 0:\n",
        "        current.next = Node(carry)\n",
        "\n",
        "    # Reverse the linked list again to restore the original order\n",
        "    head = reverse_linked_list(head)\n",
        "\n",
        "    return head\n",
        "\n",
        "\n",
        "# Create the linked list: 4 -> 5 -> 6\n",
        "list1 = Node(4)\n",
        "list1.next = Node(5)\n",
        "list1.next.next = Node(6)\n",
        "\n",
        "# Call the function to add 1 to the linked list\n",
        "result = add_one_to_linked_list(list1)\n",
        "\n",
        "# Print the modified linked list\n",
        "current = result\n",
        "while current:\n",
        "    print(current.data, end=\"\")\n",
        "    current = current.next\n",
        "\n"
      ],
      "metadata": {
        "colab": {
          "base_uri": "https://localhost:8080/"
        },
        "id": "WoCvDJePK03h",
        "outputId": "c26969fe-e024-4bf9-dd38-fa35b9fc34f0"
      },
      "execution_count": 2,
      "outputs": [
        {
          "output_type": "stream",
          "name": "stdout",
          "text": [
            "457"
          ]
        }
      ]
    },
    {
      "cell_type": "markdown",
      "source": [
        "Given a Linked List of size N, where every node represents a sub-linked-list and contains two pointers:(i) a next pointer to the next node,(ii) a bottom pointer to a linked list where this node is head.Each of the sub-linked-list is in sorted order.Flatten the Link List such that all the nodes appear in a single level while maintaining the sorted order. Note: The flattened list will be printed using the bottom pointer instead of next pointer."
      ],
      "metadata": {
        "id": "bm-NSLrfLJ08"
      }
    },
    {
      "cell_type": "code",
      "source": [
        "class Node:\n",
        "    def __init__(self, data=None):\n",
        "        self.data = data\n",
        "        self.next = None\n",
        "        self.bottom = None\n",
        "\n",
        "\n",
        "def merge_sorted_lists(a, b):\n",
        "    if not a:\n",
        "        return b\n",
        "    if not b:\n",
        "        return a\n",
        "\n",
        "    result = None\n",
        "    if a.data <= b.data:\n",
        "        result = a\n",
        "        result.bottom = merge_sorted_lists(a.bottom, b)\n",
        "    else:\n",
        "        result = b\n",
        "        result.bottom = merge_sorted_lists(a, b.bottom)\n",
        "\n",
        "    result.next = None\n",
        "    return result\n",
        "\n",
        "\n",
        "def flatten_linked_list(head):\n",
        "    if not head or not head.next:\n",
        "        return head\n",
        "\n",
        "    # Recursively flatten the sub-linked list\n",
        "    head.next = flatten_linked_list(head.next)\n",
        "\n",
        "    # Merge the current level list with the flattened sub-linked list\n",
        "    head = merge_sorted_lists(head, head.next)\n",
        "\n",
        "    return head\n",
        "\n",
        "\n",
        "def print_linked_list(head):\n",
        "    current = head\n",
        "    while current:\n",
        "        print(current.data, end=\"-> \")\n",
        "        current = current.bottom\n",
        "    print(\"None\")\n",
        "\n",
        "\n",
        "# Create the linked list with sub-linked lists\n",
        "list1 = Node(5)\n",
        "list1.next = Node(10)\n",
        "list1.next.next = Node(19)\n",
        "list1.next.next.next = Node(28)\n",
        "\n",
        "list1.bottom = Node(7)\n",
        "list1.bottom.bottom = Node(8)\n",
        "list1.bottom.bottom.bottom = Node(30)\n",
        "\n",
        "list1.next.bottom = Node(20)\n",
        "\n",
        "list1.next.next.bottom = Node(22)\n",
        "list1.next.next.next.bottom = Node(35)\n",
        "\n",
        "list1.next.bottom.bottom = Node(50)\n",
        "\n",
        "list1.next.next.next.bottom = Node(40)\n",
        "list1.next.next.next.bottom.bottom = Node(45)\n",
        "\n",
        "# Flatten the linked list\n",
        "result = flatten_linked_list(list1)\n",
        "\n",
        "# Print the flattened linked list\n",
        "print_linked_list(result)\n"
      ],
      "metadata": {
        "colab": {
          "base_uri": "https://localhost:8080/"
        },
        "id": "rJCQeTf7LEuo",
        "outputId": "bde76d27-6a53-4d78-fe97-35243424cc58"
      },
      "execution_count": 3,
      "outputs": [
        {
          "output_type": "stream",
          "name": "stdout",
          "text": [
            "5-> 7-> 8-> 10-> 19-> 20-> 22-> 28-> 30-> 40-> 45-> 50-> None\n"
          ]
        }
      ]
    },
    {
      "cell_type": "markdown",
      "source": [
        "<aside>\n",
        "💡 **Question 4**\n",
        "\n",
        "You are given a special linked list with **N** nodes where each node has a next pointer pointing to its next node. You are also given **M** random pointers, where you will be given **M** number of pairs denoting two nodes **a** and **b**  **i.e. a->arb = b** (arb is pointer to random node)**.**\n",
        "\n",
        "Construct a copy of the given list. The copy should consist of exactly **N** new nodes, where each new node has its value set to the value of its corresponding original node. Both the next and random pointer of the new nodes should point to new nodes in the copied list such that the pointers in the original list and copied list represent the same list state. None of the pointers in the new list should point to nodes in the original list.\n",
        "\n",
        "For example, if there are two nodes **X** and **Y** in the original list, where **X.arb** **-->** **Y**, then for the corresponding two nodes **x** and **y** in the copied list, **x.arb --> y.**\n",
        "\n",
        "Return the head of the copied linked list.\n",
        "\n",
        "</aside>"
      ],
      "metadata": {
        "id": "IyPrpaH6LeMl"
      }
    },
    {
      "cell_type": "code",
      "source": [
        "class Node:\n",
        "    def __init__(self, data):\n",
        "        self.data = data\n",
        "        self.next = None\n",
        "        self.random = None\n",
        "\n",
        "\n",
        "def copyRandomList(head):\n",
        "    if not head:\n",
        "        return None\n",
        "\n",
        "    # Create a hashmap to store the mapping between original nodes and new nodes\n",
        "    node_map = {}\n",
        "\n",
        "    # Create new nodes and store the mapping\n",
        "    current = head\n",
        "    while current:\n",
        "        new_node = Node(current.data)\n",
        "        node_map[current] = new_node\n",
        "        current = current.next\n",
        "\n",
        "    # Set the next and random pointers of the new nodes\n",
        "    current = head\n",
        "    while current:\n",
        "        new_node = node_map[current]\n",
        "        new_node.next = node_map.get(current.next)\n",
        "        new_node.random = node_map.get(current.random)\n",
        "        current = current.next\n",
        "\n",
        "    # Return the head of the copied linked list\n",
        "    return node_map[head]\n",
        "\n",
        "\n",
        "# Create the original linked list\n",
        "head = Node(1)\n",
        "node2 = Node(2)\n",
        "node3 = Node(3)\n",
        "node4 = Node(4)\n",
        "\n",
        "head.next = node2\n",
        "node2.next = node3\n",
        "node3.next = node4\n",
        "\n",
        "head.random = node2\n",
        "node2.random = node4\n",
        "\n",
        "# Copy the linked list\n",
        "copied_head = copyRandomList(head)\n",
        "\n",
        "# Print the values and random pointers of the copied linked list\n",
        "current = copied_head\n",
        "while current:\n",
        "    random_value = current.random.data if current.random else None\n",
        "    print(f\"Value: {current.data}, Random: {random_value}\")\n",
        "    current = current.next\n"
      ],
      "metadata": {
        "colab": {
          "base_uri": "https://localhost:8080/"
        },
        "id": "Zh20lQJVLX1M",
        "outputId": "5cf717a1-d493-43b3-8cdc-138a61923fc8"
      },
      "execution_count": 4,
      "outputs": [
        {
          "output_type": "stream",
          "name": "stdout",
          "text": [
            "Value: 1, Random: 2\n",
            "Value: 2, Random: 4\n",
            "Value: 3, Random: None\n",
            "Value: 4, Random: None\n"
          ]
        }
      ]
    },
    {
      "cell_type": "markdown",
      "source": [
        "Given the `head` of a singly linked list, group all the nodes with odd indices together followed by the nodes with even indices, and return *the reordered list*.\n",
        "\n",
        "The **first** node is considered **odd**, and the **second** node is **even**, and so on.\n",
        "\n",
        "Note that the relative order inside both the even and odd groups should remain as it was in the input.\n",
        "\n",
        "You must solve the problem in `O(1)` extra space complexity and `O(n)` time complexity."
      ],
      "metadata": {
        "id": "61LapkG6LxJ3"
      }
    },
    {
      "cell_type": "code",
      "source": [
        "class ListNode:\n",
        "    def __init__(self, val=0, next=None):\n",
        "        self.val = val\n",
        "        self.next = next\n",
        "\n",
        "\n",
        "def oddEvenList(head):\n",
        "    if not head or not head.next:\n",
        "        return head\n",
        "\n",
        "    odd_head = ListNode()\n",
        "    even_head = ListNode()\n",
        "    odd_tail = odd_head\n",
        "    even_tail = even_head\n",
        "\n",
        "    current = head\n",
        "    index = 1\n",
        "\n",
        "    while current:\n",
        "        if index % 2 == 1:\n",
        "            odd_tail.next = current\n",
        "            odd_tail = odd_tail.next\n",
        "        else:\n",
        "            even_tail.next = current\n",
        "            even_tail = even_tail.next\n",
        "\n",
        "        current = current.next\n",
        "        index += 1\n",
        "\n",
        "    odd_tail.next = even_head.next\n",
        "    even_tail.next = None\n",
        "\n",
        "    return odd_head.next\n",
        "\n",
        "\n",
        "# Create the original linked list [1, 2, 3, 4, 5]\n",
        "head = ListNode(1)\n",
        "node2 = ListNode(2)\n",
        "node3 = ListNode(3)\n",
        "node4 = ListNode(4)\n",
        "node5 = ListNode(5)\n",
        "\n",
        "head.next = node2\n",
        "node2.next = node3\n",
        "node3.next = node4\n",
        "node4.next = node5\n",
        "\n",
        "# Group the nodes with odd indices together followed by the nodes with even indices\n",
        "reordered_list = oddEvenList(head)\n",
        "\n",
        "# Print the reordered list\n",
        "current = reordered_list\n",
        "while current:\n",
        "    print(current.val)\n",
        "    current = current.next\n"
      ],
      "metadata": {
        "colab": {
          "base_uri": "https://localhost:8080/"
        },
        "id": "ImvXXlY0LrZx",
        "outputId": "120a19e2-8b94-4e2e-d522-ba19d6e28b41"
      },
      "execution_count": 5,
      "outputs": [
        {
          "output_type": "stream",
          "name": "stdout",
          "text": [
            "1\n",
            "3\n",
            "5\n",
            "2\n",
            "4\n"
          ]
        }
      ]
    },
    {
      "cell_type": "markdown",
      "source": [
        "Given a singly linked list of size N. The task is to left-shift the linked list by k nodes, where k is a given positive integer smaller than or equal to length of the linked list."
      ],
      "metadata": {
        "id": "6_vj5AXZMADz"
      }
    },
    {
      "cell_type": "code",
      "source": [
        "class ListNode:\n",
        "    def __init__(self, val=0, next=None):\n",
        "        self.val = val\n",
        "        self.next = next\n",
        "\n",
        "\n",
        "def leftShiftLinkedList(head, k):\n",
        "    if not head or not head.next or k == 0:\n",
        "        return head\n",
        "\n",
        "    # Calculate the length of the linked list\n",
        "    length = 0\n",
        "    current = head\n",
        "    while current:\n",
        "        length += 1\n",
        "        current = current.next\n",
        "\n",
        "    # Adjust the value of k to be within the length of the linked list\n",
        "    k %= length\n",
        "\n",
        "    if k == 0:\n",
        "        return head\n",
        "\n",
        "    # Find the k+1th node from the start of the linked list\n",
        "    slow = head\n",
        "    fast = head\n",
        "\n",
        "    for _ in range(k):\n",
        "        fast = fast.next\n",
        "\n",
        "    while fast.next:\n",
        "        slow = slow.next\n",
        "        fast = fast.next\n",
        "\n",
        "    new_head = slow.next\n",
        "    slow.next = None\n",
        "    fast.next = head\n",
        "\n",
        "    return new_head\n",
        "\n",
        "\n",
        "# Create the original linked list [2, 4, 7, 8, 9]\n",
        "head = ListNode(2)\n",
        "node2 = ListNode(4)\n",
        "node3 = ListNode(7)\n",
        "node4 = ListNode(8)\n",
        "node5 = ListNode(9)\n",
        "\n",
        "head.next = node2\n",
        "node2.next = node3\n",
        "node3.next = node4\n",
        "node4.next = node5\n",
        "\n",
        "# Left-shift the linked list by k=3 nodes\n",
        "shifted_list = leftShiftLinkedList(head, 3)\n",
        "\n",
        "# Print the shifted list\n",
        "current = shifted_list\n",
        "while current:\n",
        "    print(current.val)\n",
        "    current = current.next\n"
      ],
      "metadata": {
        "colab": {
          "base_uri": "https://localhost:8080/"
        },
        "id": "FJx6w6r2L6R1",
        "outputId": "8b042298-e41a-4f10-8352-f4e6ff892792"
      },
      "execution_count": 6,
      "outputs": [
        {
          "output_type": "stream",
          "name": "stdout",
          "text": [
            "7\n",
            "8\n",
            "9\n",
            "2\n",
            "4\n"
          ]
        }
      ]
    },
    {
      "cell_type": "markdown",
      "source": [
        "You are given the `head` of a linked list with `n` nodes.\n",
        "\n",
        "For each node in the list, find the value of the **next greater node**. That is, for each node, find the value of the first node that is next to it and has a **strictly larger** value than it.\n",
        "\n",
        "Return an integer array `answer` where `answer[i]` is the value of the next greater node of the `ith` node (**1-indexed**). If the `ith` node does not have a next greater node, set `answer[i] = 0`."
      ],
      "metadata": {
        "id": "-6R_o_QTMUZh"
      }
    },
    {
      "cell_type": "code",
      "source": [
        "class ListNode:\n",
        "    def __init__(self, val=0, next=None):\n",
        "        self.val = val\n",
        "        self.next = next\n",
        "\n",
        "\n",
        "def nextLargerNodes(head):\n",
        "    # Convert the linked list to a list for easier indexing\n",
        "    values = []\n",
        "    current = head\n",
        "    while current:\n",
        "        values.append(current.val)\n",
        "        current = current.next\n",
        "\n",
        "    n = len(values)\n",
        "    result = [0] * n\n",
        "    stack = []\n",
        "\n",
        "    for i in range(n - 1, -1, -1):\n",
        "        while stack and values[i] >= values[stack[-1]]:\n",
        "            stack.pop()\n",
        "\n",
        "        if stack:\n",
        "            result[i] = values[stack[-1]]\n",
        "\n",
        "        stack.append(i)\n",
        "\n",
        "    return result\n",
        "\n",
        "\n",
        "# Create the linked list [2, 1, 5]\n",
        "head = ListNode(2)\n",
        "node2 = ListNode(1)\n",
        "node3 = ListNode(5)\n",
        "\n",
        "head.next = node2\n",
        "node2.next = node3\n",
        "\n",
        "# Find the next greater nodes for each node\n",
        "result = nextLargerNodes(head)\n",
        "\n",
        "# Print the result\n",
        "print(result)\n"
      ],
      "metadata": {
        "colab": {
          "base_uri": "https://localhost:8080/"
        },
        "id": "FVmCOvgqMKhr",
        "outputId": "43c2d429-3990-4f6a-9680-351988525586"
      },
      "execution_count": 7,
      "outputs": [
        {
          "output_type": "stream",
          "name": "stdout",
          "text": [
            "[5, 5, 0]\n"
          ]
        }
      ]
    },
    {
      "cell_type": "markdown",
      "source": [
        "<aside>\n",
        "💡\n",
        "\n",
        "Given the `head` of a linked list, we repeatedly delete consecutive sequences of nodes that sum to `0` until there are no such sequences.\n",
        "\n",
        "After doing so, return the head of the final linked list.  You may return any such answer.\n",
        "\n",
        "(Note that in the examples below, all sequences are serializations of `ListNode` objects.)\n",
        "\n",
        "</aside>"
      ],
      "metadata": {
        "id": "XtYYASfUMkOy"
      }
    },
    {
      "cell_type": "code",
      "source": [
        "class ListNode:\n",
        "    def __init__(self, val=0, next=None):\n",
        "        self.val = val\n",
        "        self.next = next\n",
        "\n",
        "\n",
        "def removeZeroSumSublists(head):\n",
        "    # Create a dummy node as the head of the resulting linked list\n",
        "    dummy = ListNode(0)\n",
        "    dummy.next = head\n",
        "\n",
        "    # Use a dictionary to store the running sum and the node at that sum\n",
        "    running_sum = 0\n",
        "    node_dict = {}\n",
        "    node_dict[running_sum] = dummy\n",
        "\n",
        "    # Traverse the linked list and calculate the running sum\n",
        "    current = dummy.next\n",
        "    while current:\n",
        "        running_sum += current.val\n",
        "\n",
        "        # If the running sum is already in the dictionary, remove the nodes between\n",
        "        # the previous node at that sum and the current node\n",
        "        if running_sum in node_dict:\n",
        "            prev = node_dict[running_sum]\n",
        "            prev.next = current.next\n",
        "            current = prev.next\n",
        "            continue\n",
        "\n",
        "        # Add the running sum and the current node to the dictionary\n",
        "        node_dict[running_sum] = current\n",
        "\n",
        "        current = current.next\n",
        "\n",
        "    return dummy.next\n",
        "\n",
        "\n",
        "# Create the linked list [1, 2, -3, 3, 1]\n",
        "head = ListNode(1)\n",
        "node2 = ListNode(2)\n",
        "node3 = ListNode(-3)\n",
        "node4 = ListNode(3)\n",
        "node5 = ListNode(1)\n",
        "\n",
        "head.next = node2\n",
        "node2.next = node3\n",
        "node3.next = node4\n",
        "node4.next = node5\n",
        "\n",
        "# Remove the consecutive sequences of nodes that sum to 0\n",
        "result = removeZeroSumSublists(head)\n",
        "\n",
        "# Print the resulting linked list\n",
        "while result:\n",
        "    print(result.val, end=\" \")\n",
        "    result = result.next\n"
      ],
      "metadata": {
        "colab": {
          "base_uri": "https://localhost:8080/"
        },
        "id": "26bhR3pwMYav",
        "outputId": "eebc2e78-a52b-438e-f6a4-c2f1ff6480d2"
      },
      "execution_count": 8,
      "outputs": [
        {
          "output_type": "stream",
          "name": "stdout",
          "text": [
            "3 1 "
          ]
        }
      ]
    },
    {
      "cell_type": "code",
      "source": [],
      "metadata": {
        "id": "rkDtOeaUMn_e"
      },
      "execution_count": null,
      "outputs": []
    }
  ]
}