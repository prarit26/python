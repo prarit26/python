{
  "nbformat": 4,
  "nbformat_minor": 0,
  "metadata": {
    "colab": {
      "provenance": [],
      "authorship_tag": "ABX9TyM0EUgi0vv+faF+EmImlWuq",
      "include_colab_link": true
    },
    "kernelspec": {
      "name": "python3",
      "display_name": "Python 3"
    },
    "language_info": {
      "name": "python"
    }
  },
  "cells": [
    {
      "cell_type": "markdown",
      "metadata": {
        "id": "view-in-github",
        "colab_type": "text"
      },
      "source": [
        "<a href=\"https://colab.research.google.com/github/prarit26/python/blob/main/assignment5.ipynb\" target=\"_parent\"><img src=\"https://colab.research.google.com/assets/colab-badge.svg\" alt=\"Open In Colab\"/></a>"
      ]
    },
    {
      "cell_type": "code",
      "execution_count": 2,
      "metadata": {
        "colab": {
          "base_uri": "https://localhost:8080/"
        },
        "id": "Ju2xbeTDcout",
        "outputId": "7714618a-c2b4-453f-d348-d38f5cdc3497"
      },
      "outputs": [
        {
          "output_type": "execute_result",
          "data": {
            "text/plain": [
              "{}"
            ]
          },
          "metadata": {},
          "execution_count": 2
        }
      ],
      "source": [
        "d={}\n",
        "d"
      ]
    },
    {
      "cell_type": "markdown",
      "source": [
        "1 What does an empty dictionary&#39;s code look like?\n",
        "\n",
        "ans emppty dictinary d={}"
      ],
      "metadata": {
        "id": "WJtsGBYLctrG"
      }
    },
    {
      "cell_type": "markdown",
      "source": [
        "2. What is the value of a dictionary value with the key &#39;foo&#39; and the value 42?\n",
        "\n",
        "ans "
      ],
      "metadata": {
        "id": "5m8idHApdEr-"
      }
    },
    {
      "cell_type": "code",
      "source": [
        "d={'foo': 42}\n",
        "d.values()"
      ],
      "metadata": {
        "colab": {
          "base_uri": "https://localhost:8080/"
        },
        "id": "MJHVmOySdnjV",
        "outputId": "1451de5a-6804-4239-d4d1-03712904919f"
      },
      "execution_count": 4,
      "outputs": [
        {
          "output_type": "execute_result",
          "data": {
            "text/plain": [
              "dict_values([42])"
            ]
          },
          "metadata": {},
          "execution_count": 4
        }
      ]
    },
    {
      "cell_type": "markdown",
      "source": [
        "3. What is the most significant distinction between a dictionary and a list?\n",
        "\n",
        "ans  list refers to a collection of various index value created by []. A dictionary refers to a hashed structure of various pairs of keys and values created by {}."
      ],
      "metadata": {
        "id": "BfeJekstj1H4"
      }
    },
    {
      "cell_type": "markdown",
      "source": [
        "4. What happens if you try to access spam[&#39;foo&#39;] if spam is {&#39;bar&#39;: 100}?\n",
        "\n",
        "ans it will give error key not found"
      ],
      "metadata": {
        "id": "jHnCDgIYmkan"
      }
    },
    {
      "cell_type": "markdown",
      "source": [
        "5. If a dictionary is stored in spam, what is the difference between the expressions &#39;cat&#39; in spam and\n",
        "&#39;cat&#39; in spam.keys()?\n",
        "\n",
        "ans there is no difrence in both case it will search cat as a key  "
      ],
      "metadata": {
        "id": "rzrM30qno-mu"
      }
    },
    {
      "cell_type": "markdown",
      "source": [
        "6. If a dictionary is stored in spam, what is the difference between the expressions &#39;cat&#39; in spam and\n",
        "&#39;cat&#39; in spam.values()?\n",
        "\n",
        "ans The in operator checks whether a value exists as a key in the dictionary. 'cat' in spam checks whether there is a 'cat' key in the dictionary, while 'cat' in spam. values() checks whether there is a value 'cat' for one of the keys in spam ."
      ],
      "metadata": {
        "id": "HKGcJqzTpVrj"
      }
    },
    {
      "cell_type": "code",
      "source": [],
      "metadata": {
        "id": "rthSDgVup3-9"
      },
      "execution_count": null,
      "outputs": []
    },
    {
      "cell_type": "markdown",
      "source": [
        "7. What is a shortcut for the following code?\n",
        "if &#39;color&#39; not in spam:\n",
        "spam[&#39;color&#39;] = &#39;black&#39;\n",
        "\n",
        "ans if 'color' not in spam: spam['color']='black"
      ],
      "metadata": {
        "id": "Xt03I2RMrCM9"
      }
    },
    {
      "cell_type": "code",
      "source": [
        "spam={'colour':'black', 'key':'kb'}\n",
        "if 'color' not in d:\n",
        "  spam['color']='black'\n",
        "spam"
      ],
      "metadata": {
        "colab": {
          "base_uri": "https://localhost:8080/"
        },
        "id": "_edGnhyer9WR",
        "outputId": "f55dbd81-c4f0-453a-d0b6-10303f3f0755"
      },
      "execution_count": 9,
      "outputs": [
        {
          "output_type": "execute_result",
          "data": {
            "text/plain": [
              "{'colour': 'black', 'key': 'kb', 'color': 'black'}"
            ]
          },
          "metadata": {},
          "execution_count": 9
        }
      ]
    },
    {
      "cell_type": "markdown",
      "source": [
        "8. How do you &quot;pretty print&quot; dictionary values using which module and function?\n",
        "\n",
        "ans  The module used is the pprint module within which we have the pprint function of the same name. The function can be implemented to pretty-print the specific string or object."
      ],
      "metadata": {
        "id": "U1Cs1XeQtS0F"
      }
    }
  ]
}