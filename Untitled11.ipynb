{
  "nbformat": 4,
  "nbformat_minor": 0,
  "metadata": {
    "colab": {
      "provenance": [],
      "authorship_tag": "ABX9TyMcTwOIpIonOlIUnEG7WTJq",
      "include_colab_link": true
    },
    "kernelspec": {
      "name": "python3",
      "display_name": "Python 3"
    },
    "language_info": {
      "name": "python"
    }
  },
  "cells": [
    {
      "cell_type": "markdown",
      "metadata": {
        "id": "view-in-github",
        "colab_type": "text"
      },
      "source": [
        "<a href=\"https://colab.research.google.com/github/prarit26/python/blob/main/Untitled11.ipynb\" target=\"_parent\"><img src=\"https://colab.research.google.com/assets/colab-badge.svg\" alt=\"Open In Colab\"/></a>"
      ]
    },
    {
      "cell_type": "markdown",
      "source": [
        "<aside>\n",
        "💡 **Question 1**\n",
        "\n",
        "Given a non-negative integer `x`, return *the square root of* `x` *rounded down to the nearest integer*. The returned integer should be **non-negative** as well.\n",
        "\n",
        "You **must not use** any built-in exponent function or operator.\n",
        "\n",
        "- For example, do not use `pow(x, 0.5)` in c++ or `x ** 0.5` in python.\n",
        "</aside>"
      ],
      "metadata": {
        "id": "zNukItr440P9"
      }
    },
    {
      "cell_type": "code",
      "execution_count": 2,
      "metadata": {
        "colab": {
          "base_uri": "https://localhost:8080/"
        },
        "id": "D4dzQiOc4F0R",
        "outputId": "54a97103-0633-46f2-8fed-2c64b20a6f32"
      },
      "outputs": [
        {
          "output_type": "stream",
          "name": "stdout",
          "text": [
            "2\n"
          ]
        }
      ],
      "source": [
        "def mySqrt(x):\n",
        "    if x == 0:\n",
        "        return 0\n",
        "\n",
        "    left, right = 0, x\n",
        "    while left <= right:\n",
        "        mid = (left + right) // 2\n",
        "        mid_square = mid * mid\n",
        "        if mid_square == x:\n",
        "            return mid\n",
        "        elif mid_square < x:\n",
        "            left = mid + 1\n",
        "        else:\n",
        "            right = mid - 1\n",
        "\n",
        "    return right\n",
        "x = 8\n",
        "result = mySqrt(x)\n",
        "print(result)  # Output: 2\n"
      ]
    },
    {
      "cell_type": "markdown",
      "source": [
        "A peak element is an element that is strictly greater than its neighbors.\n",
        "\n",
        "Given a **0-indexed** integer array `nums`, find a peak element, and return its index. If the array contains multiple peaks, return the index to **any of the peaks**.\n",
        "\n",
        "You may imagine that `nums[-1] = nums[n] = -∞`. In other words, an element is always considered to be strictly greater than a neighbor that is outside the array.\n",
        "\n",
        "You must write an algorithm that runs in `O(log n)` time."
      ],
      "metadata": {
        "id": "8Kl2q-mF59Px"
      }
    },
    {
      "cell_type": "code",
      "source": [
        "def findPeakElement(nums):\n",
        "    left, right = 0, len(nums) - 1\n",
        "    while left < right:\n",
        "        mid = (left + right) // 2\n",
        "        if nums[mid] < nums[mid + 1]:\n",
        "            left = mid + 1\n",
        "        else:\n",
        "            right = mid\n",
        "    return left\n",
        "nums = [1, 2, 3, 1]\n",
        "result = findPeakElement(nums)\n",
        "print(result)  # Output: 2\n"
      ],
      "metadata": {
        "colab": {
          "base_uri": "https://localhost:8080/"
        },
        "id": "0jwTfrKq46lX",
        "outputId": "b2e380bc-984c-45c4-f2ed-f3b3fa0bf8f5"
      },
      "execution_count": 3,
      "outputs": [
        {
          "output_type": "stream",
          "name": "stdout",
          "text": [
            "2\n"
          ]
        }
      ]
    },
    {
      "cell_type": "markdown",
      "source": [
        "Given an array nums containing n distinct numbers in the range [0, n], return the only number in the range that is missing from the array."
      ],
      "metadata": {
        "id": "fR4Tbes97KXE"
      }
    },
    {
      "cell_type": "code",
      "source": [
        "def missingNumber(nums):\n",
        "    n = len(nums)\n",
        "    missing = n\n",
        "    for i, num in enumerate(nums):\n",
        "        missing ^= i ^ num\n",
        "    return missing\n",
        "nums = [3, 0, 1]\n",
        "result = missingNumber(nums)\n",
        "print(result)  # Output: 2\n"
      ],
      "metadata": {
        "colab": {
          "base_uri": "https://localhost:8080/"
        },
        "id": "XYn7X2rw7DoR",
        "outputId": "3bfe215b-2a21-42a2-c991-e5331c730aff"
      },
      "execution_count": 4,
      "outputs": [
        {
          "output_type": "stream",
          "name": "stdout",
          "text": [
            "2\n"
          ]
        }
      ]
    },
    {
      "cell_type": "markdown",
      "source": [
        "Given an array of integers `nums` containing `n + 1` integers where each integer is in the range `[1, n]` inclusive.\n",
        "\n",
        "There is only **one repeated number** in `nums`, return *this repeated number*.\n",
        "\n",
        "You must solve the problem **without** modifying the array `nums` and uses only constant extra space."
      ],
      "metadata": {
        "id": "Loj0Gc7P7U1e"
      }
    },
    {
      "cell_type": "code",
      "source": [
        "def findDuplicate(nums):\n",
        "    slow = fast = nums[0]\n",
        "\n",
        "    # Phase 1: Find the meeting point of slow and fast pointers\n",
        "    while True:\n",
        "        slow = nums[slow]\n",
        "        fast = nums[nums[fast]]\n",
        "        if slow == fast:\n",
        "            break\n",
        "\n",
        "    # Phase 2: Find the start of the cycle\n",
        "    fast = nums[0]\n",
        "    while slow != fast:\n",
        "        slow = nums[slow]\n",
        "        fast = nums[fast]\n",
        "\n",
        "    return slow\n",
        "nums = [1, 3, 4, 2, 2]\n",
        "result = findDuplicate(nums)\n",
        "print(result)  # Output: 2\n"
      ],
      "metadata": {
        "colab": {
          "base_uri": "https://localhost:8080/"
        },
        "id": "o5efBGRu7Q4t",
        "outputId": "7efe8e02-18e7-4de1-f5a2-282c4d8b6ad5"
      },
      "execution_count": 5,
      "outputs": [
        {
          "output_type": "stream",
          "name": "stdout",
          "text": [
            "2\n"
          ]
        }
      ]
    },
    {
      "cell_type": "markdown",
      "source": [
        "Given two integer arrays nums1 and nums2, return an array of their intersection. Each element in the result must be unique and you may return the result in any order."
      ],
      "metadata": {
        "id": "oleZRLE17fe1"
      }
    },
    {
      "cell_type": "code",
      "source": [
        "def intersection(nums1, nums2):\n",
        "    set1 = set(nums1)\n",
        "    set2 = set(nums2)\n",
        "    intersection_set = set1 & set2\n",
        "    return list(intersection_set)\n",
        "nums1 = [1, 2, 2, 1]\n",
        "nums2 = [2, 2]\n",
        "result = intersection(nums1, nums2)\n",
        "print(result)  # Output: [2]\n"
      ],
      "metadata": {
        "colab": {
          "base_uri": "https://localhost:8080/"
        },
        "id": "nWjIjgQG7bdI",
        "outputId": "0d1a4174-a221-43e3-8a38-770254c74ef9"
      },
      "execution_count": 6,
      "outputs": [
        {
          "output_type": "stream",
          "name": "stdout",
          "text": [
            "[2]\n"
          ]
        }
      ]
    },
    {
      "cell_type": "markdown",
      "source": [
        "Suppose an array of length `n` sorted in ascending order is **rotated** between `1` and `n` times. For example, the array `nums = [0,1,2,4,5,6,7]` might become:\n",
        "\n",
        "- `[4,5,6,7,0,1,2]` if it was rotated `4` times.\n",
        "- `[0,1,2,4,5,6,7]` if it was rotated `7` times.\n",
        "\n",
        "Notice that **rotating** an array `[a[0], a[1], a[2], ..., a[n-1]]` 1 time results in the array `[a[n-1], a[0], a[1], a[2], ..., a[n-2]]`.\n",
        "\n",
        "Given the sorted rotated array `nums` of **unique** elements, return *the minimum element of this array*.\n",
        "\n",
        "You must write an algorithm that runs in `O(log n) time.`"
      ],
      "metadata": {
        "id": "QWxw6D0D7tig"
      }
    },
    {
      "cell_type": "code",
      "source": [
        "def findMin(nums):\n",
        "    left, right = 0, len(nums) - 1\n",
        "\n",
        "    while left < right:\n",
        "        mid = (left + right) // 2\n",
        "        if nums[mid] > nums[right]:\n",
        "            left = mid + 1\n",
        "        else:\n",
        "            right = mid\n",
        "\n",
        "    return nums[left]\n",
        "nums = [4, 5, 6, 7, 0, 1, 2]\n",
        "result = findMin(nums)\n",
        "print(result)  # Output: 0\n"
      ],
      "metadata": {
        "colab": {
          "base_uri": "https://localhost:8080/"
        },
        "id": "F4jwZ4PI7o2Z",
        "outputId": "b7223e4c-9014-42f1-bdcc-7446cc5ae2cb"
      },
      "execution_count": 7,
      "outputs": [
        {
          "output_type": "stream",
          "name": "stdout",
          "text": [
            "0\n"
          ]
        }
      ]
    },
    {
      "cell_type": "markdown",
      "source": [
        "Given an array of integers `nums` sorted in non-decreasing order, find the starting and ending position of a given `target` value.\n",
        "\n",
        "If `target` is not found in the array, return `[-1, -1]`.\n",
        "\n",
        "You must write an algorithm with `O(log n)` runtime complexity."
      ],
      "metadata": {
        "id": "FQh4XMZo8FBL"
      }
    },
    {
      "cell_type": "code",
      "source": [
        "def searchRange(nums, target):\n",
        "    start = -1\n",
        "    end = -1\n",
        "\n",
        "    # Find starting position\n",
        "    left, right = 0, len(nums) - 1\n",
        "    while left <= right:\n",
        "        mid = (left + right) // 2\n",
        "        if nums[mid] == target:\n",
        "            start = mid\n",
        "            right = mid - 1\n",
        "        elif nums[mid] < target:\n",
        "            left = mid + 1\n",
        "        else:\n",
        "            right = mid - 1\n",
        "\n",
        "    if start == -1:\n",
        "        return [-1, -1]\n",
        "\n",
        "    # Find ending position\n",
        "    left, right = start, len(nums) - 1\n",
        "    while left <= right:\n",
        "        mid = (left + right) // 2\n",
        "        if nums[mid] == target:\n",
        "            end = mid\n",
        "            left = mid + 1\n",
        "        elif nums[mid] < target:\n",
        "            left = mid + 1\n",
        "        else:\n",
        "            right = mid - 1\n",
        "\n",
        "    return [start, end]\n",
        "nums = [5, 7, 7, 8, 8, 10]\n",
        "target = 8\n",
        "result = searchRange(nums, target)\n",
        "print(result)  # Output: [3, 4]\n"
      ],
      "metadata": {
        "colab": {
          "base_uri": "https://localhost:8080/"
        },
        "id": "yGAr09pi7yWp",
        "outputId": "8336d876-9761-47e5-9473-a7c9d8ecac8b"
      },
      "execution_count": 8,
      "outputs": [
        {
          "output_type": "stream",
          "name": "stdout",
          "text": [
            "[3, 4]\n"
          ]
        }
      ]
    },
    {
      "cell_type": "markdown",
      "source": [
        "Given two integer arrays nums1 and nums2, return an array of their intersection. Each element in the result must appear as many times as it shows in both arrays and you may return the result in any order."
      ],
      "metadata": {
        "id": "F23nv0qn8X8x"
      }
    },
    {
      "cell_type": "code",
      "source": [
        "from collections import Counter\n",
        "\n",
        "def intersect(nums1, nums2):\n",
        "    count1 = Counter(nums1)\n",
        "    count2 = Counter(nums2)\n",
        "\n",
        "    intersection = []\n",
        "    for num in count1.keys() & count2.keys():\n",
        "        intersection.extend([num] * min(count1[num], count2[num]))\n",
        "\n",
        "    return intersection\n",
        "nums1 = [1, 2, 2, 1]\n",
        "nums2 = [2, 2]\n",
        "result = intersect(nums1, nums2)\n",
        "print(result)  # Output: [2, 2]\n"
      ],
      "metadata": {
        "colab": {
          "base_uri": "https://localhost:8080/"
        },
        "id": "zb5d6BvQ8RQH",
        "outputId": "b7239296-8525-46c3-96d2-de6df8325baa"
      },
      "execution_count": 9,
      "outputs": [
        {
          "output_type": "stream",
          "name": "stdout",
          "text": [
            "[2, 2]\n"
          ]
        }
      ]
    },
    {
      "cell_type": "code",
      "source": [],
      "metadata": {
        "id": "1UfdI3b-8eJv"
      },
      "execution_count": null,
      "outputs": []
    }
  ]
}