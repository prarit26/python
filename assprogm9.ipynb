{
  "nbformat": 4,
  "nbformat_minor": 0,
  "metadata": {
    "colab": {
      "provenance": [],
      "authorship_tag": "ABX9TyPHIpHcSTteZ34VhFNd5D8S",
      "include_colab_link": true
    },
    "kernelspec": {
      "name": "python3",
      "display_name": "Python 3"
    },
    "language_info": {
      "name": "python"
    }
  },
  "cells": [
    {
      "cell_type": "markdown",
      "metadata": {
        "id": "view-in-github",
        "colab_type": "text"
      },
      "source": [
        "<a href=\"https://colab.research.google.com/github/prarit26/python/blob/python-program/assprogm9.ipynb\" target=\"_parent\"><img src=\"https://colab.research.google.com/assets/colab-badge.svg\" alt=\"Open In Colab\"/></a>"
      ]
    },
    {
      "cell_type": "markdown",
      "source": [
        "1.Write a Python Program to check if the given number is a Disarium Number ?"
      ],
      "metadata": {
        "id": "cnjH5bJu0NU0"
      }
    },
    {
      "cell_type": "code",
      "source": [
        "def checkDisariumNumber():\n",
        "    in_num = input('Enter a Number: ')\n",
        "    sum = 0\n",
        "    for item in range(len(in_num)):\n",
        "        sum = sum + int(in_num[item])**(item+1)\n",
        "    if sum == int(in_num):\n",
        "        print(f'{in_num} is a Disarium Number')\n",
        "    else:\n",
        "        print(f'{in_num} is a Not Disarium Number') \n",
        "\n",
        "checkDisariumNumber()\n",
        "checkDisariumNumber()"
      ],
      "metadata": {
        "colab": {
          "base_uri": "https://localhost:8080/"
        },
        "id": "agFx8zVw0M8M",
        "outputId": "ebd04d85-95dd-4921-da3c-3a6e22d093ec"
      },
      "execution_count": 1,
      "outputs": [
        {
          "output_type": "stream",
          "name": "stdout",
          "text": [
            "Enter a Number: 175\n",
            "175 is a Disarium Number\n",
            "Enter a Number: 100\n",
            "100 is a Not Disarium Number\n"
          ]
        }
      ]
    },
    {
      "cell_type": "markdown",
      "source": [
        "2.Write a Python Program to print all Disarium numbers between 1 to 100 ?"
      ],
      "metadata": {
        "id": "K8atrORF1GV8"
      }
    },
    {
      "cell_type": "code",
      "execution_count": 2,
      "metadata": {
        "colab": {
          "base_uri": "https://localhost:8080/"
        },
        "id": "P3EXVtUH0IgL",
        "outputId": "a2894af3-0965-4700-9611-99ef20b82acd"
      },
      "outputs": [
        {
          "output_type": "execute_result",
          "data": {
            "text/plain": [
              "[1, 2, 3, 4, 5, 6, 7, 8, 9, 89]"
            ]
          },
          "metadata": {},
          "execution_count": 2
        }
      ],
      "source": [
        "def printDisariumNumbers(start=0,end=100):\n",
        "    output_num = []\n",
        "    for number in range(start,end+1):\n",
        "        sum = 0\n",
        "        for item in range(len(str(number))):\n",
        "            sum = sum + int(str(number)[item])**(item+1)\n",
        "        if sum == number:\n",
        "            output_num.append(number)\n",
        "    return output_num\n",
        "            \n",
        "        \n",
        "printDisariumNumbers(1,100)"
      ]
    },
    {
      "cell_type": "markdown",
      "source": [
        "3.Write a Python Program to check if the given number is Happy Number ?"
      ],
      "metadata": {
        "id": "Pft1lxlb1XAC"
      }
    },
    {
      "cell_type": "code",
      "source": [
        "def checkHappyNumber():\n",
        "    in_num = input('Enter a Number: ')\n",
        "    in_num_duplicate = in_num\n",
        "    trackNumber = set()   \n",
        "    while True:\n",
        "        if in_num != '1' and str(in_num) not in trackNumber:\n",
        "            trackNumber.add(in_num)\n",
        "            sum = 0\n",
        "            for ele in range(len((in_num))):\n",
        "                sum = sum + int(in_num[ele])**2\n",
        "            in_num = str(sum)\n",
        "        elif str(in_num) in trackNumber:\n",
        "            print(f'{in_num_duplicate} is not a Happy Number')\n",
        "            break\n",
        "        else:\n",
        "            print(f'{in_num_duplicate} is a Happy Number')\n",
        "            break\n",
        "\n",
        "checkHappyNumber()\n",
        "checkHappyNumber()"
      ],
      "metadata": {
        "colab": {
          "base_uri": "https://localhost:8080/"
        },
        "id": "mwtdCJpA0Mqk",
        "outputId": "fc7a1aa2-66cf-4082-cc0f-7270a0598ea9"
      },
      "execution_count": 3,
      "outputs": [
        {
          "output_type": "stream",
          "name": "stdout",
          "text": [
            "Enter a Number: 23\n",
            "23 is a Happy Number\n",
            "Enter a Number: 44\n",
            "44 is a Happy Number\n"
          ]
        }
      ]
    },
    {
      "cell_type": "markdown",
      "source": [
        "4.Write a Python Program to print all Happy numbers between 1 and 100 ?"
      ],
      "metadata": {
        "id": "3bpA5V022RIz"
      }
    },
    {
      "cell_type": "code",
      "source": [
        "def checkHappyNumber(start=0,end=100):\n",
        "    happyNumbersList = []\n",
        "    for in_num in range(start,end+1):\n",
        "        in_num = str(in_num)\n",
        "        inum_holder = in_num\n",
        "        trackNumber = set()   \n",
        "        while True:\n",
        "            if in_num != '1' and str(in_num) not in trackNumber:\n",
        "                trackNumber.add(in_num)\n",
        "                sum = 0\n",
        "                for ele in range(len((in_num))):\n",
        "                    sum = sum + int(in_num[ele])**2\n",
        "                in_num = str(sum)\n",
        "            elif str(in_num) in trackNumber:\n",
        "                break\n",
        "            else:\n",
        "                happyNumbersList.append(int(inum_holder))\n",
        "                break\n",
        "    print(f'The Happy Numbers between {start} and {end} are {happyNumbersList}')\n",
        "    \n",
        "checkHappyNumber(0,100)"
      ],
      "metadata": {
        "colab": {
          "base_uri": "https://localhost:8080/"
        },
        "id": "NxKkuvB92KBL",
        "outputId": "02d5b2a4-9b16-4486-f975-f25c9dad4d38"
      },
      "execution_count": 4,
      "outputs": [
        {
          "output_type": "stream",
          "name": "stdout",
          "text": [
            "The Happy Numbers between 0 and 100 are [1, 7, 10, 13, 19, 23, 28, 31, 32, 44, 49, 68, 70, 79, 82, 86, 91, 94, 97, 100]\n"
          ]
        }
      ]
    },
    {
      "cell_type": "markdown",
      "source": [
        "5.Write a Python Program to determine whether the given number is a Harshad Number ?"
      ],
      "metadata": {
        "id": "7rKUR3_u2bdz"
      }
    },
    {
      "cell_type": "code",
      "source": [
        "def checkHarshadNumber():\n",
        "    in_num = input('Enter a Number: ')\n",
        "    sum = 0\n",
        "    for item in range(len(in_num)):\n",
        "        sum = sum + int(in_num[item])\n",
        "    if int(in_num)%sum == 0:\n",
        "        print(f'{in_num} is a Harshad Number')\n",
        "    else:\n",
        "        print(f'{in_num} is a Not Harshad Number')\n",
        "        \n",
        "checkHarshadNumber()\n",
        "checkHarshadNumber()"
      ],
      "metadata": {
        "colab": {
          "base_uri": "https://localhost:8080/"
        },
        "id": "-SZR49Ys2cKb",
        "outputId": "a8a4cd3a-8a0b-4ec1-b1ac-2e1e39aa99c9"
      },
      "execution_count": 6,
      "outputs": [
        {
          "output_type": "stream",
          "name": "stdout",
          "text": [
            "Enter a Number: 20\n",
            "20 is a Harshad Number\n",
            "Enter a Number: 532\n",
            "532 is a Not Harshad Number\n"
          ]
        }
      ]
    },
    {
      "cell_type": "markdown",
      "source": [
        "6.Write a Python Program to print all pronic numbers between 1 and 100 ?"
      ],
      "metadata": {
        "id": "qwk6A7Do28lL"
      }
    },
    {
      "cell_type": "code",
      "source": [
        "def printPronicNumbers(start=0,end=100):\n",
        "    outputList = []\n",
        "    for ele in range(start,end+1):\n",
        "        outputList.append((ele)*(ele+1))\n",
        "    print(outputList)\n",
        "                   \n",
        "printPronicNumbers()"
      ],
      "metadata": {
        "colab": {
          "base_uri": "https://localhost:8080/"
        },
        "id": "Q8jZ9S3F2y5E",
        "outputId": "5f05b9a1-5a82-4b23-b499-88cd28fae4a8"
      },
      "execution_count": 7,
      "outputs": [
        {
          "output_type": "stream",
          "name": "stdout",
          "text": [
            "[0, 2, 6, 12, 20, 30, 42, 56, 72, 90, 110, 132, 156, 182, 210, 240, 272, 306, 342, 380, 420, 462, 506, 552, 600, 650, 702, 756, 812, 870, 930, 992, 1056, 1122, 1190, 1260, 1332, 1406, 1482, 1560, 1640, 1722, 1806, 1892, 1980, 2070, 2162, 2256, 2352, 2450, 2550, 2652, 2756, 2862, 2970, 3080, 3192, 3306, 3422, 3540, 3660, 3782, 3906, 4032, 4160, 4290, 4422, 4556, 4692, 4830, 4970, 5112, 5256, 5402, 5550, 5700, 5852, 6006, 6162, 6320, 6480, 6642, 6806, 6972, 7140, 7310, 7482, 7656, 7832, 8010, 8190, 8372, 8556, 8742, 8930, 9120, 9312, 9506, 9702, 9900, 10100]\n"
          ]
        }
      ]
    },
    {
      "cell_type": "code",
      "source": [],
      "metadata": {
        "id": "d5EVjgfp3AHT"
      },
      "execution_count": null,
      "outputs": []
    }
  ]
}