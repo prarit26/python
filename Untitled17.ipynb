{
  "nbformat": 4,
  "nbformat_minor": 0,
  "metadata": {
    "colab": {
      "provenance": [],
      "authorship_tag": "ABX9TyNVpCjiwKd/9lMeIyy/WLlW",
      "include_colab_link": true
    },
    "kernelspec": {
      "name": "python3",
      "display_name": "Python 3"
    },
    "language_info": {
      "name": "python"
    }
  },
  "cells": [
    {
      "cell_type": "markdown",
      "metadata": {
        "id": "view-in-github",
        "colab_type": "text"
      },
      "source": [
        "<a href=\"https://colab.research.google.com/github/prarit26/python/blob/main/Untitled17.ipynb\" target=\"_parent\"><img src=\"https://colab.research.google.com/assets/colab-badge.svg\" alt=\"Open In Colab\"/></a>"
      ]
    },
    {
      "cell_type": "markdown",
      "source": [
        "Given a string `s`, *find the first non-repeating character in it and return its index*. If it does not exist, return `-1`.\n",
        "\n",
        "**Example 1:**Input: s = \"leetcode\"\n",
        "Output: 0\n"
      ],
      "metadata": {
        "id": "GvKvDG2-liW9"
      }
    },
    {
      "cell_type": "code",
      "execution_count": 1,
      "metadata": {
        "colab": {
          "base_uri": "https://localhost:8080/"
        },
        "id": "sHs8GFSNlh2i",
        "outputId": "e80973d2-f012-4371-df1d-ecc070dfcd17"
      },
      "outputs": [
        {
          "output_type": "stream",
          "name": "stdout",
          "text": [
            "0\n"
          ]
        }
      ],
      "source": [
        "def firstUniqChar(s):\n",
        "    # Create a dictionary to store the frequency of each character\n",
        "    freq = {}\n",
        "\n",
        "    # Iterate through the string and count the frequency of each character\n",
        "    for char in s:\n",
        "        freq[char] = freq.get(char, 0) + 1\n",
        "\n",
        "    # Iterate through the string again and find the first character with frequency 1\n",
        "    for i in range(len(s)):\n",
        "        if freq[s[i]] == 1:\n",
        "            return i\n",
        "\n",
        "    # If no non-repeating character is found, return -1\n",
        "    return -1\n",
        "\n",
        "# Test the function\n",
        "s = \"leetcode\"\n",
        "print(firstUniqChar(s))  # Output: 0\n"
      ]
    },
    {
      "cell_type": "markdown",
      "source": [
        "Given a **circular integer array** `nums` of length `n`, return *the maximum possible sum of a non-empty **subarray** of* `nums`.\n",
        "\n",
        "A **circular array** means the end of the array connects to the beginning of the array. Formally, the next element of `nums[i]` is `nums[(i + 1) % n]` and the previous element of `nums[i]` is `nums[(i - 1 + n) % n]`.\n",
        "\n",
        "A **subarray** may only include each element of the fixed buffer `nums` at most once. Formally, for a subarray `nums[i], nums[i + 1], ..., nums[j]`, there does not exist `i <= k1`, `k2 <= j` with `k1 % n == k2 % n`.Input: nums = [1,-2,3,-2]\n",
        "Output: 3\n",
        "Explanation: Subarray [3] has maximum sum 3."
      ],
      "metadata": {
        "id": "gvib5NFMlxDE"
      }
    },
    {
      "cell_type": "code",
      "source": [
        "def maxSubarraySumCircular(nums):\n",
        "    total_sum = 0  # Total sum of the array\n",
        "    max_sum = float('-inf')  # Maximum sum within the linear array\n",
        "    min_sum = float('inf')  # Minimum sum within the linear array\n",
        "    curr_max = 0  # Current maximum sum\n",
        "    curr_min = 0  # Current minimum sum\n",
        "\n",
        "    # Case 1: Calculate the maximum sum within the linear array\n",
        "    for num in nums:\n",
        "        total_sum += num\n",
        "        curr_max = max(curr_max + num, num)\n",
        "        max_sum = max(max_sum, curr_max)\n",
        "        curr_min = min(curr_min + num, num)\n",
        "        min_sum = min(min_sum, curr_min)\n",
        "\n",
        "    # Case 2: Calculate the maximum sum including wrapping around\n",
        "    if max_sum > 0:\n",
        "        circular_max_sum = total_sum - min_sum\n",
        "        max_sum = max(max_sum, circular_max_sum)\n",
        "\n",
        "    return max_sum\n",
        "\n",
        "# Test the function\n",
        "nums = [1, -2, 3, -2]\n",
        "print(maxSubarraySumCircular(nums))  # Output: 3\n"
      ],
      "metadata": {
        "colab": {
          "base_uri": "https://localhost:8080/"
        },
        "id": "Ug3yqC6pllX0",
        "outputId": "389a88ac-f287-4524-a883-7dd731232607"
      },
      "execution_count": 2,
      "outputs": [
        {
          "output_type": "stream",
          "name": "stdout",
          "text": [
            "3\n"
          ]
        }
      ]
    },
    {
      "cell_type": "markdown",
      "source": [
        "The school cafeteria offers circular and square sandwiches at lunch break, referred to by numbers `0` and `1` respectively. All students stand in a queue. Each student either prefers square or circular sandwiches.\n",
        "\n",
        "The number of sandwiches in the cafeteria is equal to the number of students. The sandwiches are placed in a **stack**. At each step:\n",
        "\n",
        "- If the student at the front of the queue **prefers** the sandwich on the top of the stack, they will **take it** and leave the queue.\n",
        "- Otherwise, they will **leave it** and go to the queue's end.\n",
        "\n",
        "This continues until none of the queue students want to take the top sandwich and are thus unable to eat.\n",
        "\n",
        "You are given two integer arrays `students` and `sandwiches` where `sandwiches[i]` is the type of the `ith` sandwich in the stack (`i = 0` is the top of the stack) and `students[j]` is the preference of the `jth` student in the initial queue (`j = 0` is the front of the queue). Return *the number of students that are unable to eat.*\n",
        "\n",
        "**Example 1:**Input: students = [1,1,0,0], sandwiches = [0,1,0,1]\n",
        "Output: 0\n",
        "Explanation:\n",
        "- Front student leaves the top sandwich and returns to the end of the line making students = [1,0,0,1].\n",
        "- Front student leaves the top sandwich and returns to the end of the line making students = [0,0,1,1].\n",
        "- Front student takes the top sandwich and leaves the line making students = [0,1,1] and sandwiches = [1,0,1].\n",
        "- Front student leaves the top sandwich and returns to the end of the line making students = [1,1,0].\n",
        "- Front student takes the top sandwich and leaves the line making students = [1,0] and sandwiches = [0,1].\n",
        "- Front student leaves the top sandwich and returns to the end of the line making students = [0,1].\n",
        "- Front student takes the top sandwich and leaves the line making students = [1] and sandwiches = [1].\n",
        "- Front student takes the top sandwich and leaves the line making students = [] and sandwiches = [].\n",
        "Hence all students are able to eat."
      ],
      "metadata": {
        "id": "K_VmJ4Pal-P7"
      }
    },
    {
      "cell_type": "code",
      "source": [
        "def countStudents(students, sandwiches):\n",
        "    queue = students  # Initialize the queue of students\n",
        "\n",
        "    while len(queue) > 0:\n",
        "        if queue[0] == sandwiches[0]:\n",
        "            queue.pop(0)  # Student takes the sandwich\n",
        "            sandwiches.pop(0)  # Sandwich is consumed\n",
        "        else:\n",
        "            queue.append(queue.pop(0))  # Student goes to the end of the queue\n",
        "\n",
        "        # Check if all sandwiches are consumed\n",
        "        if len(sandwiches) == 0:\n",
        "            return 0\n",
        "\n",
        "    # Number of students unable to eat is the number of remaining sandwiches\n",
        "    return len(sandwiches)\n",
        "\n",
        "# Test the function\n",
        "students = [1, 1, 0, 0]\n",
        "sandwiches = [0, 1, 0, 1]\n",
        "print(countStudents(students, sandwiches))  # Output: 0\n"
      ],
      "metadata": {
        "colab": {
          "base_uri": "https://localhost:8080/"
        },
        "id": "4dQvlG9Il1Ws",
        "outputId": "dece7c75-eaf5-41be-86c5-09657d8a7e30"
      },
      "execution_count": 3,
      "outputs": [
        {
          "output_type": "stream",
          "name": "stdout",
          "text": [
            "0\n"
          ]
        }
      ]
    },
    {
      "cell_type": "markdown",
      "source": [
        "<aside>\n",
        "💡 **Question 4**\n",
        "\n",
        "You have a `RecentCounter` class which counts the number of recent requests within a certain time frame.\n",
        "\n",
        "Implement the `RecentCounter` class:\n",
        "\n",
        "- `RecentCounter()` Initializes the counter with zero recent requests.\n",
        "- `int ping(int t)` Adds a new request at time `t`, where `t` represents some time in milliseconds, and returns the number of requests that has happened in the past `3000` milliseconds (including the new request). Specifically, return the number of requests that have happened in the inclusive range `[t - 3000, t]`.\n",
        "\n",
        "It is **guaranteed** that every call to `ping` uses a strictly larger value of `t` than the previous call.\n",
        "\n",
        "**Example 1:**\n",
        "\n",
        "</aside>Input\n",
        "[\"RecentCounter\", \"ping\", \"ping\", \"ping\", \"ping\"]\n",
        "[[], [1], [100], [3001], [3002]]\n",
        "Output\n",
        "[null, 1, 2, 3, 3]\n",
        "\n",
        "Explanation\n",
        "RecentCounter recentCounter = new RecentCounter();\n",
        "recentCounter.ping(1);     // requests = [1], range is [-2999,1], return 1\n",
        "recentCounter.ping(100);   // requests = [1,100], range is [-2900,100], return 2\n",
        "recentCounter.ping(3001);  // requests = [1,100,3001], range is [1,3001], return 3\n",
        "recentCounter.ping(3002);  // requests = [1,100,3001,3002], range is [2,3002], return 3"
      ],
      "metadata": {
        "id": "401duiJNmPKE"
      }
    },
    {
      "cell_type": "code",
      "source": [
        "from collections import deque\n",
        "\n",
        "class RecentCounter:\n",
        "    def __init__(self):\n",
        "        self.requests = deque()  # Queue to store recent requests\n",
        "\n",
        "    def ping(self, t: int) -> int:\n",
        "        self.requests.append(t)  # Add new request to the queue\n",
        "\n",
        "        # Remove requests that are outside the time frame\n",
        "        while self.requests[0] < t - 3000:\n",
        "            self.requests.popleft()\n",
        "\n",
        "        return len(self.requests)  # Return the number of requests in the time frame\n",
        "recentCounter = RecentCounter()\n",
        "print(recentCounter.ping(1))    # Output: 1\n",
        "print(recentCounter.ping(100))  # Output: 2\n",
        "print(recentCounter.ping(3001)) # Output: 3\n",
        "print(recentCounter.ping(3002)) # Output: 3\n"
      ],
      "metadata": {
        "colab": {
          "base_uri": "https://localhost:8080/"
        },
        "id": "tw2XovMcmHPz",
        "outputId": "25a79c64-a638-4da8-cd99-1804248851df"
      },
      "execution_count": 4,
      "outputs": [
        {
          "output_type": "stream",
          "name": "stdout",
          "text": [
            "1\n",
            "2\n",
            "3\n",
            "3\n"
          ]
        }
      ]
    },
    {
      "cell_type": "markdown",
      "source": [
        "There are `n` friends that are playing a game. The friends are sitting in a circle and are numbered from `1` to `n` in **clockwise order**. More formally, moving clockwise from the `ith` friend brings you to the `(i+1)th` friend for `1 <= i < n`, and moving clockwise from the `nth` friend brings you to the `1st` friend.\n",
        "\n",
        "The rules of the game are as follows:\n",
        "\n",
        "1. **Start** at the `1st` friend.\n",
        "2. Count the next `k` friends in the clockwise direction **including** the friend you started at. The counting wraps around the circle and may count some friends more than once.\n",
        "3. The last friend you counted leaves the circle and loses the game.\n",
        "4. If there is still more than one friend in the circle, go back to step `2` **starting** from the friend **immediately clockwise** of the friend who just lost and repeat.\n",
        "5. Else, the last friend in the circle wins the game.\n",
        "\n",
        "Given the number of friends, `n`, and an integer `k`, return *the winner of the game*.\n",
        "\n",
        "**Example 1:**Input: n = 5, k = 2\n",
        "Output: 3\n",
        "Explanation: Here are the steps of the game:\n",
        "1) Start at friend 1.\n",
        "2) Count 2 friends clockwise, which are friends 1 and 2.\n",
        "3) Friend 2 leaves the circle. Next start is friend 3.\n",
        "4) Count 2 friends clockwise, which are friends 3 and 4.\n",
        "5) Friend 4 leaves the circle. Next start is friend 5.\n",
        "6) Count 2 friends clockwise, which are friends 5 and 1.\n",
        "7) Friend 1 leaves the circle. Next start is friend 3.\n",
        "8) Count 2 friends clockwise, which are friends 3 and 5.\n",
        "9) Friend 5 leaves the circle. Only friend 3 is left, so they are the winner."
      ],
      "metadata": {
        "id": "WquCpHSnmaZr"
      }
    },
    {
      "cell_type": "code",
      "source": [
        "class Node:\n",
        "    def __init__(self, val):\n",
        "        self.val = val\n",
        "        self.next = None\n",
        "\n",
        "def findTheWinner(n, k):\n",
        "    # Create a circular linked list representing the friends\n",
        "    head = Node(1)\n",
        "    curr = head\n",
        "    for i in range(2, n + 1):\n",
        "        curr.next = Node(i)\n",
        "        curr = curr.next\n",
        "    curr.next = head  # Make the list circular\n",
        "\n",
        "    # Iterate through the list until there is only one friend left\n",
        "    while curr.next != curr:\n",
        "        # Move k - 1 steps in the clockwise direction\n",
        "        for _ in range(k - 1):\n",
        "            curr = curr.next\n",
        "        # Remove the next friend from the list\n",
        "        curr.next = curr.next.next\n",
        "\n",
        "    return curr.val  # Return the winner's number\n",
        "\n",
        "# Test the function\n",
        "n = 5\n",
        "k = 2\n",
        "print(findTheWinner(n, k))  # Output: 3\n"
      ],
      "metadata": {
        "colab": {
          "base_uri": "https://localhost:8080/"
        },
        "id": "1Im_6pjqmS08",
        "outputId": "70590299-327c-4692-c3a9-103417999167"
      },
      "execution_count": 5,
      "outputs": [
        {
          "output_type": "stream",
          "name": "stdout",
          "text": [
            "3\n"
          ]
        }
      ]
    },
    {
      "cell_type": "markdown",
      "source": [
        "You are given an integer array `deck`. There is a deck of cards where every card has a unique integer. The integer on the `ith` card is `deck[i]`.\n",
        "\n",
        "You can order the deck in any order you want. Initially, all the cards start face down (unrevealed) in one deck.\n",
        "\n",
        "You will do the following steps repeatedly until all cards are revealed:\n",
        "\n",
        "1. Take the top card of the deck, reveal it, and take it out of the deck.\n",
        "2. If there are still cards in the deck then put the next top card of the deck at the bottom of the deck.\n",
        "3. If there are still unrevealed cards, go back to step 1. Otherwise, stop.\n",
        "\n",
        "Return *an ordering of the deck that would reveal the cards in increasing order*.\n",
        "\n",
        "**Note** that the first entry in the answer is considered to be the top of the deck.\n",
        "\n",
        "**Example 1:**Input: deck = [17,13,11,2,3,5,7]\n",
        "Output: [2,13,3,11,5,17,7]\n",
        "Explanation:\n",
        "We get the deck in the order [17,13,11,2,3,5,7] (this order does not matter), and reorder it.\n",
        "After reordering, the deck starts as [2,13,3,11,5,17,7], where 2 is the top of the deck.\n",
        "We reveal 2, and move 13 to the bottom.  The deck is now [3,11,5,17,7,13].\n",
        "We reveal 3, and move 11 to the bottom.  The deck is now [5,17,7,13,11].\n",
        "We reveal 5, and move 17 to the bottom.  The deck is now [7,13,11,17].\n",
        "We reveal 7, and move 13 to the bottom.  The deck is now [11,17,13].\n",
        "We reveal 11, and move 17 to the bottom.  The deck is now [13,17].\n",
        "We reveal 13, and move 17 to the bottom.  The deck is now [17].\n",
        "We reveal 17.\n",
        "Since all the cards revealed are in increasing order, the answer is correct."
      ],
      "metadata": {
        "id": "ewnxuojtmkOs"
      }
    },
    {
      "cell_type": "code",
      "source": [
        "from collections import deque\n",
        "\n",
        "def deckRevealedIncreasing(deck):\n",
        "    deck.sort()  # Sort the deck in ascending order\n",
        "    n = len(deck)\n",
        "    result = [0] * n  # Initialize the result list with zeros\n",
        "    queue = deque(range(n))  # Queue of indices with zeros in the result list\n",
        "\n",
        "    for card in deck:\n",
        "        result[queue.popleft()] = card  # Reveal the card at the next available position\n",
        "        if queue:\n",
        "            queue.append(queue.popleft())  # Move the next available position to the back of the queue\n",
        "\n",
        "    return result\n",
        "\n",
        "# Test the function\n",
        "deck = [17, 13, 11, 2, 3, 5, 7]\n",
        "print(deckRevealedIncreasing(deck))  # Output: [2, 13, 3, 11, 5, 17, 7]\n"
      ],
      "metadata": {
        "colab": {
          "base_uri": "https://localhost:8080/"
        },
        "id": "TH52FeHEmd-U",
        "outputId": "1998f0f0-bd71-4517-8c6e-9ba2ef094809"
      },
      "execution_count": 6,
      "outputs": [
        {
          "output_type": "stream",
          "name": "stdout",
          "text": [
            "[2, 13, 3, 11, 5, 17, 7]\n"
          ]
        }
      ]
    },
    {
      "cell_type": "markdown",
      "source": [
        "Design a queue that supports `push` and `pop` operations in the front, middle, and back.\n",
        "\n",
        "Implement the `FrontMiddleBack` class:\n",
        "\n",
        "- `FrontMiddleBack()` Initializes the queue.\n",
        "- `void pushFront(int val)` Adds `val` to the **front** of the queue.\n",
        "- `void pushMiddle(int val)` Adds `val` to the **middle** of the queue.\n",
        "- `void pushBack(int val)` Adds `val` to the **back** of the queue.\n",
        "- `int popFront()` Removes the **front** element of the queue and returns it. If the queue is empty, return `1`.\n",
        "- `int popMiddle()` Removes the **middle** element of the queue and returns it. If the queue is empty, return `1`.\n",
        "- `int popBack()` Removes the **back** element of the queue and returns it. If the queue is empty, return `1`.\n",
        "\n",
        "**Notice** that when there are **two** middle position choices, the operation is performed on the **frontmost** middle position choice. For example:\n",
        "\n",
        "- Pushing `6` into the middle of `[1, 2, 3, 4, 5]` results in `[1, 2, 6, 3, 4, 5]`.\n",
        "- Popping the middle from `[1, 2, 3, 4, 5, 6]` returns `3` and results in `[1, 2, 4, 5, 6]`.\n",
        "\n",
        "**Example 1:**Input:\n",
        "[\"FrontMiddleBackQueue\", \"pushFront\", \"pushBack\", \"pushMiddle\", \"pushMiddle\", \"popFront\", \"popMiddle\", \"popMiddle\", \"popBack\", \"popFront\"]\n",
        "[[], [1], [2], [3], [4], [], [], [], [], []]\n",
        "Output:\n",
        "[null, null, null, null, null, 1, 3, 4, 2, -1]\n",
        "\n",
        "Explanation:\n",
        "FrontMiddleBackQueue q = new FrontMiddleBackQueue();\n",
        "q.pushFront(1);   // [1]\n",
        "q.pushBack(2);    // [1,2]\n",
        "q.pushMiddle(3);  // [1,3, 2]\n",
        "q.pushMiddle(4);  // [1,4, 3, 2]\n",
        "q.popFront();     // return 1 -> [4, 3, 2]\n",
        "q.popMiddle();    // return 3 -> [4, 2]\n",
        "q.popMiddle();    // return 4 -> [2]\n",
        "q.popBack();      // return 2 -> []\n",
        "q.popFront();     // return -1 -> [] (The queue is empty)"
      ],
      "metadata": {
        "id": "O_AAKD77mv0z"
      }
    },
    {
      "cell_type": "code",
      "source": [
        "class FrontMiddleBackQueue:\n",
        "    def __init__(self):\n",
        "        self.front = []  # Front half of the queue\n",
        "        self.back = []   # Back half of the queue\n",
        "\n",
        "    def pushFront(self, val: int) -> None:\n",
        "        self.front.append(val)\n",
        "        self._balance()\n",
        "\n",
        "    def pushMiddle(self, val: int) -> None:\n",
        "        mid = len(self.front) // 2\n",
        "        self.front.insert(mid, val)\n",
        "        self._balance()\n",
        "\n",
        "    def pushBack(self, val: int) -> None:\n",
        "        self.back.append(val)\n",
        "        self._balance()\n",
        "\n",
        "    def popFront(self) -> int:\n",
        "        if self.isEmpty():\n",
        "            return -1\n",
        "        if not self.front:\n",
        "            self._rebalance()\n",
        "        return self.front.pop()\n",
        "\n",
        "    def popMiddle(self) -> int:\n",
        "        if self.isEmpty():\n",
        "            return -1\n",
        "        if len(self.front) > len(self.back):\n",
        "            return self.front.pop()\n",
        "        return self.back.pop(0)\n",
        "\n",
        "    def popBack(self) -> int:\n",
        "        if self.isEmpty():\n",
        "            return -1\n",
        "        if self.back:\n",
        "            return self.back.pop()\n",
        "        return self.front.pop()\n",
        "\n",
        "    def isEmpty(self) -> bool:\n",
        "        return not self.front and not self.back\n",
        "\n",
        "    def _balance(self) -> None:\n",
        "        if len(self.front) > len(self.back) + 1:\n",
        "            self.back.insert(0, self.front.pop())\n",
        "\n",
        "    def _rebalance(self) -> None:\n",
        "        mid = len(self.back) // 2\n",
        "        self.front.append(self.back.pop(mid))\n",
        "\n",
        "\n",
        "# Test the class\n",
        "q = FrontMiddleBackQueue()\n",
        "print(q.isEmpty())  # Output: True\n",
        "\n",
        "q.pushFront(1)\n",
        "q.pushBack(2)\n",
        "q.pushMiddle(3)\n",
        "q.pushMiddle(4)\n",
        "print(q.popFront())  # Output: 1\n",
        "print(q.popMiddle())  # Output: 3\n",
        "print(q.popMiddle())  # Output: 4\n",
        "print(q.popBack())  # Output: 2\n",
        "print(q.popFront())  # Output: -1\n",
        "print(q.isEmpty())  # Output: True\n"
      ],
      "metadata": {
        "colab": {
          "base_uri": "https://localhost:8080/"
        },
        "id": "jkFzKH_kmo07",
        "outputId": "70315293-b082-47eb-b2e2-7860fb604cbc"
      },
      "execution_count": 7,
      "outputs": [
        {
          "output_type": "stream",
          "name": "stdout",
          "text": [
            "True\n",
            "4\n",
            "1\n",
            "2\n",
            "3\n",
            "-1\n",
            "True\n"
          ]
        }
      ]
    },
    {
      "cell_type": "markdown",
      "source": [
        "For a stream of integers, implement a data structure that checks if the last `k` integers parsed in the stream are **equal** to `value`.\n",
        "\n",
        "Implement the **DataStream** class:\n",
        "\n",
        "- `DataStream(int value, int k)` Initializes the object with an empty integer stream and the two integers `value` and `k`.\n",
        "- `boolean consec(int num)` Adds `num` to the stream of integers. Returns `true` if the last `k` integers are equal to `value`, and `false` otherwise. If there are less than `k` integers, the condition does not hold true, so returns `false`.\n",
        "\n",
        "**Example 1:**Input\n",
        "[\"DataStream\", \"consec\", \"consec\", \"consec\", \"consec\"]\n",
        "[[4, 3], [4], [4], [4], [3]]\n",
        "Output\n",
        "[null, false, false, true, false]\n",
        "\n",
        "Explanation\n",
        "DataStream dataStream = new DataStream(4, 3); //value = 4, k = 3\n",
        "dataStream.consec(4); // Only 1 integer is parsed, so returns False.\n",
        "dataStream.consec(4); // Only 2 integers are parsed.\n",
        "                      // Since 2 is less than k, returns False.\n",
        "dataStream.consec(4); // The 3 integers parsed are all equal to value, so returns True.\n",
        "dataStream.consec(3); // The last k integers parsed in the stream are [4,4,3].\n",
        "                      // Since 3 is not equal to value, it returns False."
      ],
      "metadata": {
        "id": "AcOZpWajm9BD"
      }
    },
    {
      "cell_type": "code",
      "source": [
        "from collections import deque\n",
        "\n",
        "class DataStream:\n",
        "    def __init__(self, value: int, k: int):\n",
        "        self.value = value\n",
        "        self.k = k\n",
        "        self.stream = deque()\n",
        "\n",
        "    def consec(self, num: int) -> bool:\n",
        "        self.stream.append(num)\n",
        "        if len(self.stream) < self.k:\n",
        "            return False\n",
        "        if len(self.stream) > self.k:\n",
        "            self.stream.popleft()\n",
        "        return all(x == self.value for x in self.stream)\n",
        "dataStream = DataStream(4, 3)\n",
        "print(dataStream.consec(4))  # Output: False\n",
        "print(dataStream.consec(4))  # Output: False\n",
        "print(dataStream.consec(4))  # Output: True\n",
        "print(dataStream.consec(3))  # Output: False\n"
      ],
      "metadata": {
        "colab": {
          "base_uri": "https://localhost:8080/"
        },
        "id": "j6ps4p7gm0KL",
        "outputId": "15da268d-f3d9-4687-b88e-fa128e81d1cd"
      },
      "execution_count": 8,
      "outputs": [
        {
          "output_type": "stream",
          "name": "stdout",
          "text": [
            "False\n",
            "False\n",
            "True\n",
            "False\n"
          ]
        }
      ]
    },
    {
      "cell_type": "code",
      "source": [],
      "metadata": {
        "id": "Pjsqs3lJnCdb"
      },
      "execution_count": null,
      "outputs": []
    }
  ]
}