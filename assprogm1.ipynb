{
  "nbformat": 4,
  "nbformat_minor": 0,
  "metadata": {
    "colab": {
      "provenance": [],
      "authorship_tag": "ABX9TyOZoAWzOqhuRqubq3I4f610",
      "include_colab_link": true
    },
    "kernelspec": {
      "name": "python3",
      "display_name": "Python 3"
    },
    "language_info": {
      "name": "python"
    }
  },
  "cells": [
    {
      "cell_type": "markdown",
      "metadata": {
        "id": "view-in-github",
        "colab_type": "text"
      },
      "source": [
        "<a href=\"https://colab.research.google.com/github/prarit26/python/blob/python-program/assprogm1.ipynb\" target=\"_parent\"><img src=\"https://colab.research.google.com/assets/colab-badge.svg\" alt=\"Open In Colab\"/></a>"
      ]
    },
    {
      "cell_type": "markdown",
      "source": [
        "1. Write a Python program to print &quot;Hello Python&quot;?"
      ],
      "metadata": {
        "id": "nsbEamEUC_cv"
      }
    },
    {
      "cell_type": "code",
      "execution_count": null,
      "metadata": {
        "colab": {
          "base_uri": "https://localhost:8080/"
        },
        "id": "qH7afRNNC1XB",
        "outputId": "4fd895f9-f3d7-4486-ab11-68c0f30540f9"
      },
      "outputs": [
        {
          "output_type": "stream",
          "name": "stdout",
          "text": [
            "Hello Python\n"
          ]
        }
      ],
      "source": [
        "print(\"Hello Python\")"
      ]
    },
    {
      "cell_type": "markdown",
      "source": [
        "2.Write a Python program to do arithmetic operations addition and division ?"
      ],
      "metadata": {
        "id": "otWgMGf27cZ-"
      }
    },
    {
      "cell_type": "code",
      "source": [
        "b=True\n",
        "while b == True :\n",
        "  try:\n",
        "    num1=int(input(\"enter first no : \"))\n",
        "    num2=int(input(\"enter second no : \"))\n",
        "   \n",
        "    a= int(input(\"which opration to perform : 1 (addition), 2 (division)\"))\n",
        "  except :\n",
        "    print(\"enter 1 or 2\")\n",
        "  else :\n",
        "    if a==1:\n",
        "      num3=num1+num2\n",
        "      print(f\"the result of two nums a: {num1} and b: {num2} is ={num3}\")\n",
        "    if a==2 :\n",
        "      num3=num1/num2\n",
        "      print(f\"the result of two nums a: {num1} and b: {num2} is ={num3}\")\n",
        "  c=input(\"calculate more: y/n : \")\n",
        "  if c==\"n\":\n",
        "    b=False"
      ],
      "metadata": {
        "colab": {
          "base_uri": "https://localhost:8080/"
        },
        "id": "FjX6AG8L7dpc",
        "outputId": "787f45a7-c4f7-4d23-e4aa-7fd3dc9d81d7"
      },
      "execution_count": 10,
      "outputs": [
        {
          "name": "stdout",
          "output_type": "stream",
          "text": [
            "enter first no : 52\n",
            "enter second no : 23\n",
            "which opration to perform : 1 (addition), 2 (division)2\n",
            "the result of two nums a: 52 and b: 23 is =2.260869565217391\n",
            "calculate more: y/n : n\n"
          ]
        }
      ]
    },
    {
      "cell_type": "markdown",
      "source": [
        "3.Write a Python program to find the area of a triangle ?"
      ],
      "metadata": {
        "id": "pP2rkKAeEESC"
      }
    },
    {
      "cell_type": "code",
      "source": [
        "height = int(input('Enter height of triangle: '))\n",
        "base = int(input('Enter base of triangle: '))\n",
        "\n",
        "def areaOfTriangle(height, base):\n",
        "    print('\\nArea of triangle = ', 0.5*height*base)\n",
        "\n",
        "areaOfTriangle(height,base)"
      ],
      "metadata": {
        "colab": {
          "base_uri": "https://localhost:8080/"
        },
        "id": "AHU7gZvLEQiT",
        "outputId": "481e9520-ac7b-42e3-a8ba-415bfa1411ae"
      },
      "execution_count": 11,
      "outputs": [
        {
          "output_type": "stream",
          "name": "stdout",
          "text": [
            "Enter height of triangle: 565\n",
            "Enter base of triangle: 5\n",
            "\n",
            "Area of triangle -> 1412.5\n"
          ]
        }
      ]
    },
    {
      "cell_type": "markdown",
      "source": [
        "4.Write a Python program to swap two variables ?"
      ],
      "metadata": {
        "id": "UiQWVpCJEb_b"
      }
    },
    {
      "cell_type": "code",
      "source": [
        "num_1 = int(input(\"Enter First Number: \"))\n",
        "num_2 = int(input(\"Enter Second Number: \"))\n",
        "\n",
        "def swapNumbers(a,b):\n",
        "    temp = a\n",
        "    a = b\n",
        "    b = temp\n",
        "    return a,b\n",
        "\n",
        "print('Before swapping -> ',num_1, num_2)\n",
        "num_1, num_2 = swapNumbers(num_1, num_2)\n",
        "print('After swapping -> ',num_1,num_2)\n"
      ],
      "metadata": {
        "colab": {
          "base_uri": "https://localhost:8080/"
        },
        "id": "oSGLrbhgEc8b",
        "outputId": "ab95166e-f0b8-4184-c528-7dd4b309b139"
      },
      "execution_count": 12,
      "outputs": [
        {
          "output_type": "stream",
          "name": "stdout",
          "text": [
            "Enter First Number: 45\n",
            "Enter Second Number: 61\n",
            "Before swapping ->  45 61\n",
            "After swapping ->  61 45\n"
          ]
        }
      ]
    },
    {
      "cell_type": "markdown",
      "source": [
        "5.Write a Python program to generate a random number ?"
      ],
      "metadata": {
        "id": "JwM-LILsEoLB"
      }
    },
    {
      "cell_type": "code",
      "source": [
        "from random import randint\n",
        "\n",
        "def generateRandomNumber(start=0, end=100000):\n",
        "    print('Random number -> ',randint(start,end))\n",
        "\n",
        "generateRandomNumber()"
      ],
      "metadata": {
        "colab": {
          "base_uri": "https://localhost:8080/"
        },
        "id": "kD_0XMsEEpX0",
        "outputId": "8ac97451-2f67-4ea1-d847-342a58dd578d"
      },
      "execution_count": 15,
      "outputs": [
        {
          "output_type": "stream",
          "name": "stdout",
          "text": [
            "Random number ->  14146\n"
          ]
        }
      ]
    }
  ]
}