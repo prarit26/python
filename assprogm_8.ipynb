{
  "nbformat": 4,
  "nbformat_minor": 0,
  "metadata": {
    "colab": {
      "provenance": [],
      "authorship_tag": "ABX9TyPS42i3c3mPfftTboXM/HYR",
      "include_colab_link": true
    },
    "kernelspec": {
      "name": "python3",
      "display_name": "Python 3"
    },
    "language_info": {
      "name": "python"
    }
  },
  "cells": [
    {
      "cell_type": "markdown",
      "metadata": {
        "id": "view-in-github",
        "colab_type": "text"
      },
      "source": [
        "<a href=\"https://colab.research.google.com/github/prarit26/python/blob/python-program/assprogm_8.ipynb\" target=\"_parent\"><img src=\"https://colab.research.google.com/assets/colab-badge.svg\" alt=\"Open In Colab\"/></a>"
      ]
    },
    {
      "cell_type": "markdown",
      "source": [
        "1. Write a Python Program to Add two Matrices ?"
      ],
      "metadata": {
        "id": "BCKjzKI8Y9SI"
      }
    },
    {
      "cell_type": "code",
      "execution_count": 17,
      "metadata": {
        "colab": {
          "base_uri": "https://localhost:8080/"
        },
        "id": "g7XAYIlMY2Yl",
        "outputId": "4550eabb-5804-464a-b9a1-8e8b0a97b873"
      },
      "outputs": [
        {
          "output_type": "stream",
          "name": "stdout",
          "text": [
            "enter no of row 3\n",
            "enter no of columb 3\n",
            "enter 1 row and 1 columb element : 1\n",
            "enter 1 row and 2 columb element : 2\n",
            "enter 1 row and 3 columb element : 3\n",
            "enter 2 row and 1 columb element : 4\n",
            "enter 2 row and 2 columb element : 5\n",
            "enter 2 row and 3 columb element : 6\n",
            "enter 3 row and 1 columb element : 7\n",
            "enter 3 row and 2 columb element : 8\n",
            "enter 3 row and 3 columb element : 9\n",
            "enter no of row 3\n",
            "enter no of columb 3\n",
            "enter 1 row and 1 columb element : 7\n",
            "enter 1 row and 2 columb element : 8\n",
            "enter 1 row and 3 columb element : 9\n",
            "enter 2 row and 1 columb element : 4\n",
            "enter 2 row and 2 columb element : 5\n",
            "enter 2 row and 3 columb element : 6\n",
            "enter 3 row and 1 columb element : 2\n",
            "enter 3 row and 2 columb element : 1\n",
            "enter 3 row and 3 columb element : 3\n",
            "sum of matrix [[1, 2, 3], [4, 5, 6], [7, 8, 9]] and [[7, 8, 9], [4, 5, 6], [2, 1, 3]] is [[8, 10, 12], [8, 10, 12], [9, 9, 12]]\n"
          ]
        }
      ],
      "source": [
        "def matrixinp():\n",
        "  a=int(input(\"enter no of row \"))\n",
        "  b=int(input(\"enter no of columb \"))\n",
        "  matr=[]\n",
        "  for i in range (1,a+1):\n",
        "    mat=[]\n",
        "    for j in range (1,b+1):\n",
        "      tem=int(input(f\"enter {i} row and {j} columb element : \"))\n",
        "      \n",
        "      mat.append(tem)\n",
        "    matr.append(mat)\n",
        "\n",
        "  return(matr)\n",
        "\n",
        "def addmat(a,b):\n",
        "  c=[]\n",
        "  for i in range(len(a)):\n",
        "    d=[]\n",
        "    for j in range(len(b)):\n",
        "\n",
        "      d.append(a[i][j]+b[i][j])\n",
        "    c.append(d)\n",
        "  return(c)     \n",
        "a=matrixinp()\n",
        "b=matrixinp()\n",
        "c=addmat(a,b)\n",
        "print(f\"sum of matrix {a} and {b} is {c}\")\n"
      ]
    },
    {
      "cell_type": "markdown",
      "source": [
        "2. Write a Python Program to Multiply Two Matrices?"
      ],
      "metadata": {
        "id": "ZPornoR4sWYW"
      }
    },
    {
      "cell_type": "code",
      "source": [
        "def mult(a,b):\n",
        "\n",
        "  c=[]\n",
        "  for i in range(len(a)):\n",
        "    d=[]\n",
        "    for j in range(len(b)):\n",
        "      s=0\n",
        "      for z in range(len(b)):\n",
        "\n",
        "        s=s+(a[i][z]*b[z][j])\n",
        "      d.append(s)\n",
        "    c.append(d)\n",
        "  return(c)  \n",
        "\n",
        "a=matrixinp()\n",
        "b=matrixinp()\n",
        "c=mult(a,b)\n",
        "print(f\"multipy of matrix {a} and {b} is {c}\")"
      ],
      "metadata": {
        "id": "VvtXS4WTb4Sf",
        "colab": {
          "base_uri": "https://localhost:8080/"
        },
        "outputId": "333daeb1-23fc-45a7-91a0-a07e5cf57083"
      },
      "execution_count": 24,
      "outputs": [
        {
          "output_type": "stream",
          "name": "stdout",
          "text": [
            "enter no of row 3\n",
            "enter no of columb 3\n",
            "enter 1 row and 1 columb element : 1\n",
            "enter 1 row and 2 columb element : 2\n",
            "enter 1 row and 3 columb element : 3\n",
            "enter 2 row and 1 columb element : 4\n",
            "enter 2 row and 2 columb element : 5\n",
            "enter 2 row and 3 columb element : 6\n",
            "enter 3 row and 1 columb element : 7\n",
            "enter 3 row and 2 columb element : 8\n",
            "enter 3 row and 3 columb element : 9\n",
            "enter no of row 3\n",
            "enter no of columb 3\n",
            "enter 1 row and 1 columb element : 7\n",
            "enter 1 row and 2 columb element : 8\n",
            "enter 1 row and 3 columb element : 9\n",
            "enter 2 row and 1 columb element : 4\n",
            "enter 2 row and 2 columb element : 5\n",
            "enter 2 row and 3 columb element : 6\n",
            "enter 3 row and 1 columb element : 1\n",
            "enter 3 row and 2 columb element : 2\n",
            "enter 3 row and 3 columb element : 3\n",
            "multipy of matrix [[1, 2, 3], [4, 5, 6], [7, 8, 9]] and [[7, 8, 9], [4, 5, 6], [1, 2, 3]] is [[18, 24, 30], [54, 69, 84], [90, 114, 138]]\n"
          ]
        }
      ]
    },
    {
      "cell_type": "markdown",
      "source": [
        "3. Write a Python Program to transpose a Matrix ?"
      ],
      "metadata": {
        "id": "CtJxYi_8xl5U"
      }
    },
    {
      "cell_type": "code",
      "source": [
        "def trans(a):\n",
        "  c=[]\n",
        "  for i in range(len(a)):\n",
        "    d=[]\n",
        "    for j in range(len(a)):\n",
        "      d.append(a[j][i])\n",
        "    c.append(d)\n",
        "  return(c)\n",
        "a=matrixinp()\n",
        "c=trans(a)\n",
        "print(f\"trans of matrix {a} is {c}\")"
      ],
      "metadata": {
        "colab": {
          "base_uri": "https://localhost:8080/"
        },
        "id": "K0bVR5CWlMLo",
        "outputId": "9cd4f1ec-a972-42a5-ea4e-cb152969444e"
      },
      "execution_count": 25,
      "outputs": [
        {
          "output_type": "stream",
          "name": "stdout",
          "text": [
            "enter no of row 3\n",
            "enter no of columb 3\n",
            "enter 1 row and 1 columb element : 1\n",
            "enter 1 row and 2 columb element : 2\n",
            "enter 1 row and 3 columb element : 3\n",
            "enter 2 row and 1 columb element : 4\n",
            "enter 2 row and 2 columb element : 5\n",
            "enter 2 row and 3 columb element : 6\n",
            "enter 3 row and 1 columb element : 7\n",
            "enter 3 row and 2 columb element : 8\n",
            "enter 3 row and 3 columb element : 9\n",
            "trans of matrix [[1, 2, 3], [4, 5, 6], [7, 8, 9]] is [[1, 4, 7], [2, 5, 8], [3, 6, 9]]\n"
          ]
        }
      ]
    },
    {
      "cell_type": "markdown",
      "source": [
        "4. Write a Python Program to sort Words in an Alphabatical Order ?"
      ],
      "metadata": {
        "id": "GCVfm-9qy__c"
      }
    },
    {
      "cell_type": "code",
      "source": [
        "def sortString():\n",
        "    in_string = input(\"Enter a String: \").title()\n",
        "    sorted_list = sorted(in_string.split(' '))\n",
        "    print(' '.join(sorted_list))\n",
        "\n",
        "sortString()"
      ],
      "metadata": {
        "colab": {
          "base_uri": "https://localhost:8080/"
        },
        "id": "rNota54ayyDF",
        "outputId": "f4019f00-be28-466f-ee92-5e5860b80a9f"
      },
      "execution_count": 26,
      "outputs": [
        {
          "output_type": "stream",
          "name": "stdout",
          "text": [
            "Enter a String: Ineuron Full Stack Data Sciecne\n",
            "Data Full Ineuron Sciecne Stack\n"
          ]
        }
      ]
    },
    {
      "cell_type": "markdown",
      "source": [
        "5. Write a Python Program to remove Punctuations From a String ?"
      ],
      "metadata": {
        "id": "EulunUwGzhNb"
      }
    },
    {
      "cell_type": "code",
      "source": [
        "def removePunctuatuions():\n",
        "    punctuations = '''!()-[]{};:'\"\\,<>./?@#$%^&*_~'''\n",
        "    in_string = input('Enter a String: ')\n",
        "    out_string = ''\n",
        "    for ele in in_string:\n",
        "        if ele not in punctuations:\n",
        "            out_string += ele\n",
        "    print(out_string)\n",
        "    \n",
        "removePunctuatuions()"
      ],
      "metadata": {
        "colab": {
          "base_uri": "https://localhost:8080/"
        },
        "id": "lgIw7GePzagb",
        "outputId": "92941cb1-54ae-4105-b124-a1c72fb250fd"
      },
      "execution_count": 27,
      "outputs": [
        {
          "output_type": "stream",
          "name": "stdout",
          "text": [
            "Enter a String:  \"Full Stacks DS\" @ Ineuron \n",
            " Full Stacks DS  Ineuron \n"
          ]
        }
      ]
    },
    {
      "cell_type": "code",
      "source": [],
      "metadata": {
        "id": "Q8BvbkpDz2ZM"
      },
      "execution_count": null,
      "outputs": []
    }
  ]
}