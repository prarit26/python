{
  "nbformat": 4,
  "nbformat_minor": 0,
  "metadata": {
    "colab": {
      "provenance": [],
      "authorship_tag": "ABX9TyP6OQk7LKhAXdJ33gDoxEWf",
      "include_colab_link": true
    },
    "kernelspec": {
      "name": "python3",
      "display_name": "Python 3"
    },
    "language_info": {
      "name": "python"
    }
  },
  "cells": [
    {
      "cell_type": "markdown",
      "metadata": {
        "id": "view-in-github",
        "colab_type": "text"
      },
      "source": [
        "<a href=\"https://colab.research.google.com/github/prarit26/python/blob/main/Untitled18.ipynb\" target=\"_parent\"><img src=\"https://colab.research.google.com/assets/colab-badge.svg\" alt=\"Open In Colab\"/></a>"
      ]
    },
    {
      "cell_type": "markdown",
      "source": [
        "Given an array of intervals where intervals[i] = [starti, endi], merge all overlapping intervals, and return an array of the non-overlapping intervals that cover all the intervals in the inpu\n",
        "Input: intervals = [[1,3],[2,6],[8,10],[15,18]]\n",
        "Output: [[1,6],[8,10],[15,18]]\n",
        "Explanation: Since intervals [1,3] and [2,6] overlap, merge them into [1,6].\n"
      ],
      "metadata": {
        "id": "3Tp4qCfunbX8"
      }
    },
    {
      "cell_type": "code",
      "execution_count": 1,
      "metadata": {
        "colab": {
          "base_uri": "https://localhost:8080/"
        },
        "id": "V5MYL54-nZVB",
        "outputId": "dd12dd8d-b35e-4996-ee3d-09b451fa108c"
      },
      "outputs": [
        {
          "output_type": "stream",
          "name": "stdout",
          "text": [
            "[[1, 6], [8, 10], [15, 18]]\n"
          ]
        }
      ],
      "source": [
        "def merge_intervals(intervals):\n",
        "    intervals.sort(key=lambda x: x[0])  # Sort intervals based on starting values\n",
        "    result = []\n",
        "\n",
        "    for interval in intervals:\n",
        "        if not result or interval[0] > result[-1][1]:\n",
        "            # If result list is empty or current interval does not overlap with the previous interval\n",
        "            result.append(interval)\n",
        "        else:\n",
        "            # Merge the intervals by updating the end value of the previous interval\n",
        "            result[-1][1] = max(result[-1][1], interval[1])\n",
        "\n",
        "    return result\n",
        "intervals = [[1, 3], [2, 6], [8, 10], [15, 18]]\n",
        "merged = merge_intervals(intervals)\n",
        "print(merged)  # Output: [[1, 6], [8, 10], [15, 18]]\n"
      ]
    },
    {
      "cell_type": "markdown",
      "source": [
        "Given an array `nums` with `n` objects colored red, white, or blue, sort them **[in-place](https://en.wikipedia.org/wiki/In-place_algorithm)** so that objects of the same color are adjacent, with the colors in the order red, white, and blue.\n",
        "\n",
        "We will use the integers `0`, `1`, and `2` to represent the color red, white, and blue, respectively.\n",
        "\n",
        "You must solve this problem without using the library's sort function.\n",
        "\n",
        "**Example 1:**Input: nums = [2,0,2,1,1,0]\n",
        "Output: [0,0,1,1,2,2]"
      ],
      "metadata": {
        "id": "8VfJmsnYnpOc"
      }
    },
    {
      "cell_type": "code",
      "source": [
        "def sortColors(nums):\n",
        "    left = 0\n",
        "    right = len(nums) - 1\n",
        "    current = 0\n",
        "\n",
        "    while current <= right:\n",
        "        if nums[current] == 0:\n",
        "            nums[current], nums[left] = nums[left], nums[current]\n",
        "            left += 1\n",
        "            current += 1\n",
        "        elif nums[current] == 2:\n",
        "            nums[current], nums[right] = nums[right], nums[current]\n",
        "            right -= 1\n",
        "        else:\n",
        "            current += 1\n",
        "nums = [2, 0, 2, 1, 1, 0]\n",
        "sortColors(nums)\n",
        "print(nums)  # Output: [0, 0, 1, 1, 2, 2]\n"
      ],
      "metadata": {
        "colab": {
          "base_uri": "https://localhost:8080/"
        },
        "id": "9Dwl8bCqniYV",
        "outputId": "de2f53cc-03aa-4d2e-d0b0-a81c51bd947c"
      },
      "execution_count": 2,
      "outputs": [
        {
          "output_type": "stream",
          "name": "stdout",
          "text": [
            "[0, 0, 1, 1, 2, 2]\n"
          ]
        }
      ]
    },
    {
      "cell_type": "markdown",
      "source": [
        "Given an integer array `nums`, return *the maximum difference between two successive elements in its sorted form*. If the array contains less than two elements, return `0`.\n",
        "\n",
        "You must write an algorithm that runs in linear time and uses linear extra space.\n",
        "\n",
        "**Example 1:**Input: nums = [3,6,9,1]\n",
        "Output: 3\n",
        "Explanation: The sorted form of the array is [1,3,6,9], either (3,6) or (6,9) has the maximum difference 3.\n",
        "Then 4 is the first bad version."
      ],
      "metadata": {
        "id": "62MW9ZG8nz90"
      }
    },
    {
      "cell_type": "code",
      "source": [
        "def maximumGap(nums):\n",
        "    if len(nums) < 2:\n",
        "        return 0\n",
        "\n",
        "    # Find the minimum and maximum values in nums\n",
        "    min_val = min(nums)\n",
        "    max_val = max(nums)\n",
        "\n",
        "    # Calculate the size of each bucket\n",
        "    bucket_size = max(1, (max_val - min_val) // (len(nums) - 1))\n",
        "\n",
        "    # Calculate the number of buckets needed\n",
        "    bucket_count = (max_val - min_val) // bucket_size + 1\n",
        "\n",
        "    # Initialize the buckets\n",
        "    buckets = [[float('inf'), float('-inf')] for _ in range(bucket_count)]\n",
        "\n",
        "    # Distribute the elements into buckets\n",
        "    for num in nums:\n",
        "        index = (num - min_val) // bucket_size\n",
        "        buckets[index][0] = min(buckets[index][0], num)\n",
        "        buckets[index][1] = max(buckets[index][1], num)\n",
        "\n",
        "    # Calculate the maximum difference\n",
        "    max_diff = 0\n",
        "    prev_max = min_val\n",
        "    for bucket in buckets:\n",
        "        if bucket[0] == float('inf') or bucket[1] == float('-inf'):\n",
        "            continue\n",
        "        max_diff = max(max_diff, bucket[0] - prev_max)\n",
        "        prev_max = bucket[1]\n",
        "\n",
        "    return max_diff\n",
        "nums = [3, 6, 9, 1]\n",
        "result = maximumGap(nums)\n",
        "print(result)  # Output: 3\n"
      ],
      "metadata": {
        "colab": {
          "base_uri": "https://localhost:8080/"
        },
        "id": "8jbC6eBunuBT",
        "outputId": "9e880bb1-5a94-4006-eb92-5cc835c1a519"
      },
      "execution_count": 7,
      "outputs": [
        {
          "output_type": "stream",
          "name": "stdout",
          "text": [
            "3\n"
          ]
        }
      ]
    },
    {
      "cell_type": "markdown",
      "source": [
        "Given an integer array nums, return true if any value appears at least twice in the array, and return false if every element is distinct.Input: nums = [1,2,3,1]\n",
        "Output: true"
      ],
      "metadata": {
        "id": "q878WeMBo4PN"
      }
    },
    {
      "cell_type": "code",
      "source": [
        "def containsDuplicate(nums):\n",
        "    num_set = set()\n",
        "\n",
        "    for num in nums:\n",
        "        if num in num_set:\n",
        "            return True\n",
        "        num_set.add(num)\n",
        "\n",
        "    return False\n",
        "nums = [1, 2, 3, 1]\n",
        "result = containsDuplicate(nums)\n",
        "print(result)  # Output: True\n",
        "\n"
      ],
      "metadata": {
        "colab": {
          "base_uri": "https://localhost:8080/"
        },
        "id": "MWhWbqLYoENk",
        "outputId": "087c8108-36e4-4d4e-aa42-12b10200621e"
      },
      "execution_count": 8,
      "outputs": [
        {
          "output_type": "stream",
          "name": "stdout",
          "text": [
            "True\n"
          ]
        }
      ]
    },
    {
      "cell_type": "markdown",
      "source": [
        "There are some spherical balloons taped onto a flat wall that represents the XY-plane. The balloons are represented as a 2D integer array `points` where `points[i] = [xstart, xend]` denotes a balloon whose **horizontal diameter** stretches between `xstart` and `xend`. You do not know the exact y-coordinates of the balloons.\n",
        "\n",
        "Arrows can be shot up **directly vertically** (in the positive y-direction) from different points along the x-axis. A balloon with `xstart` and `xend` is **burst** by an arrow shot at `x` if `xstart <= x <= xend`. There is **no limit** to the number of arrows that can be shot. A shot arrow keeps traveling up infinitely, bursting any balloons in its path.\n",
        "\n",
        "Given the array `points`, return *the **minimum** number of arrows that must be shot to burst all balloons*.Input: points = [[10,16],[2,8],[1,6],[7,12]]\n",
        "Output: 2\n",
        "Explanation: The balloons can be burst by 2 arrows:\n",
        "- Shoot an arrow at x = 6, bursting the balloons [2,8] and [1,6].\n",
        "- Shoot an arrow at x = 11, bursting the balloons [10,16] and [7,12]."
      ],
      "metadata": {
        "id": "grSJvWLXpDzT"
      }
    },
    {
      "cell_type": "code",
      "source": [
        "def findMinArrowShots(points):\n",
        "    if not points:\n",
        "        return 0\n",
        "\n",
        "    # Sort balloons based on end coordinates\n",
        "    points.sort(key=lambda x: x[1])\n",
        "\n",
        "    arrows = 1\n",
        "    end = points[0][1]\n",
        "\n",
        "    for i in range(1, len(points)):\n",
        "        if points[i][0] > end:\n",
        "            arrows += 1\n",
        "            end = points[i][1]\n",
        "\n",
        "    return arrows\n",
        "points = [[10, 16], [2, 8], [1, 6], [7, 12]]\n",
        "result = findMinArrowShots(points)\n",
        "print(result)  # Output: 2\n"
      ],
      "metadata": {
        "colab": {
          "base_uri": "https://localhost:8080/"
        },
        "id": "eLn97FVIo7UL",
        "outputId": "31f83647-997c-4684-d242-c438dc4ed6a9"
      },
      "execution_count": 9,
      "outputs": [
        {
          "output_type": "stream",
          "name": "stdout",
          "text": [
            "2\n"
          ]
        }
      ]
    },
    {
      "cell_type": "markdown",
      "source": [
        "💡 7. **Longest Increasing Subsequence**\n",
        "\n",
        "Given an integer array `nums`, return *the length of the longest **strictly increasing***\n",
        "\n",
        "***subsequence***\n",
        "\n",
        "</aside>Input: nums = [10,9,2,5,3,7,101,18]\n",
        "Output: 4\n",
        "Explanation: The longest increasing subsequence is [2,3,7,101], therefore the length is 4."
      ],
      "metadata": {
        "id": "BylhUkgtpOEb"
      }
    },
    {
      "cell_type": "code",
      "source": [
        "def lengthOfLIS(nums):\n",
        "    if not nums:\n",
        "        return 0\n",
        "\n",
        "    n = len(nums)\n",
        "    dp = [1] * n\n",
        "\n",
        "    for i in range(1, n):\n",
        "        for j in range(i):\n",
        "            if nums[i] > nums[j]:\n",
        "                dp[i] = max(dp[i], dp[j] + 1)\n",
        "\n",
        "    return max(dp)\n",
        "\n",
        "nums = [10, 9, 2, 5, 3, 7, 101, 18]\n",
        "result = lengthOfLIS(nums)\n",
        "print(result)  # Output: 4\n"
      ],
      "metadata": {
        "colab": {
          "base_uri": "https://localhost:8080/"
        },
        "id": "URBxkcJYpHq7",
        "outputId": "419d0997-8e26-4eff-877f-504976b14aa0"
      },
      "execution_count": 10,
      "outputs": [
        {
          "output_type": "stream",
          "name": "stdout",
          "text": [
            "4\n"
          ]
        }
      ]
    },
    {
      "cell_type": "markdown",
      "source": [
        "Given an array of `n` integers `nums`, a **132 pattern** is a subsequence of three integers `nums[i]`, `nums[j]` and `nums[k]` such that `i < j < k` and `nums[i] < nums[k] < nums[j]`.\n",
        "\n",
        "Return `true` *if there is a **132 pattern** in* `nums`*, otherwise, return* `false`*.*\n",
        "\n",
        "**Example 1:**Input: nums = [1,2,3,4]\n",
        "Output: false\n",
        "Explanation: There is no 132 pattern in the sequence."
      ],
      "metadata": {
        "id": "3Avmu117pXrr"
      }
    },
    {
      "cell_type": "code",
      "source": [
        "def find132pattern(nums):\n",
        "    n = len(nums)\n",
        "    s2 = float('-inf')\n",
        "    stack = []\n",
        "\n",
        "    for i in range(n-1, -1, -1):\n",
        "        if nums[i] < s2:\n",
        "            return True\n",
        "        while stack and stack[-1] < nums[i]:\n",
        "            s2 = max(s2, stack.pop())\n",
        "        stack.append(nums[i])\n",
        "\n",
        "    return False\n",
        "\n",
        "nums = [1, 2, 3, 4]\n",
        "result = find132pattern(nums)\n",
        "print(result)  # Output: False\n"
      ],
      "metadata": {
        "colab": {
          "base_uri": "https://localhost:8080/"
        },
        "id": "4KNDUTMxpRED",
        "outputId": "abe0a894-ffda-43fd-f884-a68b4aa2cc0f"
      },
      "execution_count": 11,
      "outputs": [
        {
          "output_type": "stream",
          "name": "stdout",
          "text": [
            "False\n"
          ]
        }
      ]
    },
    {
      "cell_type": "code",
      "source": [],
      "metadata": {
        "id": "Bq6afyAIpa2i"
      },
      "execution_count": null,
      "outputs": []
    }
  ]
}