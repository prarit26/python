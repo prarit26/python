{
  "nbformat": 4,
  "nbformat_minor": 0,
  "metadata": {
    "colab": {
      "provenance": [],
      "authorship_tag": "ABX9TyMxhuXyFOf6305Hn8mGOr69",
      "include_colab_link": true
    },
    "kernelspec": {
      "name": "python3",
      "display_name": "Python 3"
    },
    "language_info": {
      "name": "python"
    }
  },
  "cells": [
    {
      "cell_type": "markdown",
      "metadata": {
        "id": "view-in-github",
        "colab_type": "text"
      },
      "source": [
        "<a href=\"https://colab.research.google.com/github/prarit26/python/blob/python-program/assprogm17.ipynb\" target=\"_parent\"><img src=\"https://colab.research.google.com/assets/colab-badge.svg\" alt=\"Open In Colab\"/></a>"
      ]
    },
    {
      "cell_type": "markdown",
      "source": [
        "1.Create a function that takes three arguments a, b, c and returns the sum of the numbers that are evenly divided by c from the range a, b inclusive ?\n",
        "Examples:\n",
        "evenly_divisible(1, 10, 20) ➞ 0 # No number between 1 and 10 can be evenly divided by 20. evenly_divisible(1, 10, 2) ➞ 30 # 2 + 4 + 6 + 8 + 10 = 30 evenly_divisible(1, 10, 3) ➞ 18 # 3 + 6 + 9 = 18"
      ],
      "metadata": {
        "id": "pcXpoIX6D8ks"
      }
    },
    {
      "cell_type": "code",
      "execution_count": 1,
      "metadata": {
        "colab": {
          "base_uri": "https://localhost:8080/"
        },
        "id": "E17rXZk0D6Jh",
        "outputId": "9531655e-52bc-48ba-8005-bd962be2ac31"
      },
      "outputs": [
        {
          "output_type": "stream",
          "name": "stdout",
          "text": [
            "(1, 10, 20) ➞ 0\n",
            "(1, 10, 2) ➞ 30\n",
            "(1, 10, 3) ➞ 18\n"
          ]
        }
      ],
      "source": [
        "def evenDivisible(a,b,c):\n",
        "    divList = []\n",
        "    for num in range(a,b+1):\n",
        "        if num%c == 0:\n",
        "            divList.append(num)\n",
        "    print(f'{a,b,c} ➞ {sum(divList)}')\n",
        "\n",
        "evenDivisible(1,10,20)\n",
        "evenDivisible(1,10,2)\n",
        "evenDivisible(1,10,3)"
      ]
    },
    {
      "cell_type": "markdown",
      "source": [
        "2.Create a function that returns True if a given inequality expression is correct and False otherwise ?\n",
        "Examples:\n",
        "correct_signs(\"3 < 7 < 11\") ➞ True\n",
        "correct_signs(\"13 > 44 > 33 > 1\") ➞ False\n",
        "correct_signs(\"1 < 2 < 6 < 9 > 3\") ➞ True"
      ],
      "metadata": {
        "id": "Egpv6u2bEA9z"
      }
    },
    {
      "cell_type": "code",
      "source": [
        "def checkEquality():\n",
        "    in_string = input('Enter the inequality: ')\n",
        "    out_bool = eval(in_string)\n",
        "    print(f'{in_string} ➞ {out_bool}')\n",
        "\n",
        "for x in range(3):\n",
        "    checkEquality()"
      ],
      "metadata": {
        "colab": {
          "base_uri": "https://localhost:8080/"
        },
        "id": "YZkYVs0SD_RN",
        "outputId": "7e90ee18-27ab-437f-841b-e65a5728c559"
      },
      "execution_count": 2,
      "outputs": [
        {
          "output_type": "stream",
          "name": "stdout",
          "text": [
            "Enter the inequality: 3 < 7 < 11\n",
            "3 < 7 < 11 ➞ True\n",
            "Enter the inequality: 13 > 44 > 33 > 1\n",
            "13 > 44 > 33 > 1 ➞ False\n",
            "Enter the inequality: 1 < 2 < 6 < 9 > 3\n",
            "1 < 2 < 6 < 9 > 3 ➞ True\n"
          ]
        }
      ]
    },
    {
      "cell_type": "markdown",
      "source": [
        "3.Create a function that replaces all the vowels in a string with a specified character ?\n",
        "Examples:\n",
        "replace_vowels(\"the aardvark\", \"#\") ➞ \"th# ##rdv#rk\"\n",
        "replace_vowels(\"minnie mouse\", \"?\") ➞ \"m?nn?? m??s?\"\n",
        "replace_vowels(\"shakespeare\", \"*\") ➞ \"shksp**r\""
      ],
      "metadata": {
        "id": "GdwYp9CEEFlb"
      }
    },
    {
      "cell_type": "code",
      "source": [
        "def replaceVowels():\n",
        "    vowels = ['a','e','i','o','u','A','E','I','O','U']\n",
        "    in_string = input(\"String: \")\n",
        "    in_string_copy = in_string\n",
        "    in_char = input('Replacement character: ')\n",
        "    for ele in in_string:\n",
        "        if ele in vowels:\n",
        "            in_string = in_string.replace(ele,in_char)\n",
        "    print(f'{in_string_copy} {in_char} ➞ {in_string}')\n",
        "\n",
        "for x in range(3):\n",
        "    replaceVowels()"
      ],
      "metadata": {
        "colab": {
          "base_uri": "https://localhost:8080/"
        },
        "id": "5WUyXY9bEDtL",
        "outputId": "418e7cbd-74ea-4e6f-8028-09c2c493a2a3"
      },
      "execution_count": 3,
      "outputs": [
        {
          "output_type": "stream",
          "name": "stdout",
          "text": [
            "String: the aardvark\n",
            "Replacement character: #\n",
            "the aardvark # ➞ th# ##rdv#rk\n",
            "String: shakespeare\n",
            "Replacement character: ?\n",
            "shakespeare ? ➞ sh?k?sp??r?\n",
            "String: dlkvnbvkdsnl;v\n",
            "Replacement character: :\n",
            "dlkvnbvkdsnl;v : ➞ dlkvnbvkdsnl;v\n"
          ]
        }
      ]
    },
    {
      "cell_type": "markdown",
      "source": [
        "4.Write a function that calculates the factorial of a number recursively ?\n",
        "Examples:\n",
        "factorial(5) ➞ 120\n",
        "factorial(3) ➞ 6\n",
        "factorial(1) ➞ 1\n",
        "factorial(0) ➞ 1"
      ],
      "metadata": {
        "id": "HrtrZwzFEelz"
      }
    },
    {
      "cell_type": "code",
      "source": [
        "def factorial(n):\n",
        "    if n==0:\n",
        "        return 1\n",
        "    return n * factorial(n-1)\n",
        "\n",
        "print(f'factorial(5) ➞ {factorial(5)}')\n",
        "print(f'factorial(3) ➞ {factorial(3)}')\n",
        "print(f'factorial(1) ➞ {factorial(1)}')\n",
        "print(f'factorial(0) ➞ {factorial(0)}')"
      ],
      "metadata": {
        "colab": {
          "base_uri": "https://localhost:8080/"
        },
        "id": "4uoa6X5HEOiT",
        "outputId": "5a7ec628-c1be-4126-c9c8-ddc15f902eed"
      },
      "execution_count": 4,
      "outputs": [
        {
          "output_type": "stream",
          "name": "stdout",
          "text": [
            "factorial(5) ➞ 120\n",
            "factorial(3) ➞ 6\n",
            "factorial(1) ➞ 1\n",
            "factorial(0) ➞ 1\n"
          ]
        }
      ]
    },
    {
      "cell_type": "markdown",
      "source": [
        "5.Hamming distance is the number of characters that differ between two strings ?\n",
        "To illustrate:\n",
        "String1: \"abcbba\"\n",
        "String2: \"abcbda\"\n",
        "Hamming Distance: 1 - \"b\" vs. \"d\" is the only difference.\n",
        "Create a function that computes the hamming distance between two strings.\n",
        "Examples:\n",
        "hamming_distance(\"abcde\", \"bcdef\") ➞ 5\n",
        "hamming_distance(\"abcde\", \"abcde\") ➞ 0\n",
        "hamming_distance(\"strong\", \"strung\") ➞ 1"
      ],
      "metadata": {
        "id": "w-p8pLGmEjXT"
      }
    },
    {
      "cell_type": "code",
      "source": [
        "def genHamDistance():\n",
        "    in_string_1 = input('Enter the String_1: ')\n",
        "    in_string_2 = input('Enter the String_2: ')\n",
        "    if len(in_string_1) == len(in_string_2):\n",
        "        count = 0\n",
        "        for i in range(len(in_string_1)):\n",
        "            if in_string_1[i] != in_string_2[i]:\n",
        "                count = count+1\n",
        "        print(f'Hamning Distance b/w {in_string_1} and {in_string_2} ➞ {count}')\n",
        "    else:\n",
        "        print('Both Strings Must be of Same Length')\n",
        "\n",
        "for x in range(3):\n",
        "    genHamDistance()"
      ],
      "metadata": {
        "colab": {
          "base_uri": "https://localhost:8080/"
        },
        "id": "FwtCI515EhjS",
        "outputId": "b372c2ef-4ddf-42d4-91b2-18d1dc306a20"
      },
      "execution_count": 5,
      "outputs": [
        {
          "output_type": "stream",
          "name": "stdout",
          "text": [
            "Enter the String_1: abcde\n",
            "Enter the String_2: bcdef\n",
            "Hamning Distance b/w abcde and bcdef ➞ 5\n",
            "Enter the String_1: abcde\n",
            "Enter the String_2: abcde\n",
            "Hamning Distance b/w abcde and abcde ➞ 0\n",
            "Enter the String_1: strong\n",
            "Enter the String_2: strung\n",
            "Hamning Distance b/w strong and strung ➞ 1\n"
          ]
        }
      ]
    },
    {
      "cell_type": "code",
      "source": [],
      "metadata": {
        "id": "-Eb73WnhEob7"
      },
      "execution_count": null,
      "outputs": []
    }
  ]
}