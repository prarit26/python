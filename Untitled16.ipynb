{
  "nbformat": 4,
  "nbformat_minor": 0,
  "metadata": {
    "colab": {
      "provenance": [],
      "authorship_tag": "ABX9TyM7vC4RmbWqcoOIAOF/ifVg",
      "include_colab_link": true
    },
    "kernelspec": {
      "name": "python3",
      "display_name": "Python 3"
    },
    "language_info": {
      "name": "python"
    }
  },
  "cells": [
    {
      "cell_type": "markdown",
      "metadata": {
        "id": "view-in-github",
        "colab_type": "text"
      },
      "source": [
        "<a href=\"https://colab.research.google.com/github/prarit26/python/blob/main/Untitled16.ipynb\" target=\"_parent\"><img src=\"https://colab.research.google.com/assets/colab-badge.svg\" alt=\"Open In Colab\"/></a>"
      ]
    },
    {
      "cell_type": "markdown",
      "source": [
        "Given an array, for each element find the value of the nearest element to the right which is having a frequency greater than that of the current element. If there does not exist an answer for a position, then make the value ‘-1’.\n",
        "Input: a[] = [1, 1, 2, 3, 4, 2, 1]\n",
        "Output : [-1, -1, 1, 2, 2, 1, -1]\n",
        "\n",
        "Explanation:\n",
        "Given array a[] = [1, 1, 2, 3, 4, 2, 1]\n",
        "Frequency of each element is: 3, 3, 2, 1, 1, 2, 3\n",
        "\n",
        "Lets calls Next Greater Frequency element as NGF\n",
        "1. For element a[0] = 1 which has a frequency = 3,\n",
        "   As it has frequency of 3 and no other next element\n",
        "   has frequency more than 3 so  '-1'\n",
        "2. For element a[1] = 1 it will be -1 same logic\n",
        "   like a[0]\n",
        "3. For element a[2] = 2 which has frequency = 2,\n",
        "   NGF element is 1 at position = 6  with frequency\n",
        "   of 3 > 2\n",
        "4. For element a[3] = 3 which has frequency = 1,\n",
        "   NGF element is 2 at position = 5 with frequency\n",
        "   of 2 > 1\n",
        "5. For element a[4] = 4 which has frequency = 1,\n",
        "   NGF element is 2 at position = 5 with frequency\n",
        "   of 2 > 1\n",
        "6. For element a[5] = 2 which has frequency = 2,\n",
        "   NGF element is 1 at position = 6 with frequency\n",
        "   of 3 > 2\n",
        "7. For element a[6] = 1 there is no element to its\n",
        "   right, hence -1"
      ],
      "metadata": {
        "id": "cYN1FJXbQrN1"
      }
    },
    {
      "cell_type": "code",
      "execution_count": null,
      "metadata": {
        "colab": {
          "base_uri": "https://localhost:8080/"
        },
        "id": "cYHBc5cKQqHk",
        "outputId": "bffda54e-fed6-429f-bd28-4f256da669cd"
      },
      "outputs": [
        {
          "output_type": "stream",
          "name": "stdout",
          "text": [
            "[-1, -1, 1, 2, 2, 1, -1]\n"
          ]
        }
      ],
      "source": [
        "def find_next_greater_frequency(arr):\n",
        "    frequency = {}\n",
        "    result = [-1] * len(arr)\n",
        "\n",
        "    # Count the frequency of each element\n",
        "    for num in arr:\n",
        "        frequency[num] = frequency.get(num, 0) + 1\n",
        "\n",
        "    # Find the nearest element with higher frequency\n",
        "    for i in range(len(arr)):\n",
        "        for j in range(i + 1, len(arr)):\n",
        "            if frequency[arr[j]] > frequency[arr[i]]:\n",
        "                result[i] = arr[j]\n",
        "                break\n",
        "\n",
        "    return result\n",
        "arr = [1, 1, 2, 3, 4, 2, 1]\n",
        "output = find_next_greater_frequency(arr)\n",
        "print(output)\n"
      ]
    },
    {
      "cell_type": "markdown",
      "source": [
        "Given a stack of integers, sort it in ascending order using another temporary stack."
      ],
      "metadata": {
        "id": "DZlKpXjQUo9T"
      }
    },
    {
      "cell_type": "code",
      "source": [
        "def sort_stack(stack):\n",
        "    temp_stack = []\n",
        "\n",
        "    while stack:\n",
        "        temp = stack.pop()\n",
        "\n",
        "        while temp_stack and temp_stack[-1] > temp:\n",
        "            stack.append(temp_stack.pop())\n",
        "\n",
        "        temp_stack.append(temp)\n",
        "\n",
        "    while temp_stack:\n",
        "        stack.append(temp_stack.pop())\n",
        "\n",
        "    return stack\n",
        "stack = [34, 3, 31, 98, 92, 23]\n",
        "output = sort_stack(stack)\n",
        "print(output)\n"
      ],
      "metadata": {
        "colab": {
          "base_uri": "https://localhost:8080/"
        },
        "id": "WA6AY2poQ1bF",
        "outputId": "46df4e08-1877-475e-acb2-5fe4fd65c67b"
      },
      "execution_count": null,
      "outputs": [
        {
          "output_type": "stream",
          "name": "stdout",
          "text": [
            "[98, 92, 34, 31, 23, 3]\n"
          ]
        }
      ]
    },
    {
      "cell_type": "markdown",
      "source": [
        "Given a stack with **push()**, **pop()**, and **empty()** operations, The task is to delete the **middle** element ****of it without using any additional data structure.\n",
        "\n",
        "Input  : Stack[] = [1, 2, 3, 4, 5]\n",
        "\n",
        "Output : Stack[] = [1, 2, 4, 5]"
      ],
      "metadata": {
        "id": "c1R7ocPPXYHq"
      }
    },
    {
      "cell_type": "code",
      "source": [
        "def delete_middle_element(stack, k):\n",
        "    if k == 1:\n",
        "        stack.pop()\n",
        "        return\n",
        "\n",
        "    temp = stack.pop()\n",
        "    delete_middle_element(stack, k - 1)\n",
        "    stack.append(temp)\n",
        "\n",
        "def delete_middle(stack):\n",
        "    if len(stack) == 0:\n",
        "        return\n",
        "\n",
        "    k = len(stack) // 2 + 1\n",
        "    delete_middle_element(stack, k)\n",
        "\n",
        "stack = [1, 2, 3, 4, 5]\n",
        "delete_middle(stack)\n",
        "print(stack)\n"
      ],
      "metadata": {
        "colab": {
          "base_uri": "https://localhost:8080/"
        },
        "id": "GOdpqZSKUyAE",
        "outputId": "14b86cd4-8748-4664-c7d5-5ef1d9337ea2"
      },
      "execution_count": null,
      "outputs": [
        {
          "output_type": "stream",
          "name": "stdout",
          "text": [
            "[1, 2, 4, 5]\n"
          ]
        }
      ]
    },
    {
      "cell_type": "markdown",
      "source": [
        "Given a Queue consisting of first **n** natural numbers (in random order). The task is to check whether the given Queue elements can be arranged in increasing order in another Queue using a stack. The operation allowed are:\n",
        "\n",
        "1. Push and pop elements from the stack\n",
        "2. Pop (Or Dequeue) from the given Queue.\n",
        "3. Push (Or Enqueue) in the another Queue.\n",
        "\n",
        "**Examples :**\n",
        "\n",
        "Input : Queue[] = { 5, 1, 2, 3, 4 }\n",
        "\n",
        "Output : Yes\n",
        "\n",
        "Pop the first element of the given Queue\n",
        "\n",
        "i.e 5. Push 5 into the stack.\n",
        "\n",
        "Now, pop all the elements of the given Queue and push them to second Queue.\n",
        "\n",
        "Now, pop element 5 in the stack and push it to the second Queue.\n",
        "\n",
        "Input : Queue[] = { 5, 1, 2, 6, 3, 4 }\n",
        "\n",
        "Output : No\n",
        "\n",
        "Push 5 to stack.\n",
        "\n",
        "Pop 1, 2 from given Queue and push it to another Queue.\n",
        "\n",
        "Pop 6 from given Queue and push to stack.\n",
        "\n",
        "Pop 3, 4 from given Queue and push to second Queue.\n",
        "\n",
        "Now, from using any of above operation, we cannot push 5 into the second Queue because it is below the 6 in the stack."
      ],
      "metadata": {
        "id": "pKWx0G3PagbZ"
      }
    },
    {
      "cell_type": "code",
      "source": [
        "from queue import Queue\n",
        "\n",
        "def check_queue_sortability(queue):\n",
        "    stack = []\n",
        "    second_queue = Queue()\n",
        "\n",
        "    while not queue.empty():\n",
        "        current = queue.get()\n",
        "\n",
        "        while stack and stack[-1] < current:\n",
        "            second_queue.put(stack.pop())\n",
        "\n",
        "        stack.append(current)\n",
        "\n",
        "    while stack:\n",
        "        second_queue.put(stack.pop())\n",
        "\n",
        "    previous = float('-inf')\n",
        "\n",
        "    while not second_queue.empty():\n",
        "        current = second_queue.get()\n",
        "\n",
        "        if current < previous:\n",
        "            return \"No\"\n",
        "\n",
        "        previous = current\n",
        "\n",
        "    return \"Yes\"\n",
        "queue1 = Queue()\n",
        "queue1.put(5)\n",
        "queue1.put(1)\n",
        "queue1.put(2)\n",
        "queue1.put(3)\n",
        "queue1.put(4)\n",
        "output1 = check_queue_sortability(queue1)\n",
        "print(output1)  # Output: Yes\n",
        "\n",
        "queue2 = Queue()\n",
        "queue2.put(5)\n",
        "queue2.put(1)\n",
        "queue2.put(2)\n",
        "queue2.put(6)\n",
        "queue2.put(3)\n",
        "queue2.put(4)\n",
        "output2 = check_queue_sortability(queue2)\n",
        "print(output2)  # Output: No\n"
      ],
      "metadata": {
        "colab": {
          "base_uri": "https://localhost:8080/"
        },
        "id": "x1rDJ-cfZNqD",
        "outputId": "818eca3c-d526-4a83-b03c-e96328fcb6ae"
      },
      "execution_count": null,
      "outputs": [
        {
          "output_type": "stream",
          "name": "stdout",
          "text": [
            "Yes\n",
            "No\n"
          ]
        }
      ]
    },
    {
      "cell_type": "markdown",
      "source": [
        "Given a number , write a program to reverse this number using stack.Input : 365\n",
        "Output : 563"
      ],
      "metadata": {
        "id": "38QvgxoKdUTy"
      }
    },
    {
      "cell_type": "code",
      "source": [
        "def reverse_number(num):\n",
        "    num_str = str(num)\n",
        "    stack = []\n",
        "\n",
        "    # Push each digit onto the stack\n",
        "    for digit in num_str:\n",
        "        stack.append(digit)\n",
        "\n",
        "    reversed_str = \"\"\n",
        "\n",
        "    # Pop digits from the stack and append them to the new string\n",
        "    while stack:\n",
        "        reversed_str += stack.pop()\n",
        "\n",
        "    # Convert the new string back into an integer\n",
        "    reversed_num = int(reversed_str)\n",
        "\n",
        "    return reversed_num\n",
        "\n",
        "num = 365\n",
        "reversed_num = reverse_number(num)\n",
        "print(reversed_num)\n"
      ],
      "metadata": {
        "colab": {
          "base_uri": "https://localhost:8080/"
        },
        "id": "fivTrYI3bQ3i",
        "outputId": "5dbfb79d-8ad9-4eba-fdda-ad77dccf7908"
      },
      "execution_count": null,
      "outputs": [
        {
          "output_type": "stream",
          "name": "stdout",
          "text": [
            "563\n"
          ]
        }
      ]
    },
    {
      "cell_type": "markdown",
      "source": [
        "Given an integer k and a **[queue](https://www.geeksforgeeks.org/queue-data-structure/)** of integers, The task is to reverse the order of the first **k** elements of the queue, leaving the other elements in the same relative order.\n",
        "\n",
        "Only following standard operations are allowed on queue.\n",
        "\n",
        "- **enqueue(x) :** Add an item x to rear of queue\n",
        "- **dequeue() :** Remove an item from front of queue\n",
        "- **size() :** Returns number of elements in queue.\n",
        "- **front() :** Finds front item."
      ],
      "metadata": {
        "id": "b53RB6_6ePQo"
      }
    },
    {
      "cell_type": "code",
      "source": [
        "from queue import Queue\n",
        "\n",
        "def reverse_k_elements(queue, k):\n",
        "    stack = []\n",
        "\n",
        "    # Dequeue and push the first k elements onto the stack\n",
        "    for _ in range(k):\n",
        "        stack.append(queue.get())\n",
        "\n",
        "    # Dequeue the remaining elements and enqueue them back into the queue\n",
        "    while not queue.empty():\n",
        "        queue.put(queue.get())\n",
        "\n",
        "    # Pop the elements from the stack and enqueue them back into the queue\n",
        "    while stack:\n",
        "        queue.put(stack.pop())\n",
        "\n",
        "    return queue\n",
        "queue = Queue()\n",
        "queue.put(1)\n",
        "queue.put(2)\n",
        "queue.put(3)\n",
        "queue.put(4)\n",
        "queue.put(5)\n",
        "\n",
        "k = 3\n",
        "reversed_queue = reverse_k_elements(queue, k)\n",
        "\n",
        "while not reversed_queue.empty():\n",
        "    print(reversed_queue.get())\n"
      ],
      "metadata": {
        "id": "FJbJHcIEdZHx"
      },
      "execution_count": null,
      "outputs": []
    },
    {
      "cell_type": "markdown",
      "source": [
        "Given a sequence of n strings, the task is to check if any two similar words come together and then destroy each other then print the number of words left in the sequence after this pairwise destruction.\n",
        "\n",
        "**Examples:**\n",
        "\n",
        "Input : ab aa aa bcd ab\n",
        "\n",
        "Output : 3\n",
        "\n",
        "*As aa, aa destroys each other so,*\n",
        "\n",
        "*ab bcd ab is the new sequence.*\n",
        "\n",
        "Input :  tom jerry jerry tom\n",
        "\n",
        "Output : 0\n",
        "\n",
        "*As first both jerry will destroy each other.*\n",
        "\n",
        "*Then sequence will be tom, tom they will also destroy*\n",
        "\n",
        "*each other. So, the final sequence doesn’t contain any*\n",
        "\n",
        "*word.*"
      ],
      "metadata": {
        "id": "qrNxqhrGfBdg"
      }
    },
    {
      "cell_type": "code",
      "source": [
        "def count_remaining_words(sequence):\n",
        "    stack = []\n",
        "\n",
        "    for word in sequence:\n",
        "        if stack and stack[-1] == word:\n",
        "            stack.pop()  # Destroy the similar word\n",
        "        else:\n",
        "            stack.append(word)  # Push the word onto the stack\n",
        "\n",
        "    return len(stack)  # Number of words left in the sequence\n",
        "\n",
        "\n",
        "# Example usage:\n",
        "sequence1 = ['ab', 'aa', 'aa', 'bcd', 'ab']\n",
        "result1 = count_remaining_words(sequence1)\n",
        "print(result1)  # Output: 3\n",
        "\n",
        "sequence2 = ['tom', 'jerry', 'jerry', 'tom']\n",
        "result2 = count_remaining_words(sequence2)\n",
        "print(result2)  # Output: 0\n",
        "\n",
        "\n"
      ],
      "metadata": {
        "id": "HUCgKQTseddR"
      },
      "execution_count": null,
      "outputs": []
    },
    {
      "cell_type": "markdown",
      "source": [
        "Given an array of integers, the task is to find the maximum absolute difference between the nearest left and the right smaller element of every element in the array.\n",
        "\n",
        "**Note:** If there is no smaller element on right side or left side of any element then we take zero as the smaller element. For example for the leftmost element, the nearest smaller element on the left side is considered as 0. Similarly, for rightmost elements, the smaller element on the right side is considered as 0.Input : arr[] = {2, 1, 8}\n",
        "Output : 1\n",
        "Left smaller  LS[] {0, 0, 1}\n",
        "Right smaller RS[] {1, 0, 0}\n",
        "Maximum Diff of abs(LS[i] - RS[i]) = 1"
      ],
      "metadata": {
        "id": "jypdxvH2fPTK"
      }
    },
    {
      "cell_type": "code",
      "source": [
        "def find_max_absolute_difference(arr):\n",
        "    n = len(arr)\n",
        "    LS = [0] * n\n",
        "    RS = [0] * n\n",
        "\n",
        "    # Find nearest left smaller element\n",
        "    for i in range(1, n):\n",
        "        j = i - 1\n",
        "        while j >= 0:\n",
        "            if arr[j] < arr[i]:\n",
        "                LS[i] = arr[j]\n",
        "                break\n",
        "            j -= 1\n",
        "\n",
        "    # Find nearest right smaller element\n",
        "    for i in range(n - 2, -1, -1):\n",
        "        j = i + 1\n",
        "        while j < n:\n",
        "            if arr[j] < arr[i]:\n",
        "                RS[i] = arr[j]\n",
        "                break\n",
        "            j += 1\n",
        "\n",
        "    max_diff = 0\n",
        "\n",
        "    # Calculate maximum absolute difference\n",
        "    for i in range(n):\n",
        "        diff = abs(LS[i] - RS[i])\n",
        "        max_diff = max(max_diff, diff)\n",
        "\n",
        "    return max_diff\n",
        "\n",
        "\n",
        "# Example usage:\n",
        "arr = [2, 1, 8]\n",
        "result = find_max_absolute_difference(arr)\n",
        "print(result)  # Output: 1\n"
      ],
      "metadata": {
        "id": "dvzp4ZDPfFzh"
      },
      "execution_count": null,
      "outputs": []
    },
    {
      "cell_type": "code",
      "source": [],
      "metadata": {
        "id": "BIJvEzWtfS9R"
      },
      "execution_count": null,
      "outputs": []
    }
  ]
}