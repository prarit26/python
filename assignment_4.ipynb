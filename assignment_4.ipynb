{
  "nbformat": 4,
  "nbformat_minor": 0,
  "metadata": {
    "colab": {
      "provenance": [],
      "authorship_tag": "ABX9TyMjlHlQq2qKI5/kYuwFnfnW",
      "include_colab_link": true
    },
    "kernelspec": {
      "name": "python3",
      "display_name": "Python 3"
    },
    "language_info": {
      "name": "python"
    }
  },
  "cells": [
    {
      "cell_type": "markdown",
      "metadata": {
        "id": "view-in-github",
        "colab_type": "text"
      },
      "source": [
        "<a href=\"https://colab.research.google.com/github/prarit26/python/blob/main/assignment_4.ipynb\" target=\"_parent\"><img src=\"https://colab.research.google.com/assets/colab-badge.svg\" alt=\"Open In Colab\"/></a>"
      ]
    },
    {
      "cell_type": "code",
      "execution_count": null,
      "metadata": {
        "id": "z_cjt5kjQa2t"
      },
      "outputs": [],
      "source": [
        "1. What exactly is []?\n",
        "\n",
        "ans []  is the empty list"
      ]
    },
    {
      "cell_type": "markdown",
      "source": [
        "2. In a list of values stored in a variable called spam, how would you assign the value &#39;hello&#39; as the\n",
        "third value? (Assume [2, 4, 6, 8, 10] are in spam.)\n",
        "\n",
        "ans spam[2]=(\"hello\")"
      ],
      "metadata": {
        "id": "iA4YHaXqRGiA"
      }
    },
    {
      "cell_type": "code",
      "source": [
        "spam=[2,4,6,8,10]\n",
        "spam[2]=(\"hello\")\n",
        "spam"
      ],
      "metadata": {
        "colab": {
          "base_uri": "https://localhost:8080/"
        },
        "id": "PJYbYumgRRJ2",
        "outputId": "322b4a5e-9435-42a7-8727-ead499492907"
      },
      "execution_count": 4,
      "outputs": [
        {
          "output_type": "execute_result",
          "data": {
            "text/plain": [
              "[2, 4, 'hello', 8, 10]"
            ]
          },
          "metadata": {},
          "execution_count": 4
        }
      ]
    },
    {
      "cell_type": "markdown",
      "source": [
        "3. What is the value of spam[int(int(&#39;3&#39; * 2) / 11)]?\n",
        "ans '3'*2 = 33 /11 = 3 so ans is spam[3] which is d"
      ],
      "metadata": {
        "id": "eOwvWZjpSYiA"
      }
    },
    {
      "cell_type": "code",
      "source": [
        "spam=[\"a\",\"b\",\"c\",\"d\"]\n",
        "spam[int(int('3' * 2) / 11)]\n",
        "\n"
      ],
      "metadata": {
        "colab": {
          "base_uri": "https://localhost:8080/"
        },
        "id": "NXV7_Oz0SnNE",
        "outputId": "786d6057-e24e-4c48-efe0-55e3574d6f23"
      },
      "execution_count": 10,
      "outputs": [
        {
          "output_type": "execute_result",
          "data": {
            "text/plain": [
              "['a', 'b']"
            ]
          },
          "metadata": {},
          "execution_count": 10
        }
      ]
    },
    {
      "cell_type": "markdown",
      "source": [
        "4. What is the value of spam[-1]?\n",
        "\n",
        "ans d"
      ],
      "metadata": {
        "id": "ULCXpmHsT5o2"
      }
    },
    {
      "cell_type": "markdown",
      "source": [
        "5. What is the value of spam[:2]?\n",
        "\n",
        "ans ['a','b']"
      ],
      "metadata": {
        "id": "r-qaCL40UEwu"
      }
    },
    {
      "cell_type": "markdown",
      "source": [
        "6. What is the value of bacon.index(&#39;cat&#39;)?\n",
        "\n",
        "\n",
        "ans 1\n"
      ],
      "metadata": {
        "id": "6UaTTMvaUaDe"
      }
    },
    {
      "cell_type": "code",
      "source": [
        "bacon=[3.14, 'cat',' 11', 'cat', True]\n",
        "bacon.index('cat')\n",
        "bacon.append(99)\n",
        "bacon.remove('cat')\n",
        "bacon"
      ],
      "metadata": {
        "colab": {
          "base_uri": "https://localhost:8080/"
        },
        "id": "kF23KgUpUbBU",
        "outputId": "329957c5-2692-4166-fb3d-fba510bf414b"
      },
      "execution_count": 14,
      "outputs": [
        {
          "output_type": "execute_result",
          "data": {
            "text/plain": [
              "[3.14, ' 11', 'cat', True, 99]"
            ]
          },
          "metadata": {},
          "execution_count": 14
        }
      ]
    },
    {
      "cell_type": "markdown",
      "source": [
        "7. How does bacon.append(99) change the look of the list value in bacon?\n",
        " \n",
        " ans [3.14, 'cat', ' 11', 'cat', True, 99]"
      ],
      "metadata": {
        "id": "qut3OMvxVCjN"
      }
    },
    {
      "cell_type": "markdown",
      "source": [
        "8. How does bacon.remove(&#39;cat&#39;) change the look of the list in bacon?\n",
        "\n",
        "ans [3.14, ' 11', 'cat', True, 99]"
      ],
      "metadata": {
        "id": "kYVbIAtyVfJQ"
      }
    },
    {
      "cell_type": "markdown",
      "source": [
        "9. What are the list concatenation and list replication operators?\n",
        "\n",
        "ans The operator for list concatenation is +, while the operator for replication is *"
      ],
      "metadata": {
        "id": "0rrGeSFPVvUb"
      }
    },
    {
      "cell_type": "markdown",
      "source": [
        "10. What is difference between the list methods append() and insert()?\n",
        "\n",
        "ans .append() adds an item to the end of a list, whereas .insert() inserts and item in a specified position in the list"
      ],
      "metadata": {
        "id": "Prl7zLqTV4uU"
      }
    },
    {
      "cell_type": "markdown",
      "source": [
        "11. What are the two methods for removing items from a list?\n",
        "\n",
        "ans remove(),pop()\n"
      ],
      "metadata": {
        "id": "LJT0CBYxWGfa"
      }
    },
    {
      "cell_type": "markdown",
      "source": [
        "12. Describe how list values and string values are identical.\n",
        "\n",
        "ans both store value at sequence index but string only store one char at index and list can store whole string at one index"
      ],
      "metadata": {
        "id": "UmQXuJi_WRlR"
      }
    },
    {
      "cell_type": "markdown",
      "source": [
        "13. What&#39;s the difference between tuples and lists?\n",
        "\n",
        "ans  tuples are immutable as opposed to lists which are mutable. Therefore, it is possible to change a list but not a tuple"
      ],
      "metadata": {
        "id": "3gyPBRdeXG9F"
      }
    },
    {
      "cell_type": "markdown",
      "source": [
        "14. How do you type a tuple value that only contains the integer 42?\n",
        "\n",
        " ans t=(42,)\n",
        "\n",
        "\n"
      ],
      "metadata": {
        "id": "TZs0WHHlXTdK"
      }
    },
    {
      "cell_type": "code",
      "source": [
        "tuples=(42,)\n",
        "tuples"
      ],
      "metadata": {
        "colab": {
          "base_uri": "https://localhost:8080/"
        },
        "id": "FxNKPXoPXecI",
        "outputId": "409d5712-9450-4a11-c9f6-244e453d0d03"
      },
      "execution_count": 17,
      "outputs": [
        {
          "output_type": "execute_result",
          "data": {
            "text/plain": [
              "(42,)"
            ]
          },
          "metadata": {},
          "execution_count": 17
        }
      ]
    },
    {
      "cell_type": "markdown",
      "source": [
        "15. How do you get a list value&#39;s tuple form? How do you get a tuple value&#39;s list form?\n",
        "\n",
        "ans list can convert into tuple \n",
        "t=tuple(t)\n",
        "tuple can convert into list\n",
        "t= list(t)"
      ],
      "metadata": {
        "id": "HlhqmWenX6ya"
      }
    },
    {
      "cell_type": "markdown",
      "source": [
        "16. Variables that &quot;contain&quot; list values are not necessarily lists themselves. Instead, what do they\n",
        "contain?\n",
        "\n",
        "ans Variables will contain references to list values rather than list values themselves. But for strings and integer values, variables simply contain the string or integer value."
      ],
      "metadata": {
        "id": "0KOnqWl3ZLZZ"
      }
    },
    {
      "cell_type": "markdown",
      "source": [
        "17. How do you distinguish between copy.copy() and copy.deepcopy()?\n",
        "\n",
        "ans copy() create reference to original object. If you change copied object - you change the original object. . deepcopy() creates new object and does real copying of original object to new one"
      ],
      "metadata": {
        "id": "vP2YvKTBZ4Yn"
      }
    }
  ]
}