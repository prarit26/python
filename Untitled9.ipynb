{
  "nbformat": 4,
  "nbformat_minor": 0,
  "metadata": {
    "colab": {
      "provenance": [],
      "authorship_tag": "ABX9TyP+gk3SS3n1E12aQfJ5n+GH",
      "include_colab_link": true
    },
    "kernelspec": {
      "name": "python3",
      "display_name": "Python 3"
    },
    "language_info": {
      "name": "python"
    }
  },
  "cells": [
    {
      "cell_type": "markdown",
      "metadata": {
        "id": "view-in-github",
        "colab_type": "text"
      },
      "source": [
        "<a href=\"https://colab.research.google.com/github/prarit26/python/blob/main/Untitled9.ipynb\" target=\"_parent\"><img src=\"https://colab.research.google.com/assets/colab-badge.svg\" alt=\"Open In Colab\"/></a>"
      ]
    },
    {
      "cell_type": "markdown",
      "source": [
        "Given an integer `n`, return *`true` if it is a power of two. Otherwise, return `false`*.\n",
        "\n",
        "An integer `n` is a power of two, if there exists an integer `x` such that `n == 2x`.\n",
        "\n",
        "**Example 1:**\n",
        "Input: n = 1 \n",
        "\n",
        "Output: true\n",
        "\n",
        "**Example 2:**\n",
        "Input: n = 16 \n",
        "\n",
        "Output: true\n",
        "\n",
        "**Example 3:**\n",
        "Input: n = 3 \n",
        "\n",
        "Output: false"
      ],
      "metadata": {
        "id": "S0gtRu5hWDVS"
      }
    },
    {
      "cell_type": "code",
      "execution_count": 1,
      "metadata": {
        "colab": {
          "base_uri": "https://localhost:8080/"
        },
        "id": "xpOCkNoPWCO7",
        "outputId": "b7bcbfbb-4877-4145-84b2-eb2ab1b1ad61"
      },
      "outputs": [
        {
          "output_type": "stream",
          "name": "stdout",
          "text": [
            "True\n"
          ]
        }
      ],
      "source": [
        "def isPowerOfTwo(n):\n",
        "    if n <= 0:\n",
        "        return False\n",
        "    return n & (n - 1) == 0\n",
        "\n",
        "\n",
        "# Example usage:\n",
        "n = 16\n",
        "result = isPowerOfTwo(n)\n",
        "print(result)\n"
      ]
    },
    {
      "cell_type": "markdown",
      "source": [
        "Given a number n, find the sum of the first natural numbers.\n",
        "\n",
        "**Example 1:**\n",
        "\n",
        "Input: n = 3 \n",
        "\n",
        "Output: 6\n",
        "\n",
        "**Example 2:**\n",
        "\n",
        "Input  : 5 \n",
        "\n",
        "Output : 15"
      ],
      "metadata": {
        "id": "8nQ-HXRwWfry"
      }
    },
    {
      "cell_type": "code",
      "source": [
        "def sumOfFirstNNumbers(n):\n",
        "    return (n * (n + 1)) // 2\n",
        "\n",
        "\n",
        "# Example usage:\n",
        "n = 3\n",
        "result = sumOfFirstNNumbers(n)\n",
        "print(result)\n"
      ],
      "metadata": {
        "colab": {
          "base_uri": "https://localhost:8080/"
        },
        "id": "eZG1cj3HWUSC",
        "outputId": "f1c84d62-0783-4643-bb98-7f0f6d4949a3"
      },
      "execution_count": 2,
      "outputs": [
        {
          "output_type": "stream",
          "name": "stdout",
          "text": [
            "6\n"
          ]
        }
      ]
    },
    {
      "cell_type": "markdown",
      "source": [
        "Given a positive integer, N. Find the factorial of N. \n",
        "\n",
        "**Example 1:**\n",
        "\n",
        "Input: N = 5 \n",
        "\n",
        "Output: 120\n",
        "\n",
        "**Example 2:**\n",
        "\n",
        "Input: N = 4\n",
        "\n",
        "Output: 24"
      ],
      "metadata": {
        "id": "WeshLliCWlBN"
      }
    },
    {
      "cell_type": "code",
      "source": [
        "def factorial(N):\n",
        "    factorial = 1\n",
        "    for i in range(1, N + 1):\n",
        "        factorial *= i\n",
        "    return factorial\n",
        "\n",
        "\n",
        "# Example usage:\n",
        "N = 5\n",
        "result = factorial(N)\n",
        "print(result)\n"
      ],
      "metadata": {
        "colab": {
          "base_uri": "https://localhost:8080/"
        },
        "id": "mXANGE0WWdOu",
        "outputId": "91f89998-2ecd-4c55-a077-1b5e11cad417"
      },
      "execution_count": 3,
      "outputs": [
        {
          "output_type": "stream",
          "name": "stdout",
          "text": [
            "120\n"
          ]
        }
      ]
    },
    {
      "cell_type": "markdown",
      "source": [
        "Given a number N and a power P, the task is to find the exponent of this number raised to the given power, i.e. N^P.\n",
        "\n",
        "**Example 1 :** \n",
        "\n",
        "Input: N = 5, P = 2\n",
        "\n",
        "Output: 25\n",
        "\n",
        "**Example 2 :**\n",
        "Input: N = 2, P = 5\n",
        "\n",
        "Output: 32"
      ],
      "metadata": {
        "id": "SEWs6PoRWxCd"
      }
    },
    {
      "cell_type": "code",
      "source": [
        "def power(N, P):\n",
        "    return N ** P\n",
        "\n",
        "\n",
        "# Example usage:\n",
        "N = 5\n",
        "P = 2\n",
        "result = power(N, P)\n",
        "print(result)\n"
      ],
      "metadata": {
        "colab": {
          "base_uri": "https://localhost:8080/"
        },
        "id": "GjI9dEBBWn6G",
        "outputId": "83d815cc-2d18-4ce2-8a1e-0173210e71c1"
      },
      "execution_count": 4,
      "outputs": [
        {
          "output_type": "stream",
          "name": "stdout",
          "text": [
            "25\n"
          ]
        }
      ]
    },
    {
      "cell_type": "markdown",
      "source": [
        "Given an array of integers **arr**, the task is to find maximum element of that array using recursion.\n",
        "\n",
        "**Example 1:**\n",
        "\n",
        "Input: arr = {1, 4, 3, -5, -4, 8, 6};\n",
        "Output: 8\n",
        "\n",
        "**Example 2:**\n",
        "\n",
        "Input: arr = {1, 4, 45, 6, 10, -8};\n",
        "Output: 45"
      ],
      "metadata": {
        "id": "vWJ-N4H7W4hl"
      }
    },
    {
      "cell_type": "code",
      "source": [
        "def findMax(arr, start, end):\n",
        "    if start == end:\n",
        "        return arr[start]\n",
        "    \n",
        "    mid = (start + end) // 2\n",
        "    left_max = findMax(arr, start, mid)\n",
        "    right_max = findMax(arr, mid + 1, end)\n",
        "    \n",
        "    return max(left_max, right_max)\n",
        "\n",
        "\n",
        "def getMaxElement(arr):\n",
        "    return findMax(arr, 0, len(arr) - 1)\n",
        "\n",
        "\n",
        "# Example usage:\n",
        "arr = [1, 4, 3, -5, -4, 8, 6]\n",
        "result = getMaxElement(arr)\n",
        "print(result)\n"
      ],
      "metadata": {
        "colab": {
          "base_uri": "https://localhost:8080/"
        },
        "id": "oHKIlGtdW0FE",
        "outputId": "27c46c49-fb62-4e83-fcbe-5ba66976ea36"
      },
      "execution_count": 5,
      "outputs": [
        {
          "output_type": "stream",
          "name": "stdout",
          "text": [
            "8\n"
          ]
        }
      ]
    },
    {
      "cell_type": "markdown",
      "source": [
        "Given first term (a), common difference (d) and a integer N of the Arithmetic Progression series, the task is to find Nth term of the series.\n",
        "\n",
        "**Example 1:**\n",
        "\n",
        "Input : a = 2 d = 1 N = 5\n",
        "Output : 6\n",
        "The 5th term of the series is : 6\n",
        "\n",
        "**Example 2:**\n",
        "\n",
        "Input : a = 5 d = 2 N = 10\n",
        "Output : 23\n",
        "The 10th term of the series is : 23"
      ],
      "metadata": {
        "id": "JIdtIYOFXA-9"
      }
    },
    {
      "cell_type": "code",
      "source": [
        "def findNthTerm(a, d, N):\n",
        "    NthTerm = a + (N - 1) * d\n",
        "    return NthTerm\n",
        "\n",
        "\n",
        "# Example usage:\n",
        "a = 2\n",
        "d = 1\n",
        "N = 5\n",
        "result = findNthTerm(a, d, N)\n",
        "print(result)\n"
      ],
      "metadata": {
        "colab": {
          "base_uri": "https://localhost:8080/"
        },
        "id": "cwo5SwhbW8YR",
        "outputId": "554bbc87-053b-406d-dbbe-2a6e3edc602b"
      },
      "execution_count": 6,
      "outputs": [
        {
          "output_type": "stream",
          "name": "stdout",
          "text": [
            "6\n"
          ]
        }
      ]
    },
    {
      "cell_type": "markdown",
      "source": [
        "Given a string S, the task is to write a program to print all permutations of a given string.\n",
        "\n",
        "**Example 1:**\n",
        "\n",
        "***Input:***\n",
        "\n",
        "*S = “ABC”*\n",
        "\n",
        "***Output:***\n",
        "\n",
        "*“ABC”, “ACB”, “BAC”, “BCA”, “CBA”, “CAB”*\n",
        "\n",
        "**Example 2:**\n",
        "\n",
        "***Input:***\n",
        "\n",
        "*S = “XY”*\n",
        "\n",
        "***Output:***\n",
        "\n",
        "*“XY”, “YX”*"
      ],
      "metadata": {
        "id": "1y6Uaty8XQZS"
      }
    },
    {
      "cell_type": "code",
      "source": [
        "def permuteString(S, l, r):\n",
        "    if l == r:\n",
        "        print(\"\".join(S))\n",
        "    else:\n",
        "        for i in range(l, r + 1):\n",
        "            S[l], S[i] = S[i], S[l]\n",
        "            permuteString(S, l + 1, r)\n",
        "            S[l], S[i] = S[i], S[l]  # Backtrack\n",
        "\n",
        "\n",
        "# Example usage:\n",
        "S = \"ABC\"\n",
        "n = len(S)\n",
        "permuteString(list(S), 0, n - 1)\n"
      ],
      "metadata": {
        "colab": {
          "base_uri": "https://localhost:8080/"
        },
        "id": "owqhvOpuXFSI",
        "outputId": "67321d7f-4cc3-4419-f043-0aca3b4b751f"
      },
      "execution_count": 7,
      "outputs": [
        {
          "output_type": "stream",
          "name": "stdout",
          "text": [
            "ABC\n",
            "ACB\n",
            "BAC\n",
            "BCA\n",
            "CBA\n",
            "CAB\n"
          ]
        }
      ]
    },
    {
      "cell_type": "markdown",
      "source": [
        "Given an array, find a product of all array elements.\n",
        "\n",
        "**Example 1:**\n",
        "\n",
        "Input  : arr[] = {1, 2, 3, 4, 5}\n",
        "Output : 120\n",
        "**Example 2:**\n",
        "\n",
        "Input  : arr[] = {1, 6, 3}\n",
        "Output : 18"
      ],
      "metadata": {
        "id": "6J3zQWWqXXV0"
      }
    },
    {
      "cell_type": "code",
      "source": [
        "def findProduct(arr):\n",
        "    product = 1\n",
        "    for num in arr:\n",
        "        product *= num\n",
        "    return product\n",
        "\n",
        "\n",
        "# Example usage:\n",
        "arr = [1, 2, 3, 4, 5]\n",
        "result = findProduct(arr)\n",
        "print(result)\n"
      ],
      "metadata": {
        "colab": {
          "base_uri": "https://localhost:8080/"
        },
        "id": "FGiAWHQbXTr5",
        "outputId": "35999137-30b1-4b37-caab-fa835ae84f45"
      },
      "execution_count": 8,
      "outputs": [
        {
          "output_type": "stream",
          "name": "stdout",
          "text": [
            "120\n"
          ]
        }
      ]
    },
    {
      "cell_type": "code",
      "source": [],
      "metadata": {
        "id": "T0uQDvS4Xdei"
      },
      "execution_count": null,
      "outputs": []
    }
  ]
}