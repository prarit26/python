{
  "nbformat": 4,
  "nbformat_minor": 0,
  "metadata": {
    "colab": {
      "provenance": []
    },
    "kernelspec": {
      "name": "python3",
      "display_name": "Python 3"
    },
    "language_info": {
      "name": "python"
    }
  },
  "cells": [
    {
      "cell_type": "code",
      "execution_count": null,
      "metadata": {
        "id": "4Ac6X3f_TvZ1"
      },
      "outputs": [],
      "source": []
    },
    {
      "cell_type": "markdown",
      "source": [
        "Q 1 In the below elements which of them are values or an expression? eg:- values can be\n",
        "integer or string and expressions will be mathematical operators.\n",
        "*\n",
        "&#39;hello&#39;\n",
        "-87.8\n",
        "-\n",
        "/\n",
        "+\n",
        "6\n"
      ],
      "metadata": {
        "id": "m_H2LTrfUcS7"
      }
    },
    {
      "cell_type": "code",
      "source": [],
      "metadata": {
        "id": "ec2PV8-1UrYj"
      },
      "execution_count": null,
      "outputs": []
    },
    {
      "cell_type": "markdown",
      "source": [
        "Ans \n",
        "\n",
        "1.   * | expression\n",
        "2.   'hello' | value\n",
        "3.    -87.8 | value\n",
        "4.    - | expression\n",
        "5.    / | expression\n",
        "6.    + | expression\n",
        "7.    6 | value \n",
        "\n",
        "\n",
        "\n",
        "\n",
        "\n",
        "\n"
      ],
      "metadata": {
        "id": "JoWNZEd3VIZ7"
      }
    },
    {
      "cell_type": "code",
      "source": [],
      "metadata": {
        "id": "I-cd_RGcWHpT"
      },
      "execution_count": null,
      "outputs": []
    },
    {
      "cell_type": "markdown",
      "source": [
        "2. What is the difference between string and variable?\n",
        "\n",
        "\n",
        "*   string are data type which can store data in word or symbol  \n",
        "*   variable are the symbol which is uses to denote some data \n",
        "\n"
      ],
      "metadata": {
        "id": "B5afmA-bWMwK"
      }
    },
    {
      "cell_type": "code",
      "source": [],
      "metadata": {
        "id": "3Y7qyVmXlcOy"
      },
      "execution_count": null,
      "outputs": []
    },
    {
      "cell_type": "markdown",
      "source": [
        "3 Describe three different data types.\n",
        "Ans \n",
        "\n",
        "1.   int | store integer value\n",
        "2.   float | stores decimal value\n",
        "3.   string | stores words \n",
        "\n"
      ],
      "metadata": {
        "id": "E5E4jasmlhzp"
      }
    },
    {
      "cell_type": "code",
      "source": [
        "4. What is an expression made up of? What do all expressions do?\n",
        "Ans is oprator compare the memory id of the varible and check weather it is equal or not "
      ],
      "metadata": {
        "id": "VdSnJSc6l9SR"
      },
      "execution_count": null,
      "outputs": []
    },
    {
      "cell_type": "markdown",
      "source": [
        "5. This assignment statements, like spam = 10. What is the difference between an\n",
        "expression and a statement?\n",
        "Ans statement assign some value to variable or do any task where expression perform its prefixed opration assinged to it and give results eg spam = 10 it assign value of 10 in spam name varible  "
      ],
      "metadata": {
        "id": "nZ9_czTnTNYl"
      }
    },
    {
      "cell_type": "code",
      "source": [
        "bacon = 22\n",
        "bacon +1"
      ],
      "metadata": {
        "colab": {
          "base_uri": "https://localhost:8080/"
        },
        "id": "QwVFyLG8U6dO",
        "outputId": "6c18b422-a806-4764-cd25-743c7049281f"
      },
      "execution_count": 1,
      "outputs": [
        {
          "output_type": "execute_result",
          "data": {
            "text/plain": [
              "23"
            ]
          },
          "metadata": {},
          "execution_count": 1
        }
      ]
    },
    {
      "cell_type": "markdown",
      "source": [
        "6. After running the following code, what does the variable bacon contain?\n",
        "bacon = 22\n",
        "bacon + 1\n",
        "\n",
        "ans 23"
      ],
      "metadata": {
        "id": "k6WE8yPXU7Zl"
      }
    },
    {
      "cell_type": "code",
      "source": [
        "'spam'+'spamspam'\n"
      ],
      "metadata": {
        "colab": {
          "base_uri": "https://localhost:8080/",
          "height": 35
        },
        "id": "jjVt4yADVx0V",
        "outputId": "47b6d198-a164-4890-c63d-967146a46d47"
      },
      "execution_count": 3,
      "outputs": [
        {
          "output_type": "execute_result",
          "data": {
            "text/plain": [
              "'spamspamspam'"
            ],
            "application/vnd.google.colaboratory.intrinsic+json": {
              "type": "string"
            }
          },
          "metadata": {},
          "execution_count": 3
        }
      ]
    },
    {
      "cell_type": "markdown",
      "source": [
        "7. What should the values of the following two terms be?\n",
        "'spam' + 'spamspam\n",
        "'spam' * 3\n",
        "\n",
        "ans spamspamspam\n",
        "spamspamspam\n",
        "both will give same results"
      ],
      "metadata": {
        "id": "3GdsD3-3WXic"
      }
    },
    {
      "cell_type": "code",
      "source": [],
      "metadata": {
        "id": "kltRxUQCXluG"
      },
      "execution_count": 7,
      "outputs": []
    },
    {
      "cell_type": "markdown",
      "source": [
        "8. Why is eggs a valid variable name while 100 is invalid?\n",
        "\n",
        "ans python allow any charector to be variable name execept reserved word and it dont alow variable name start with numaric"
      ],
      "metadata": {
        "id": "ivjJbCbbXm19"
      }
    },
    {
      "cell_type": "code",
      "source": [
        "a=121\n",
        "a=str(a)\n",
        "print(a)\n",
        "print(type(a))\n",
        "a=float(a)\n",
        "print(a)\n",
        "print(type(a))\n",
        "a=int(a)\n",
        "print(a)\n",
        "print(type(a))"
      ],
      "metadata": {
        "colab": {
          "base_uri": "https://localhost:8080/"
        },
        "id": "0fCmOQjJYjL9",
        "outputId": "8c2f5774-e73f-4c52-9382-478c4e4721de"
      },
      "execution_count": 18,
      "outputs": [
        {
          "output_type": "stream",
          "name": "stdout",
          "text": [
            "121\n",
            "<class 'str'>\n",
            "121.0\n",
            "<class 'float'>\n",
            "121\n",
            "<class 'int'>\n"
          ]
        }
      ]
    },
    {
      "cell_type": "markdown",
      "source": [
        "What three functions can be used to get the integer, floating-point number, or string\n",
        "version of a value?\n",
        "\n",
        "ans int()\n",
        "float()\n",
        "str()"
      ],
      "metadata": {
        "id": "YwT9jnEgYkHV"
      }
    },
    {
      "cell_type": "code",
      "source": [
        "'I have eaten ' + str(99) + ' burritos'"
      ],
      "metadata": {
        "colab": {
          "base_uri": "https://localhost:8080/",
          "height": 35
        },
        "id": "WAD7y2jVaCZt",
        "outputId": "6ec5aa02-76e6-410f-ae4f-cc40e504eab6"
      },
      "execution_count": 20,
      "outputs": [
        {
          "output_type": "execute_result",
          "data": {
            "text/plain": [
              "'I have eaten 99 burritos'"
            ],
            "application/vnd.google.colaboratory.intrinsic+json": {
              "type": "string"
            }
          },
          "metadata": {},
          "execution_count": 20
        }
      ]
    },
    {
      "cell_type": "markdown",
      "source": [
        "Why does this expression cause an error? How can you fix it?\n",
        "'I have eaten ' + 99 + ' burritos'\n",
        "\n",
        "ans we can not add string to integer value to solve this error we convert int value to string using str()"
      ],
      "metadata": {
        "id": "8HFHSSUbaDGk"
      }
    }
  ]
}