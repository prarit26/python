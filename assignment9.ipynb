{
  "nbformat": 4,
  "nbformat_minor": 0,
  "metadata": {
    "colab": {
      "provenance": [],
      "authorship_tag": "ABX9TyN7hLX4WV86KVpKdq2okoL3",
      "include_colab_link": true
    },
    "kernelspec": {
      "name": "python3",
      "display_name": "Python 3"
    },
    "language_info": {
      "name": "python"
    }
  },
  "cells": [
    {
      "cell_type": "markdown",
      "metadata": {
        "id": "view-in-github",
        "colab_type": "text"
      },
      "source": [
        "<a href=\"https://colab.research.google.com/github/prarit26/python/blob/main/assignment9.ipynb\" target=\"_parent\"><img src=\"https://colab.research.google.com/assets/colab-badge.svg\" alt=\"Open In Colab\"/></a>"
      ]
    },
    {
      "cell_type": "markdown",
      "source": [
        "\n",
        "1.To what does a relative path refer ?\n",
        "\n",
        "Ans: The relative path is the path to some file with respect to your current working directory (PWD).\n",
        "For example: if Absolute path to a file called stuff.txt is: C:/users/admin/docs/stuff.txt If my PWD is C:/users/admin/ , then the relative path to stuff.txt would be: docs/stuff.txt\n",
        "Note: PWD + relative path = absolute path"
      ],
      "metadata": {
        "id": "SIJHyCsHuT6z"
      }
    },
    {
      "cell_type": "markdown",
      "source": [
        "2.Where does an absolute path start with your Operating System ?\n",
        "\n",
        "Ans: In Linux based systems the absolute path starts with /. Where as in Windows based systems absolute path starts with C:"
      ],
      "metadata": {
        "id": "TEHvrgUkuYLR"
      }
    },
    {
      "cell_type": "markdown",
      "source": [
        "3.What does the functions os.getcwd() and os.chdir() do ?\n",
        "\n",
        "Ans: os.getcwd() method tells us the location of current working directory (CWD). Whereas os.chdir() method in Python used to change the current working directory to specified path. "
      ],
      "metadata": {
        "id": "-inSCFRKuduZ"
      }
    },
    {
      "cell_type": "code",
      "source": [
        "import os\n",
        "a= os.getcwd()\n",
        "a\n"
      ],
      "metadata": {
        "colab": {
          "base_uri": "https://localhost:8080/",
          "height": 35
        },
        "id": "lq9TlClGuwga",
        "outputId": "eadd5d88-e77c-4bf6-fa47-b39a426ffda5"
      },
      "execution_count": 2,
      "outputs": [
        {
          "output_type": "execute_result",
          "data": {
            "text/plain": [
              "'/content'"
            ],
            "application/vnd.google.colaboratory.intrinsic+json": {
              "type": "string"
            }
          },
          "metadata": {},
          "execution_count": 2
        }
      ]
    },
    {
      "cell_type": "markdown",
      "source": [
        "4. What are the . and .. folders?\n",
        "\n",
        "Ans: . Represents the Current Directory Whereas .. Represents the Parent Directory of the Current Directory\n"
      ],
      "metadata": {
        "id": "OMJwkGbsupeS"
      }
    },
    {
      "cell_type": "markdown",
      "source": [
        "5. In C:\\bacon\\eggs\\spam.txt, which part is the dir name, and which part is the base name?\n",
        "\n",
        "ans: For C:\\bacon\\eggs\\spam.txt\n",
        "\n",
        "The dir name is C:\\\\bacon\\\\eggs\n",
        "\n",
        "The Base name is spam.txt"
      ],
      "metadata": {
        "id": "rJW4xw9D_evH"
      }
    },
    {
      "cell_type": "markdown",
      "source": [
        "6.What are the three mode arguments that can be passed to the open() function ?\n",
        "\n",
        "ans 6.What are the three mode arguments that can be passed to the open() function ?\n",
        "Ans: A file can be Accessed in python using open() function. open function takes two arguments filename and mode of operation (optional). if mode is not provided the default mode of opening is read mode\n",
        "So, the syntax being: open(filename, mode)\n",
        "\n",
        "‘r’ – Read Mode: \n",
        "‘w’ – Write Mode:\n",
        "‘a’ – Append Mode:"
      ],
      "metadata": {
        "id": "7J_QC6FQAeCf"
      }
    },
    {
      "cell_type": "markdown",
      "source": [
        "7.What happens if an existing file is opened in write mode ?\n",
        "\n",
        "Ans: Using this mode will overwrite any existing content in a file. If the given file does not exist, a new one will be created."
      ],
      "metadata": {
        "id": "C-aowC3XA8y-"
      }
    },
    {
      "cell_type": "markdown",
      "source": [
        "8.How do you tell the difference between read() and readlines() ?\n",
        "\n",
        "Ans: The main difference is that read() will read the whole file at once and then print out the first characters that take up as many bytes as you specify in the parenthesis\n",
        "\n",
        "Whereas the readline() that will read and print out only the first characters that take up as many bytes as you specify in the parenthesis. You may want to use readline() when you're reading files that are too big for your RAM.\n",
        "\n",
        "The read() would treat each character in the file separately, meaning that the iteration would happen for every character.\n",
        "\n",
        "The readline() function, on the other hand, only reads a single line of the file. This means that if the first line of the file were three lines long, the readline() function would only parse (or iterate/operate) on the first line of the file."
      ],
      "metadata": {
        "id": "D9Uv4JnJBFWW"
      }
    },
    {
      "cell_type": "markdown",
      "source": [
        "9.What data structure does a shelf value resemble ?\n",
        "\n",
        "Ans: it contains key and values it represents dictionary."
      ],
      "metadata": {
        "id": "RHQ_oh_VBaAH"
      }
    },
    {
      "cell_type": "code",
      "execution_count": null,
      "metadata": {
        "id": "GXuxXx8ouRSj"
      },
      "outputs": [],
      "source": []
    }
  ]
}