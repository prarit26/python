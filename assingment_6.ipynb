{
  "nbformat": 4,
  "nbformat_minor": 0,
  "metadata": {
    "colab": {
      "provenance": [],
      "authorship_tag": "ABX9TyN/nHPBtPBaIbbWapK/ejTL",
      "include_colab_link": true
    },
    "kernelspec": {
      "name": "python3",
      "display_name": "Python 3"
    },
    "language_info": {
      "name": "python"
    }
  },
  "cells": [
    {
      "cell_type": "markdown",
      "metadata": {
        "id": "view-in-github",
        "colab_type": "text"
      },
      "source": [
        "<a href=\"https://colab.research.google.com/github/prarit26/python/blob/main/assingment_6.ipynb\" target=\"_parent\"><img src=\"https://colab.research.google.com/assets/colab-badge.svg\" alt=\"Open In Colab\"/></a>"
      ]
    },
    {
      "cell_type": "code",
      "execution_count": null,
      "metadata": {
        "id": "fSWyQG7cBoLo"
      },
      "outputs": [],
      "source": []
    },
    {
      "cell_type": "markdown",
      "source": [
        "1.What are Escape characters ? and how do you use them ?\n",
        "Ans: Escape characters represent characters in string values that would otherwise be difficult or impossible to type into code. we can use the backslash character to escape a single character or symbol\n",
        "example: \\t, \\n"
      ],
      "metadata": {
        "id": "85rxPaMgCz_g"
      }
    },
    {
      "cell_type": "markdown",
      "source": [
        "2. What do the escape characters n and t stand for?\n",
        "\n",
        "ANS \\n =new line\n",
        "\\t = for tab"
      ],
      "metadata": {
        "id": "6vfK6-VXC593"
      }
    },
    {
      "cell_type": "markdown",
      "source": [
        "3. What is the way to include backslash characters in a string?\n",
        "\n",
        "ans The \\\\ escape character will represent the backslash character in a string"
      ],
      "metadata": {
        "id": "CG_dnwYbDUuA"
      }
    },
    {
      "cell_type": "markdown",
      "source": [
        "4. The string &quot;Howl&#39;s Moving Castle&quot; is a correct value. Why isn&#39;t the single quote character in the\n",
        "word Howl&#39;s not escaped a problem?\n",
        "\n",
        "ans The string \"Howl's Moving Castle\" escaped the problem because it is wrapped inside double quotes. if its wrapped inside single quotes then we have to use escape character \\' to show single quote in the final output\n"
      ],
      "metadata": {
        "id": "v8mN7fTRRW9N"
      }
    },
    {
      "cell_type": "code",
      "source": [
        "'Howl\\'s Moving Castle' -> 'Howl's Moving Castle'"
      ],
      "metadata": {
        "id": "GpTcGVpDSLI3"
      },
      "execution_count": null,
      "outputs": []
    },
    {
      "cell_type": "markdown",
      "source": [
        "5. How do you write a string of newlines if you don&#39;t want to use the n character?\n",
        "\n",
        "ans Multiline string allow you to use newlines in string without the \\n escape character '''   '''"
      ],
      "metadata": {
        "id": "KQbqSCZASORk"
      }
    },
    {
      "cell_type": "markdown",
      "source": [
        "6. What are the values of the given expressions?\n",
        "&#39;Hello, world!&#39;[1]\n",
        "&#39;Hello, world!&#39;[0:5]\n",
        "&#39;Hello, world!&#39;[:5]\n",
        "&#39;Hello, world!&#39;[3:]\n",
        "\n",
        "ans \n",
        "\n",
        "1.   e\n",
        "2.   Hello\n",
        "3.   Hello\n",
        "4.   lo, world\n",
        "\n"
      ],
      "metadata": {
        "id": "VPUQooC_SjEc"
      }
    },
    {
      "cell_type": "markdown",
      "source": [
        "7. What are the values of the following expressions?\n",
        "&#39;Hello&#39;.upper()\n",
        "&#39;Hello&#39;.upper().isupper()\n",
        "&#39;Hello&#39;.upper().lower()\n",
        "\n",
        "ans 1.  'Hello'.upper() -> 'HELLO'\n",
        "2.  'Hello'.upper().isupper() -> True\n",
        "3.  'Hello'.upper().lower() -> 'hello'"
      ],
      "metadata": {
        "id": "0oU3yBSdTPpN"
      }
    },
    {
      "cell_type": "markdown",
      "source": [
        "8. What are the values of the following expressions?\n",
        "&#39;Remember, remember, the fifth of July.&#39;.split()\n",
        "&#39;-&#39;.join(&#39;There can only one.&#39;.split())\n",
        "\n",
        "ans 'Remember, remember, the fifith of July.'.split() -> ['Remember,', 'remember,', 'the', 'fifith', 'of', 'July.']\n",
        "\n",
        "\n",
        "'-'.join('There can only one'.split()) -> 'There-can-only-one'"
      ],
      "metadata": {
        "id": "t4lzA7aHTfGt"
      }
    },
    {
      "cell_type": "markdown",
      "source": [
        "9. What are the methods for right-justifying, left-justifying, and centering a string?\n",
        "\n",
        "ans rjust(),ljust(),center()"
      ],
      "metadata": {
        "id": "qPpae6aHTuB1"
      }
    },
    {
      "cell_type": "markdown",
      "source": [
        "10. What is the best way to remove whitespace characters from the start or end?\n",
        "\n",
        "ans The lstrip() and rstrip() methods remove whitesapce characters from the left and right ends of a string respectively"
      ],
      "metadata": {
        "id": "MXqiseecT5TN"
      }
    },
    {
      "cell_type": "code",
      "source": [],
      "metadata": {
        "id": "6AQn4nt6E1eI"
      },
      "execution_count": 1,
      "outputs": []
    },
    {
      "cell_type": "code",
      "source": [],
      "metadata": {
        "id": "QCiG9mAGE5g_"
      },
      "execution_count": null,
      "outputs": []
    }
  ]
}