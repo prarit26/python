{
  "nbformat": 4,
  "nbformat_minor": 0,
  "metadata": {
    "colab": {
      "provenance": [],
      "authorship_tag": "ABX9TyP3BLn277hXOPh9WIL+PuLd",
      "include_colab_link": true
    },
    "kernelspec": {
      "name": "python3",
      "display_name": "Python 3"
    },
    "language_info": {
      "name": "python"
    }
  },
  "cells": [
    {
      "cell_type": "markdown",
      "metadata": {
        "id": "view-in-github",
        "colab_type": "text"
      },
      "source": [
        "<a href=\"https://colab.research.google.com/github/prarit26/python/blob/main/Untitled12.ipynb\" target=\"_parent\"><img src=\"https://colab.research.google.com/assets/colab-badge.svg\" alt=\"Open In Colab\"/></a>"
      ]
    },
    {
      "cell_type": "markdown",
      "source": [
        "given a singly linked list, delete middle of the linked list. For example, if given linked list is 1->2->3->4->5 then linked list should be modified to 1->2->4->5.If there are even nodes, then there would be two middle nodes, we need to delete the second middle element. For example, if given linked list is 1->2->3->4->5->6 then it should be modified to 1->2->3->5->6.If the input linked list is NULL or has 1 node, then it should return NULL"
      ],
      "metadata": {
        "id": "mpKrhNddPdim"
      }
    },
    {
      "cell_type": "code",
      "execution_count": 1,
      "metadata": {
        "colab": {
          "base_uri": "https://localhost:8080/"
        },
        "id": "iQ7ZVApbPco3",
        "outputId": "05f8afaf-abf0-4030-841b-344b603b8ccc"
      },
      "outputs": [
        {
          "output_type": "stream",
          "name": "stdout",
          "text": [
            "1 -> 2 -> 4 -> 5 -> "
          ]
        }
      ],
      "source": [
        "class Node:\n",
        "    def __init__(self, data=None):\n",
        "        self.data = data\n",
        "        self.next = None\n",
        "\n",
        "\n",
        "def delete_middle_node(head):\n",
        "    if not head or not head.next:\n",
        "        return None\n",
        "\n",
        "    slow_ptr = head\n",
        "    fast_ptr = head\n",
        "    prev_ptr = None\n",
        "\n",
        "    # Move the fast pointer two nodes ahead and the slow pointer one node ahead\n",
        "    while fast_ptr and fast_ptr.next:\n",
        "        fast_ptr = fast_ptr.next.next\n",
        "        prev_ptr = slow_ptr\n",
        "        slow_ptr = slow_ptr.next\n",
        "\n",
        "    # Delete the middle node by adjusting the pointers\n",
        "    prev_ptr.next = slow_ptr.next\n",
        "\n",
        "    return head\n",
        "# Create the linked list: 1 -> 2 -> 3 -> 4 -> 5\n",
        "list1 = Node(1)\n",
        "list1.next = Node(2)\n",
        "list1.next.next = Node(3)\n",
        "list1.next.next.next = Node(4)\n",
        "list1.next.next.next.next = Node(5)\n",
        "\n",
        "# Call the function to delete the middle node\n",
        "result = delete_middle_node(list1)\n",
        "\n",
        "# Print the modified linked list\n",
        "current = result\n",
        "while current:\n",
        "    print(current.data, end=\" -> \")\n",
        "    current = current.next\n"
      ]
    },
    {
      "cell_type": "markdown",
      "source": [
        "Given a linked list consisting of L nodes and given a number N. The task is to find the Nth node from the end of the linked list."
      ],
      "metadata": {
        "id": "G8m_2dWiPur3"
      }
    },
    {
      "cell_type": "code",
      "source": [
        "class Node:\n",
        "    def __init__(self, data=None):\n",
        "        self.data = data\n",
        "        self.next = None\n",
        "\n",
        "\n",
        "def find_nth_node_from_end(head, N):\n",
        "    if not head:\n",
        "        return None\n",
        "\n",
        "    # Initialize two pointers, one fast and one slow\n",
        "    fast_ptr = head\n",
        "    slow_ptr = head\n",
        "\n",
        "    # Move the fast pointer N nodes ahead\n",
        "    count = 0\n",
        "    while count < N:\n",
        "        if fast_ptr is None:\n",
        "            return None  # If N is greater than the length of the linked list\n",
        "        fast_ptr = fast_ptr.next\n",
        "        count += 1\n",
        "\n",
        "    # Move both pointers until the fast pointer reaches the end of the list\n",
        "    while fast_ptr:\n",
        "        fast_ptr = fast_ptr.next\n",
        "        slow_ptr = slow_ptr.next\n",
        "\n",
        "    return slow_ptr.data\n",
        "# Create the linked list: 1->2->3->4->5->6->7->8->9\n",
        "list1 = Node(1)\n",
        "list1.next = Node(2)\n",
        "list1.next.next = Node(3)\n",
        "list1.next.next.next = Node(4)\n",
        "list1.next.next.next.next = Node(5)\n",
        "list1.next.next.next.next.next = Node(6)\n",
        "list1.next.next.next.next.next.next = Node(7)\n",
        "list1.next.next.next.next.next.next.next = Node(8)\n",
        "list1.next.next.next.next.next.next.next.next = Node(9)\n",
        "\n",
        "# Set the value of N\n",
        "N = 2\n",
        "\n",
        "# Call the function to find the Nth node from the end\n",
        "result = find_nth_node_from_end(list1, N)\n",
        "\n",
        "# Print the value of the Nth node from the end\n",
        "print(result)\n"
      ],
      "metadata": {
        "colab": {
          "base_uri": "https://localhost:8080/"
        },
        "id": "2g1Gw6x5Pp5w",
        "outputId": "773a9686-7e90-4268-881c-53a02c5525fd"
      },
      "execution_count": 2,
      "outputs": [
        {
          "output_type": "stream",
          "name": "stdout",
          "text": [
            "8\n"
          ]
        }
      ]
    },
    {
      "cell_type": "markdown",
      "source": [
        "Given a singly linked list of characters, write a function that returns true if the given list is a palindrome, else false."
      ],
      "metadata": {
        "id": "tJn_ajGAQA3C"
      }
    },
    {
      "cell_type": "code",
      "source": [
        "class Node:\n",
        "    def __init__(self, data=None):\n",
        "        self.data = data\n",
        "        self.next = None\n",
        "\n",
        "\n",
        "def is_palindrome(head):\n",
        "    if not head or not head.next:\n",
        "        return True\n",
        "\n",
        "    # Find the middle node using slow and fast pointers\n",
        "    slow_ptr = head\n",
        "    fast_ptr = head\n",
        "\n",
        "    while fast_ptr and fast_ptr.next:\n",
        "        slow_ptr = slow_ptr.next\n",
        "        fast_ptr = fast_ptr.next.next\n",
        "\n",
        "    # Reverse the second half of the linked list\n",
        "    second_half = reverse_linked_list(slow_ptr)\n",
        "\n",
        "    # Compare the first half with the reversed second half\n",
        "    current1 = head\n",
        "    current2 = second_half\n",
        "\n",
        "    while current1 and current2:\n",
        "        if current1.data != current2.data:\n",
        "            return False\n",
        "        current1 = current1.next\n",
        "        current2 = current2.next\n",
        "\n",
        "    return True\n",
        "\n",
        "\n",
        "def reverse_linked_list(head):\n",
        "    if not head or not head.next:\n",
        "        return head\n",
        "\n",
        "    prev = None\n",
        "    current = head\n",
        "\n",
        "    while current:\n",
        "        next_node = current.next\n",
        "        current.next = prev\n",
        "        prev = current\n",
        "        current = next_node\n",
        "\n",
        "    return prev\n",
        "# Create the linked list: R->A->D->A->R->NULL\n",
        "list1 = Node('R')\n",
        "list1.next = Node('A')\n",
        "list1.next.next = Node('D')\n",
        "list1.next.next.next = Node('A')\n",
        "list1.next.next.next.next = Node('R')\n",
        "\n",
        "# Call the function to check if the linked list is a palindrome\n",
        "result = is_palindrome(list1)\n",
        "\n",
        "# Print the result\n",
        "if result:\n",
        "    print(\"Yes\")\n",
        "else:\n",
        "    print(\"No\")\n"
      ],
      "metadata": {
        "colab": {
          "base_uri": "https://localhost:8080/"
        },
        "id": "-nTdmXryP460",
        "outputId": "3dad7395-3cb6-43d7-b796-c9591b3d14f0"
      },
      "execution_count": 3,
      "outputs": [
        {
          "output_type": "stream",
          "name": "stdout",
          "text": [
            "Yes\n"
          ]
        }
      ]
    },
    {
      "cell_type": "markdown",
      "source": [
        "<aside>\n",
        "💡 **Question 5**\n",
        "\n",
        "Given a linked list of **N** nodes such that it may contain a loop.\n",
        "\n",
        "A loop here means that the last node of the link list is connected to the node at position X(1-based index). If the link list does not have any loop, X=0.\n",
        "\n",
        "Remove the loop from the linked list, if it is present, i.e. unlink the last node which is forming the loop.\n",
        "\n",
        "</aside>"
      ],
      "metadata": {
        "id": "btUndwb-QVYt"
      }
    },
    {
      "cell_type": "code",
      "source": [
        "class Node:\n",
        "    def __init__(self, data=None):\n",
        "        self.data = data\n",
        "        self.next = None\n",
        "\n",
        "\n",
        "def detect_and_remove_loop(head):\n",
        "    if not head or not head.next:\n",
        "        return head\n",
        "\n",
        "    slow_ptr = head\n",
        "    fast_ptr = head\n",
        "\n",
        "    # Find the meeting point of slow_ptr and fast_ptr\n",
        "    while fast_ptr and fast_ptr.next:\n",
        "        slow_ptr = slow_ptr.next\n",
        "        fast_ptr = fast_ptr.next.next\n",
        "        if slow_ptr == fast_ptr:\n",
        "            break\n",
        "\n",
        "    if slow_ptr != fast_ptr:\n",
        "        # No loop is present, return the original list\n",
        "        return head\n",
        "\n",
        "    # Move slow_ptr back to the head and keep fast_ptr at the meeting point\n",
        "    slow_ptr = head\n",
        "    while slow_ptr.next != fast_ptr.next:\n",
        "        slow_ptr = slow_ptr.next\n",
        "        fast_ptr = fast_ptr.next\n",
        "\n",
        "    # Remove the loop by setting the next pointer of the node before the meeting point to None\n",
        "    fast_ptr.next = None\n",
        "\n",
        "    return head\n",
        "# Create the linked list: 1 -> 3 -> 4 -> 3 (loop)\n",
        "list1 = Node(1)\n",
        "list1.next = Node(3)\n",
        "list1.next.next = Node(4)\n",
        "list1.next.next.next = list1.next  # Creating a loop\n",
        "\n",
        "# Call the function to detect and remove the loop\n",
        "result = detect_and_remove_loop(list1)\n",
        "\n",
        "# Print the modified linked list\n",
        "current = result\n",
        "while current:\n",
        "    print(current.data, end=\" -> \")\n",
        "    current = current.next\n"
      ],
      "metadata": {
        "colab": {
          "base_uri": "https://localhost:8080/"
        },
        "id": "3mOzNiDmQPwr",
        "outputId": "a77eb1b1-52bb-4015-a8ac-b70a7a757653"
      },
      "execution_count": 4,
      "outputs": [
        {
          "output_type": "stream",
          "name": "stdout",
          "text": [
            "1 -> 3 -> 4 -> "
          ]
        }
      ]
    },
    {
      "cell_type": "markdown",
      "source": [
        "Given a linked list and two integers M and N. Traverse the linked list such that you retain M nodes then delete next N nodes, continue the same till end of the linked list.\n",
        "\n",
        "Difficulty Level: Rookie"
      ],
      "metadata": {
        "id": "ivoIpWceQnAT"
      }
    },
    {
      "cell_type": "code",
      "source": [
        "class Node:\n",
        "    def __init__(self, data=None):\n",
        "        self.data = data\n",
        "        self.next = None\n",
        "\n",
        "\n",
        "def delete_nodes(head, M, N):\n",
        "    if not head or M <= 0 or N <= 0:\n",
        "        return head\n",
        "\n",
        "    # Traverse the linked list while retaining M nodes and deleting the next N nodes\n",
        "    current = head\n",
        "    while current:\n",
        "        # Skip M-1 nodes to retain\n",
        "        for _ in range(M - 1):\n",
        "            if current.next:\n",
        "                current = current.next\n",
        "            else:\n",
        "                return head\n",
        "\n",
        "        # Delete the next N nodes\n",
        "        temp = current.next\n",
        "        for _ in range(N):\n",
        "            if temp:\n",
        "                temp = temp.next\n",
        "            else:\n",
        "                break\n",
        "        current.next = temp\n",
        "\n",
        "        # Move current to the next node for the next iteration\n",
        "        current = temp\n",
        "\n",
        "    return head\n",
        "# Create the linked list: 1 -> 2 -> 3 -> 4 -> 5 -> 6 -> 7 -> 8\n",
        "list1 = Node(1)\n",
        "list1.next = Node(2)\n",
        "list1.next.next = Node(3)\n",
        "list1.next.next.next = Node(4)\n",
        "list1.next.next.next.next = Node(5)\n",
        "list1.next.next.next.next.next = Node(6)\n",
        "list1.next.next.next.next.next.next = Node(7)\n",
        "list1.next.next.next.next.next.next.next = Node(8)\n",
        "\n",
        "# Set the values of M and N\n",
        "M = 2\n",
        "N = 2\n",
        "\n",
        "# Call the function to retain M nodes and delete N nodes\n",
        "result = delete_nodes(list1, M, N)\n",
        "\n",
        "# Print the modified linked list\n",
        "current = result\n",
        "while current:\n",
        "    print(current.data, end=\" -> \")\n",
        "    current = current.next\n"
      ],
      "metadata": {
        "colab": {
          "base_uri": "https://localhost:8080/"
        },
        "id": "t3CzcjL8Qgai",
        "outputId": "31dce7f8-479e-41d1-f13f-261bd762f662"
      },
      "execution_count": 5,
      "outputs": [
        {
          "output_type": "stream",
          "name": "stdout",
          "text": [
            "1 -> 2 -> 5 -> 6 -> "
          ]
        }
      ]
    },
    {
      "cell_type": "markdown",
      "source": [
        "Given two linked lists, insert nodes of second list into first list at alternate positions of first list.\n",
        "For example, if first list is 5->7->17->13->11 and second is 12->10->2->4->6, the first list should become 5->12->7->10->17->2->13->4->11->6 and second list should become empty. The nodes of second list should only be inserted when there are positions available. For example, if the first list is 1->2->3 and second list is 4->5->6->7->8, then first list should become 1->4->2->5->3->6 and second list to 7->8.\n",
        "\n",
        "Use of extra space is not allowed (Not allowed to create additional nodes), i.e., insertion must be done in-place. Expected time complexity is O(n) where n is number of nodes in first list."
      ],
      "metadata": {
        "id": "f2HJHvA7Q2DK"
      }
    },
    {
      "cell_type": "code",
      "source": [
        "class Node:\n",
        "    def __init__(self, data=None):\n",
        "        self.data = data\n",
        "        self.next = None\n",
        "\n",
        "\n",
        "def insert_at_alternate_positions(first, second):\n",
        "    if not first:\n",
        "        return second\n",
        "\n",
        "    if not second:\n",
        "        return first\n",
        "\n",
        "    current1 = first\n",
        "    current2 = second\n",
        "\n",
        "    while current1 and current2:\n",
        "        temp1 = current1.next\n",
        "        temp2 = current2.next\n",
        "\n",
        "        current1.next = current2\n",
        "        current2.next = temp1\n",
        "\n",
        "        current1 = temp1\n",
        "        current2 = temp2\n",
        "\n",
        "    return first\n",
        "\n",
        "\n",
        "# Create the first linked list: 5 -> 7 -> 17 -> 13 -> 11\n",
        "list1 = Node(5)\n",
        "list1.next = Node(7)\n",
        "list1.next.next = Node(17)\n",
        "list1.next.next.next = Node(13)\n",
        "list1.next.next.next.next = Node(11)\n",
        "\n",
        "# Create the second linked list: 12 -> 10 -> 2 -> 4 -> 6\n",
        "list2 = Node(12)\n",
        "list2.next = Node(10)\n",
        "list2.next.next = Node(2)\n",
        "list2.next.next.next = Node(4)\n",
        "list2.next.next.next.next = Node(6)\n",
        "\n",
        "# Call the function to insert nodes from the second list into the first list\n",
        "result = insert_at_alternate_positions(list1, list2)\n",
        "\n",
        "# Print the modified first list\n",
        "current = result\n",
        "while current:\n",
        "    print(current.data, end=\" -> \")\n",
        "    current = current.next\n",
        "\n",
        "# Print the modified second list (which should be empty)\n",
        "print(\"\\nSecond list after insertion:\")\n",
        "current = list2\n",
        "while current:\n",
        "    print(current.data, end=\" -> \")\n",
        "    current = current.next\n"
      ],
      "metadata": {
        "colab": {
          "base_uri": "https://localhost:8080/"
        },
        "id": "rSblpoddQwZI",
        "outputId": "9896aa97-5ec5-4a5e-91bc-cd091fc091d7"
      },
      "execution_count": 6,
      "outputs": [
        {
          "output_type": "stream",
          "name": "stdout",
          "text": [
            "5 -> 12 -> 7 -> 10 -> 17 -> 2 -> 13 -> 4 -> 11 -> 6 -> \n",
            "Second list after insertion:\n",
            "12 -> 7 -> 10 -> 17 -> 2 -> 13 -> 4 -> 11 -> 6 -> "
          ]
        }
      ]
    },
    {
      "cell_type": "markdown",
      "source": [
        "Given a singly linked list, find if the linked list is [circular](https://www.geeksforgeeks.org/circular-linked-list/amp/) or not.\n",
        "\n",
        "> A linked list is called circular if it is not NULL-terminated and all nodes are connected in the form of a cycle. Below is an example of a circular linked list.\n",
        ">"
      ],
      "metadata": {
        "id": "curDN9L5RCRX"
      }
    },
    {
      "cell_type": "code",
      "source": [
        "class Node:\n",
        "    def __init__(self, data=None):\n",
        "        self.data = data\n",
        "        self.next = None\n",
        "\n",
        "\n",
        "def is_circular_linked_list(head):\n",
        "    if not head:\n",
        "        return False\n",
        "\n",
        "    slow_ptr = head\n",
        "    fast_ptr = head\n",
        "\n",
        "    while fast_ptr and fast_ptr.next:\n",
        "        slow_ptr = slow_ptr.next\n",
        "        fast_ptr = fast_ptr.next.next\n",
        "\n",
        "        if slow_ptr == fast_ptr:\n",
        "            return True\n",
        "\n",
        "    return False\n",
        "# Create the linked list: 1 -> 2 -> 3 -> 4 -> 5 -> 2 (loop)\n",
        "list1 = Node(1)\n",
        "list1.next = Node(2)\n",
        "list1.next.next = Node(3)\n",
        "list1.next.next.next = Node(4)\n",
        "list1.next.next.next.next = Node(5)\n",
        "list1.next.next.next.next.next = list1.next  # Creating a loop\n",
        "\n",
        "# Call the function to check if the linked list is circular\n",
        "result = is_circular_linked_list(list1)\n",
        "\n",
        "# Print the result\n",
        "if result:\n",
        "    print(\"The linked list is circular.\")\n",
        "else:\n",
        "    print(\"The linked list is not circular.\")\n"
      ],
      "metadata": {
        "colab": {
          "base_uri": "https://localhost:8080/"
        },
        "id": "VSvTKX8mQ6gu",
        "outputId": "0f88ba04-3411-4422-bf64-7b22a2eb788d"
      },
      "execution_count": 7,
      "outputs": [
        {
          "output_type": "stream",
          "name": "stdout",
          "text": [
            "The linked list is circular.\n"
          ]
        }
      ]
    },
    {
      "cell_type": "code",
      "source": [],
      "metadata": {
        "id": "7cJF92O2RKIh"
      },
      "execution_count": null,
      "outputs": []
    }
  ]
}