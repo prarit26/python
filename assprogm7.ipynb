{
  "nbformat": 4,
  "nbformat_minor": 0,
  "metadata": {
    "colab": {
      "provenance": [],
      "authorship_tag": "ABX9TyOWnmDd9CwfL0weteSHNFDu",
      "include_colab_link": true
    },
    "kernelspec": {
      "name": "python3",
      "display_name": "Python 3"
    },
    "language_info": {
      "name": "python"
    }
  },
  "cells": [
    {
      "cell_type": "markdown",
      "metadata": {
        "id": "view-in-github",
        "colab_type": "text"
      },
      "source": [
        "<a href=\"https://colab.research.google.com/github/prarit26/python/blob/python-program/assprogm7.ipynb\" target=\"_parent\"><img src=\"https://colab.research.google.com/assets/colab-badge.svg\" alt=\"Open In Colab\"/></a>"
      ]
    },
    {
      "cell_type": "markdown",
      "source": [
        "1. Write a Python Program to find sum of array?"
      ],
      "metadata": {
        "id": "2kyH4fTfM6IB"
      }
    },
    {
      "cell_type": "code",
      "source": [
        "def sumOfArray():\n",
        "    in_arr = eval(input(\"Enter the Array: \"))\n",
        "    print(f'The sum of {in_arr} is {sum(in_arr)}')\n",
        "\n",
        "sumOfArray()"
      ],
      "metadata": {
        "colab": {
          "base_uri": "https://localhost:8080/"
        },
        "id": "PFtsbGglOpKR",
        "outputId": "221ce763-bf5f-49a6-d0ac-2c75ab4ec901"
      },
      "execution_count": null,
      "outputs": [
        {
          "output_type": "stream",
          "name": "stdout",
          "text": [
            "Enter the Array: [1,2,3,4,5]\n",
            "The sum of [1, 2, 3, 4, 5] is 15\n"
          ]
        }
      ]
    },
    {
      "cell_type": "markdown",
      "source": [
        "2. Write a Python Program to find largest element in an array?"
      ],
      "metadata": {
        "id": "n0upvrbWOjLz"
      }
    },
    {
      "cell_type": "code",
      "execution_count": 1,
      "metadata": {
        "id": "0q1PDUPHUSAk",
        "colab": {
          "base_uri": "https://localhost:8080/"
        },
        "outputId": "3e7d7491-587b-43c2-f483-459909e73c8a"
      },
      "outputs": [
        {
          "output_type": "stream",
          "name": "stdout",
          "text": [
            "Enter the Array: [1,2,3,4,4,5]\n",
            "The Largest Element in [1, 2, 3, 4, 4, 5] is 5\n"
          ]
        }
      ],
      "source": [
        "\n",
        "def largestElement():\n",
        "    in_arr = eval(input(\"Enter the Array: \"))\n",
        "    print(f\"The Largest Element in {in_arr} is {sorted(in_arr, reverse=True)[0]}\")\n",
        "    \n",
        "largestElement()"
      ]
    },
    {
      "cell_type": "markdown",
      "source": [
        "3. Write a Python Program for array rotation ?\n"
      ],
      "metadata": {
        "id": "YZvJZv6wVh-n"
      }
    },
    {
      "cell_type": "code",
      "source": [
        "def reverseOfArray():\n",
        "    in_arr = eval(input(\"Enter the Array: \"))\n",
        "    print(f\"The Reverse of Array {in_arr} is {in_arr[::-1]}\")\n",
        "    \n",
        "reverseOfArray()"
      ],
      "metadata": {
        "colab": {
          "base_uri": "https://localhost:8080/"
        },
        "id": "nkDQ6ehQVxCX",
        "outputId": "37d990db-3e3e-4fd4-bfeb-1ec36d99dba0"
      },
      "execution_count": 2,
      "outputs": [
        {
          "output_type": "stream",
          "name": "stdout",
          "text": [
            "Enter the Array: [1,2,3,4,4,5]\n",
            "The Reverse of Array [1, 2, 3, 4, 4, 5] is [5, 4, 4, 3, 2, 1]\n"
          ]
        }
      ]
    },
    {
      "cell_type": "markdown",
      "source": [
        "\n",
        "4. Write a Python Program to Split the array and add the first part to the end ?"
      ],
      "metadata": {
        "id": "3lsPvo-1USvt"
      }
    },
    {
      "cell_type": "code",
      "source": [
        "def sumOfSplits():\n",
        "    in_arr = eval(input(\"Enter the Array: \"))\n",
        "    print(f\"The Sum of First and Last Elements of Array {in_arr} is {in_arr[0]+in_arr[-1]}\")\n",
        "    \n",
        "sumOfSplits()"
      ],
      "metadata": {
        "colab": {
          "base_uri": "https://localhost:8080/"
        },
        "id": "e5f0wrp4V6I2",
        "outputId": "3daccd40-354c-4471-ca0d-f994cd28c150"
      },
      "execution_count": 3,
      "outputs": [
        {
          "output_type": "stream",
          "name": "stdout",
          "text": [
            "Enter the Array: [1,2,3,4,4,5]\n",
            "The Sum of First and Last Elements of Array [1, 2, 3, 4, 4, 5] is 6\n"
          ]
        }
      ]
    },
    {
      "cell_type": "markdown",
      "source": [
        "Write a Python Program to check if given array is Monotonic ?"
      ],
      "metadata": {
        "id": "c9-LCpanWyEP"
      }
    },
    {
      "cell_type": "code",
      "source": [
        "def check():\n",
        "  a= eval(input(\" enter the array : \"))\n",
        "  if all(a[i]<=a[i+1] for i in range (len(a)-1)) or all(a[i]>=a[i+1] for i in range (len(a)-1)):\n",
        "    print(f\"the array {a} is monotonic\")\n",
        "  else:\n",
        "    print(f\"the array {a} in not monotonic\")\n",
        "check()"
      ],
      "metadata": {
        "colab": {
          "base_uri": "https://localhost:8080/"
        },
        "id": "Wl5O-dHgWyvG",
        "outputId": "a6bae0bd-799a-45cc-8faa-c88034c399e8"
      },
      "execution_count": 6,
      "outputs": [
        {
          "output_type": "stream",
          "name": "stdout",
          "text": [
            " enter the array : [1,2,3,4,4,5]\n",
            "the array [1, 2, 3, 4, 4, 5] is monotonic\n"
          ]
        }
      ]
    },
    {
      "cell_type": "code",
      "source": [],
      "metadata": {
        "id": "r55y6E3oYdnA"
      },
      "execution_count": 5,
      "outputs": []
    }
  ]
}