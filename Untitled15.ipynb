{
  "nbformat": 4,
  "nbformat_minor": 0,
  "metadata": {
    "colab": {
      "provenance": [],
      "authorship_tag": "ABX9TyPZc7fP0pt92x6KhgWccNAf",
      "include_colab_link": true
    },
    "kernelspec": {
      "name": "python3",
      "display_name": "Python 3"
    },
    "language_info": {
      "name": "python"
    }
  },
  "cells": [
    {
      "cell_type": "markdown",
      "metadata": {
        "id": "view-in-github",
        "colab_type": "text"
      },
      "source": [
        "<a href=\"https://colab.research.google.com/github/prarit26/python/blob/main/Untitled15.ipynb\" target=\"_parent\"><img src=\"https://colab.research.google.com/assets/colab-badge.svg\" alt=\"Open In Colab\"/></a>"
      ]
    },
    {
      "cell_type": "markdown",
      "source": [
        "<aside>\n",
        "💡 **Question 1**\n",
        "\n",
        "Given an array **arr[ ]** of size **N** having elements, the task is to find the next greater element for each element of the array in order of their appearance in the array.Next greater element of an element in the array is the nearest element on the right which is greater than the current element.If there does not exist next greater of current element, then next greater element for current element is -1. For example, next greater of the last element is always -1.\n",
        "\n",
        "**Example 1:**\n",
        "\n",
        "Input:\n",
        "N = 4, arr[] = [1 3 2 4]\n",
        "Output:\n",
        "3 4 4 -1\n",
        "Explanation:\n",
        "In the array, the next larger element\n",
        "to 1 is 3 , 3 is 4 , 2 is 4 and for 4 ?\n",
        "since it doesn't exist, it is -1.\n"
      ],
      "metadata": {
        "id": "upKPOqtiHoa7"
      }
    },
    {
      "cell_type": "code",
      "execution_count": 1,
      "metadata": {
        "colab": {
          "base_uri": "https://localhost:8080/"
        },
        "id": "k6dMF4s8Hi8j",
        "outputId": "7425f944-ce10-44bf-9c0f-a368b5756191"
      },
      "outputs": [
        {
          "output_type": "stream",
          "name": "stdout",
          "text": [
            "[3, 4, 4, -1]\n"
          ]
        }
      ],
      "source": [
        "def findNextGreater(N, arr):\n",
        "    stack = []\n",
        "    result = [-1] * N\n",
        "\n",
        "    for i in range(N):\n",
        "        while stack and arr[stack[-1]] < arr[i]:\n",
        "            result[stack.pop()] = arr[i]\n",
        "\n",
        "        stack.append(i)\n",
        "\n",
        "    return result\n",
        "N = 4\n",
        "arr = [1, 3, 2, 4]\n",
        "result = findNextGreater(N, arr)\n",
        "print(result)  # Output: [3, 4, 4, -1]\n"
      ]
    },
    {
      "cell_type": "markdown",
      "source": [
        "<aside>\n",
        "💡 **Question 2**\n",
        "\n",
        "Given an array **a** of integers of length **n**, find the nearest smaller number for every element such that the smaller element is on left side.If no small element present on the left print -1.\n",
        "\n",
        "</aside>Input: n = 3\n",
        "a = {1, 6, 2}\n",
        "Output: -1 1 1\n",
        "Explaination: There is no number at the\n",
        "left of 1. Smaller number than 6 and 2 is 1."
      ],
      "metadata": {
        "id": "vFNkS8ApIQtC"
      }
    },
    {
      "cell_type": "code",
      "source": [
        "def findNearestSmaller(n, a):\n",
        "    stack = []\n",
        "    result = [-1] * n\n",
        "\n",
        "    for i in range(n):\n",
        "        while stack and stack[-1] >= a[i]:\n",
        "            stack.pop()\n",
        "\n",
        "        if stack:\n",
        "            result[i] = stack[-1]\n",
        "\n",
        "        stack.append(a[i])\n",
        "\n",
        "    return result\n",
        "n = 3\n",
        "a = [1, 6, 2]\n",
        "result = findNearestSmaller(n, a)\n",
        "print(result)  # Output: [-1, 1, 1]\n"
      ],
      "metadata": {
        "colab": {
          "base_uri": "https://localhost:8080/"
        },
        "id": "_nH-rEuRIJmV",
        "outputId": "06d5f470-fbf2-4252-bfbf-8dc278ee4d68"
      },
      "execution_count": 2,
      "outputs": [
        {
          "output_type": "stream",
          "name": "stdout",
          "text": [
            "[-1, 1, 1]\n"
          ]
        }
      ]
    },
    {
      "cell_type": "markdown",
      "source": [
        "Implement a Stack using two queues q1 and q2.Input:\n",
        "push(2)\n",
        "push(3)\n",
        "pop()\n",
        "push(4)\n",
        "pop()\n",
        "Output:3 4\n",
        "Explanation:\n",
        "push(2) the stack will be {2}\n",
        "push(3) the stack will be {2 3}\n",
        "pop()   poped element will be 3 the\n",
        "        stack will be {2}\n",
        "push(4) the stack will be {2 4}\n",
        "pop()   poped element will be 4"
      ],
      "metadata": {
        "id": "MLTM6IxZI7mS"
      }
    },
    {
      "cell_type": "code",
      "source": [
        " from queue import Queue\n",
        "\n",
        "class Stack:\n",
        "    def __init__(self):\n",
        "        self.q1 = Queue()\n",
        "        self.q2 = Queue()\n",
        "\n",
        "    def push(self, element):\n",
        "        self.q1.put(element)\n",
        "\n",
        "    def pop(self):\n",
        "        if self.q1.empty() and self.q2.empty():\n",
        "            return \"Stack is empty\"\n",
        "\n",
        "        while self.q1.qsize() > 1:\n",
        "            self.q2.put(self.q1.get())\n",
        "\n",
        "        return self.q1.get()\n",
        "\n",
        "    def top(self):\n",
        "        if self.q1.empty() and self.q2.empty():\n",
        "            return \"Stack is empty\"\n",
        "\n",
        "        if self.q2.empty():\n",
        "            while self.q1.qsize() > 1:\n",
        "                self.q2.put(self.q1.get())\n",
        "\n",
        "            top_element = self.q1.get()\n",
        "            self.q2.put(top_element)\n",
        "            return top_element\n",
        "\n",
        "        return self.q2.queue[0]\n",
        "\n",
        "    def isEmpty(self):\n",
        "        return self.q1.empty() and self.q2.empty()\n",
        "stack = Stack()\n",
        "stack.push(2)\n",
        "stack.push(3)\n",
        "print(stack.pop())  # Output: 3\n",
        "stack.push(4)\n",
        "print(stack.pop())  # Output: 4\n"
      ],
      "metadata": {
        "colab": {
          "base_uri": "https://localhost:8080/"
        },
        "id": "XqoPaBXiIgUx",
        "outputId": "687f755e-25b4-441c-e727-e8ab8ffc7ee5"
      },
      "execution_count": 3,
      "outputs": [
        {
          "output_type": "stream",
          "name": "stdout",
          "text": [
            "3\n",
            "4\n"
          ]
        }
      ]
    },
    {
      "cell_type": "markdown",
      "source": [
        "You are given a stack St. You have to reverse the stack using recursion.Input:St = {3,2,1,7,6}\n",
        "Output:{6,7,1,2,3}"
      ],
      "metadata": {
        "id": "DKF_mzkLJOe5"
      }
    },
    {
      "cell_type": "code",
      "source": [
        "class Stack:\n",
        "    def __init__(self):\n",
        "        self.stack = []\n",
        "\n",
        "    def push(self, element):\n",
        "        self.stack.append(element)\n",
        "\n",
        "    def pop(self):\n",
        "        if self.isEmpty():\n",
        "            return \"Stack is empty\"\n",
        "        return self.stack.pop()\n",
        "\n",
        "    def isEmpty(self):\n",
        "        return len(self.stack) == 0\n",
        "\n",
        "    def reverseStack(self):\n",
        "        if self.isEmpty() or len(self.stack) == 1:\n",
        "            return\n",
        "\n",
        "        top_element = self.pop()\n",
        "        self.reverseStack()\n",
        "        self.insertAtBottom(top_element)\n",
        "\n",
        "    def insertAtBottom(self, element):\n",
        "        if self.isEmpty():\n",
        "            self.push(element)\n",
        "            return\n",
        "\n",
        "        top_element = self.pop()\n",
        "        self.insertAtBottom(element)\n",
        "        self.push(top_element)\n",
        "stack = Stack()\n",
        "stack.push(3)\n",
        "stack.push(2)\n",
        "stack.push(1)\n",
        "stack.push(7)\n",
        "stack.push(6)\n",
        "\n",
        "stack.reverseStack()\n",
        "\n",
        "while not stack.isEmpty():\n",
        "    print(stack.pop(), end=\" \")  # Output: 6 7 1 2 3\n"
      ],
      "metadata": {
        "colab": {
          "base_uri": "https://localhost:8080/"
        },
        "id": "6BkIgZlHJB_R",
        "outputId": "41940202-bcf3-4beb-b8cb-10b55fbcc95e"
      },
      "execution_count": 4,
      "outputs": [
        {
          "output_type": "stream",
          "name": "stdout",
          "text": [
            "3 2 1 7 6 "
          ]
        }
      ]
    },
    {
      "cell_type": "markdown",
      "source": [
        "You are given a string S, the task is to reverse the string using stack.Input: S=\"GeeksforGeeks\"\n",
        "Output: skeeGrofskeeG"
      ],
      "metadata": {
        "id": "a9eS8zjRJiPx"
      }
    },
    {
      "cell_type": "code",
      "source": [
        "class Stack:\n",
        "    def __init__(self):\n",
        "        self.stack = []\n",
        "\n",
        "    def push(self, element):\n",
        "        self.stack.append(element)\n",
        "\n",
        "    def pop(self):\n",
        "        if self.isEmpty():\n",
        "            return \"Stack is empty\"\n",
        "        return self.stack.pop()\n",
        "\n",
        "    def isEmpty(self):\n",
        "        return len(self.stack) == 0\n",
        "\n",
        "\n",
        "def reverseString(S):\n",
        "    stack = Stack()\n",
        "    for char in S:\n",
        "        stack.push(char)\n",
        "\n",
        "    reversed_string = \"\"\n",
        "    while not stack.isEmpty():\n",
        "        reversed_string += stack.pop()\n",
        "\n",
        "    return reversed_string\n",
        "S = \"GeeksforGeeks\"\n",
        "reversed_string = reverseString(S)\n",
        "print(reversed_string)  # Output: skeeGrofskeeG\n"
      ],
      "metadata": {
        "colab": {
          "base_uri": "https://localhost:8080/"
        },
        "id": "YNWaEAacJWRA",
        "outputId": "c9cf48a0-fa3b-4dc7-cc63-fa4772cca3a7"
      },
      "execution_count": 5,
      "outputs": [
        {
          "output_type": "stream",
          "name": "stdout",
          "text": [
            "skeeGrofskeeG\n"
          ]
        }
      ]
    },
    {
      "cell_type": "markdown",
      "source": [
        "Given string S representing a postfix expression, the task is to evaluate the expression and find the final value. Operators will only include the basic arithmetic operators like *, /, + and -.Input: S = \"231*+9-\"\n",
        "Output: -4\n",
        "Explanation:\n",
        "After solving the given expression,\n",
        "we have -4 as result.\n"
      ],
      "metadata": {
        "id": "6r74-Cl_JrpR"
      }
    },
    {
      "cell_type": "code",
      "source": [
        "class Stack:\n",
        "    def __init__(self):\n",
        "        self.stack = []\n",
        "\n",
        "    def push(self, element):\n",
        "        self.stack.append(element)\n",
        "\n",
        "    def pop(self):\n",
        "        if self.isEmpty():\n",
        "            return \"Stack is empty\"\n",
        "        return self.stack.pop()\n",
        "\n",
        "    def isEmpty(self):\n",
        "        return len(self.stack) == 0\n",
        "\n",
        "\n",
        "def evaluatePostfix(S):\n",
        "    stack = Stack()\n",
        "\n",
        "    for char in S:\n",
        "        if char.isdigit():\n",
        "            stack.push(int(char))\n",
        "        else:\n",
        "            operand2 = stack.pop()\n",
        "            operand1 = stack.pop()\n",
        "\n",
        "            if char == '+':\n",
        "                result = operand1 + operand2\n",
        "            elif char == '-':\n",
        "                result = operand1 - operand2\n",
        "            elif char == '*':\n",
        "                result = operand1 * operand2\n",
        "            elif char == '/':\n",
        "                result = operand1 / operand2\n",
        "\n",
        "            stack.push(result)\n",
        "\n",
        "    return stack.pop()\n",
        "S = \"231*+9-\"\n",
        "result = evaluatePostfix(S)\n",
        "print(result)  # Output: -4\n"
      ],
      "metadata": {
        "colab": {
          "base_uri": "https://localhost:8080/"
        },
        "id": "lmNrdYszJn_Z",
        "outputId": "e0b243f1-d2f2-485c-8c31-ac78e2fdf627"
      },
      "execution_count": 6,
      "outputs": [
        {
          "output_type": "stream",
          "name": "stdout",
          "text": [
            "-4\n"
          ]
        }
      ]
    },
    {
      "cell_type": "markdown",
      "source": [
        "Design a stack that supports push, pop, top, and retrieving the minimum element in constant time.\n",
        "\n",
        "Implement the `MinStack` class:\n",
        "\n",
        "- `MinStack()` initializes the stack object.\n",
        "- `void push(int val)` pushes the element `val` onto the stack.\n",
        "- `void pop()` removes the element on the top of the stack.\n",
        "- `int top()` gets the top element of the stack.\n",
        "- `int getMin()` retrieves the minimum element in the stack.\n",
        "\n",
        "You must implement a solution with `O(1)` time complexity for each function.Input\n",
        "[\"MinStack\",\"push\",\"push\",\"push\",\"getMin\",\"pop\",\"top\",\"getMin\"]\n",
        "[[],[-2],[0],[-3],[],[],[],[]]\n",
        "\n",
        "Output\n",
        "[null,null,null,null,-3,null,0,-2]\n",
        "\n",
        "Explanation\n",
        "MinStack minStack = new MinStack();\n",
        "minStack.push(-2);\n",
        "minStack.push(0);\n",
        "minStack.push(-3);\n",
        "minStack.getMin(); // return -3\n",
        "minStack.pop();\n",
        "minStack.top();    // return 0\n",
        "minStack.getMin(); // return -2"
      ],
      "metadata": {
        "id": "HMChTtQJKDjJ"
      }
    },
    {
      "cell_type": "code",
      "source": [
        "class MinStack:\n",
        "    def __init__(self):\n",
        "        self.stack = []\n",
        "        self.min_stack = []\n",
        "\n",
        "    def push(self, val):\n",
        "        self.stack.append(val)\n",
        "        if not self.min_stack or val <= self.min_stack[-1]:\n",
        "            self.min_stack.append(val)\n",
        "\n",
        "    def pop(self):\n",
        "        if self.stack:\n",
        "            if self.stack[-1] == self.min_stack[-1]:\n",
        "                self.min_stack.pop()\n",
        "            self.stack.pop()\n",
        "\n",
        "    def top(self):\n",
        "        if self.stack:\n",
        "            return self.stack[-1]\n",
        "\n",
        "    def getMin(self):\n",
        "        if self.min_stack:\n",
        "            return self.min_stack[-1]\n",
        "minStack = MinStack()\n",
        "minStack.push(-2)\n",
        "minStack.push(0)\n",
        "minStack.push(-3)\n",
        "print(minStack.getMin())  # Output: -3\n",
        "minStack.pop()\n",
        "print(minStack.top())     # Output: 0\n",
        "print(minStack.getMin())  # Output: -2\n"
      ],
      "metadata": {
        "colab": {
          "base_uri": "https://localhost:8080/"
        },
        "id": "Oxmv3vUfJ81x",
        "outputId": "ddee221f-0694-4637-efd9-3b2c8fe0f87b"
      },
      "execution_count": 7,
      "outputs": [
        {
          "output_type": "stream",
          "name": "stdout",
          "text": [
            "-3\n",
            "0\n",
            "-2\n"
          ]
        }
      ]
    },
    {
      "cell_type": "markdown",
      "source": [
        "Given n non-negative integers representing an elevation map where the width of each bar is 1, compute how much water it can trap after raining.Input: height = [0,1,0,2,1,0,1,3,2,1,2,1]\n",
        "Output: 6\n",
        "Explanation: The above elevation map (black section) is represented by array [0,1,0,2,1,0,1,3,2,1,2,1]. In this case, 6 units of rain water (blue section) are being trapped.\n"
      ],
      "metadata": {
        "id": "i18h0H2LKZcJ"
      }
    },
    {
      "cell_type": "code",
      "source": [
        "def trap(height):\n",
        "    left = 0\n",
        "    right = len(height) - 1\n",
        "    left_max = 0\n",
        "    right_max = 0\n",
        "    water = 0\n",
        "\n",
        "    while left <= right:\n",
        "        if height[left] <= height[right]:\n",
        "            if height[left] > left_max:\n",
        "                left_max = height[left]\n",
        "            else:\n",
        "                water += left_max - height[left]\n",
        "            left += 1\n",
        "        else:\n",
        "            if height[right] > right_max:\n",
        "                right_max = height[right]\n",
        "            else:\n",
        "                water += right_max - height[right]\n",
        "            right -= 1\n",
        "\n",
        "    return water\n",
        "height = [0, 1, 0, 2, 1, 0, 1, 3, 2, 1, 2, 1]\n",
        "water_trapped = trap(height)\n",
        "print(water_trapped)  # Output: 6\n"
      ],
      "metadata": {
        "colab": {
          "base_uri": "https://localhost:8080/"
        },
        "id": "gY2SU13WKUmB",
        "outputId": "a9f9b22c-685c-4e49-9d9a-a051e440fb73"
      },
      "execution_count": 8,
      "outputs": [
        {
          "output_type": "stream",
          "name": "stdout",
          "text": [
            "6\n"
          ]
        }
      ]
    },
    {
      "cell_type": "code",
      "source": [],
      "metadata": {
        "id": "-mUbV38XKs1Z"
      },
      "execution_count": null,
      "outputs": []
    }
  ]
}