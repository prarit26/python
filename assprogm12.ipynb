{
  "nbformat": 4,
  "nbformat_minor": 0,
  "metadata": {
    "colab": {
      "provenance": [],
      "authorship_tag": "ABX9TyPHp6Tks7kuzgSKsJKasYSG",
      "include_colab_link": true
    },
    "kernelspec": {
      "name": "python3",
      "display_name": "Python 3"
    },
    "language_info": {
      "name": "python"
    }
  },
  "cells": [
    {
      "cell_type": "markdown",
      "metadata": {
        "id": "view-in-github",
        "colab_type": "text"
      },
      "source": [
        "<a href=\"https://colab.research.google.com/github/prarit26/python/blob/python-program/assprogm12.ipynb\" target=\"_parent\"><img src=\"https://colab.research.google.com/assets/colab-badge.svg\" alt=\"Open In Colab\"/></a>"
      ]
    },
    {
      "cell_type": "markdown",
      "source": [
        "1. Write a Python program to Extract Unique values dictionary values?"
      ],
      "metadata": {
        "id": "OZnPWYRRjyGd"
      }
    },
    {
      "cell_type": "code",
      "execution_count": null,
      "metadata": {
        "colab": {
          "base_uri": "https://localhost:8080/"
        },
        "id": "DsNi2RtpjxCL",
        "outputId": "8508980f-bfe7-448d-8386-4744bfabe41c"
      },
      "outputs": [
        {
          "output_type": "stream",
          "name": "stdout",
          "text": [
            "dict_values(['Rishikesh', 'Badrinath', 'Gangotri', 'Yamunotri', 'Kedarnath', 'Tirupati', 'Kedarnath'])\n",
            "Unique Values: ['Rishikesh', 'Tirupati', 'Yamunotri', 'Kedarnath', 'Gangotri', 'Badrinath']\n"
          ]
        }
      ],
      "source": [
        "in_dict = {1:'Rishikesh',2:'Badrinath',3:'Gangotri',4:'Yamunotri',5:'Kedarnath',6:'Tirupati',7:'Kedarnath'}\n",
        "print(in_dict.values())\n",
        "print(f'Unique Values: {list(set(in_dict.values()))}')"
      ]
    },
    {
      "cell_type": "markdown",
      "source": [
        "2.Write a Python program to find the sum of all items in a dictionary?"
      ],
      "metadata": {
        "id": "m7R_latNjxgt"
      }
    },
    {
      "cell_type": "code",
      "source": [
        "in_dict = {'Apple':10,'Mango':20,'Banana':30,'Guava':40,'PineApple':200}\n",
        "print('Sum of All items: ',sum(in_dict.values()))"
      ],
      "metadata": {
        "colab": {
          "base_uri": "https://localhost:8080/"
        },
        "id": "vNgB1bMKlzTt",
        "outputId": "38a0f439-e2c5-4354-de12-7cac4ba23caa"
      },
      "execution_count": null,
      "outputs": [
        {
          "output_type": "stream",
          "name": "stdout",
          "text": [
            "Sum of All items:  300\n"
          ]
        }
      ]
    },
    {
      "cell_type": "markdown",
      "source": [
        "\n",
        "3.Write a Python program to Merging two Dictionaries?"
      ],
      "metadata": {
        "id": "eiZzNGiNl262"
      }
    },
    {
      "cell_type": "code",
      "source": [
        "course_details = {\n",
        "    'cousre_name':'Ineuron'\n",
        "}\n",
        "instructors = {\n",
        "    'course_instructors':['Sudhanshu Kumar','Krish Naik']\n",
        "}\n",
        "course_details.update(instructors)\n",
        "cou\n",
        "print(course_details)"
      ],
      "metadata": {
        "colab": {
          "base_uri": "https://localhost:8080/"
        },
        "id": "wQ4gaAHdl7zk",
        "outputId": "16bda478-4e31-4949-a8e1-3203416ef182"
      },
      "execution_count": null,
      "outputs": [
        {
          "output_type": "stream",
          "name": "stdout",
          "text": [
            "{'cousre_name': 'Ineuron', 'course_instructors': ['Sudhanshu Kumar', 'Krish Naik']}\n"
          ]
        }
      ]
    },
    {
      "cell_type": "markdown",
      "source": [
        "4.Write a Python program to convert key-values list to flat dictionary?"
      ],
      "metadata": {
        "id": "4dSkqsO7U7Dk"
      }
    },
    {
      "cell_type": "code",
      "source": [
        "in_list = [('A',10),('B',20),('C',30),('D',40),('E',50),('F',60),('G',70),('H',80),('I',90),('J',100)]\n",
        "\n",
        "# Method #1\n",
        "dict(in_list)\n",
        "\n",
        "# Method #2\n",
        "out_dict = {}\n",
        "for ele in in_list:\n",
        "    out_dict[ele[0]] = ele[1]\n",
        "print(out_dict)"
      ],
      "metadata": {
        "id": "0jxR-jEemET8",
        "colab": {
          "base_uri": "https://localhost:8080/"
        },
        "outputId": "4f7101dd-a4b0-4092-a2f6-ebd0bc5cc097"
      },
      "execution_count": 1,
      "outputs": [
        {
          "output_type": "stream",
          "name": "stdout",
          "text": [
            "{'A': 10, 'B': 20, 'C': 30, 'D': 40, 'E': 50, 'F': 60, 'G': 70, 'H': 80, 'I': 90, 'J': 100}\n"
          ]
        }
      ]
    },
    {
      "cell_type": "markdown",
      "source": [
        "5.Write a Python program to insertion at the beginning in OrderedDict?"
      ],
      "metadata": {
        "id": "rcjmVGRjVLuz"
      }
    },
    {
      "cell_type": "code",
      "source": [
        "from collections import OrderedDict\n",
        "dict_one = OrderedDict({'Apple':'Iphone','Microsoft':'Windows','Google':'chrome'})\n",
        "print('dict_one',dict_one)\n",
        "dict_two = {'Tesla':'SpaceX'}\n",
        "dict_one.update(dict_two)\n",
        "print('dict_one',dict_one)\n",
        "dict_one.move_to_end('Tesla',last=False)\n",
        "print('dict_one',dict_one)"
      ],
      "metadata": {
        "colab": {
          "base_uri": "https://localhost:8080/"
        },
        "id": "HAaj-EkPVNIH",
        "outputId": "aec5c8fa-a70f-45df-9611-d5549a583bc9"
      },
      "execution_count": 2,
      "outputs": [
        {
          "output_type": "stream",
          "name": "stdout",
          "text": [
            "dict_one OrderedDict([('Apple', 'Iphone'), ('Microsoft', 'Windows'), ('Google', 'chrome')])\n",
            "dict_one OrderedDict([('Apple', 'Iphone'), ('Microsoft', 'Windows'), ('Google', 'chrome'), ('Tesla', 'SpaceX')])\n",
            "dict_one OrderedDict([('Tesla', 'SpaceX'), ('Apple', 'Iphone'), ('Microsoft', 'Windows'), ('Google', 'chrome')])\n"
          ]
        }
      ]
    },
    {
      "cell_type": "markdown",
      "source": [
        "6.Write a Python program to check order of character in string using OrderedDict()?"
      ],
      "metadata": {
        "id": "LDlNg1TeVRla"
      }
    },
    {
      "cell_type": "code",
      "source": [
        "from collections import OrderedDict\n",
        "\n",
        "initial_list = {'a': 1000, 'f': 200, 'd': 300, 'c': 400, 'b': 500, 'e': 600}\n",
        "print(initial_list)\n",
        "\n",
        "final_list = OrderedDict(dict(sorted(initial_list.items())))\n",
        "print(final_list)"
      ],
      "metadata": {
        "colab": {
          "base_uri": "https://localhost:8080/"
        },
        "id": "cHDGuxBfVQy7",
        "outputId": "1a8b8c0a-bea6-40ce-9765-1335d2522cc6"
      },
      "execution_count": 3,
      "outputs": [
        {
          "output_type": "stream",
          "name": "stdout",
          "text": [
            "{'a': 1000, 'f': 200, 'd': 300, 'c': 400, 'b': 500, 'e': 600}\n",
            "OrderedDict([('a', 1000), ('b', 500), ('c', 400), ('d', 300), ('e', 600), ('f', 200)])\n"
          ]
        }
      ]
    },
    {
      "cell_type": "markdown",
      "source": [
        "7.Write a Python program to sort Python Dictionaries by Key or Value?"
      ],
      "metadata": {
        "id": "EnGvnx25Vcir"
      }
    },
    {
      "cell_type": "code",
      "source": [
        "d_items = {'Mango':100,'PineApple':22,'Banana':60,'Grape':13}\n",
        "\n",
        "def sort_dict(in_dict,sort_type):\n",
        "    if sort_type == 'key':\n",
        "        print(dict(sorted(in_dict.items(), key=lambda x:x[0], reverse=False)))\n",
        "    else:\n",
        "        print(dict(sorted(in_dict.items(), key=lambda x:x[1], reverse=False)))\n",
        "        \n",
        "sort_dict(d_items,'key')        \n",
        "sort_dict(d_items,'value')"
      ],
      "metadata": {
        "colab": {
          "base_uri": "https://localhost:8080/"
        },
        "id": "ToCQDHD_VaGn",
        "outputId": "dd7d2638-2bec-41fb-f41f-e89d03b2e086"
      },
      "execution_count": 4,
      "outputs": [
        {
          "output_type": "stream",
          "name": "stdout",
          "text": [
            "{'Banana': 60, 'Grape': 13, 'Mango': 100, 'PineApple': 22}\n",
            "{'Grape': 13, 'PineApple': 22, 'Banana': 60, 'Mango': 100}\n"
          ]
        }
      ]
    },
    {
      "cell_type": "code",
      "source": [],
      "metadata": {
        "id": "gGFCdC9JVgKf"
      },
      "execution_count": null,
      "outputs": []
    }
  ]
}