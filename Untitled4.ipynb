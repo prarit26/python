{
  "nbformat": 4,
  "nbformat_minor": 0,
  "metadata": {
    "colab": {
      "provenance": [],
      "authorship_tag": "ABX9TyMTxnSX+EPLbdcQT1VmjWgs",
      "include_colab_link": true
    },
    "kernelspec": {
      "name": "python3",
      "display_name": "Python 3"
    },
    "language_info": {
      "name": "python"
    }
  },
  "cells": [
    {
      "cell_type": "markdown",
      "metadata": {
        "id": "view-in-github",
        "colab_type": "text"
      },
      "source": [
        "<a href=\"https://colab.research.google.com/github/prarit26/python/blob/python-adv/Untitled4.ipynb\" target=\"_parent\"><img src=\"https://colab.research.google.com/assets/colab-badge.svg\" alt=\"Open In Colab\"/></a>"
      ]
    },
    {
      "cell_type": "markdown",
      "source": [
        "Q1. Which two operator overloading methods can you use in your classes to support iteration?"
      ],
      "metadata": {
        "id": "rztPu_xjxkqp"
      }
    },
    {
      "cell_type": "markdown",
      "source": [
        "Ans: __iter__ and __next__ are the operator overloading methods in python that support iteration and are collectively called iterator protocol.\n",
        "\n",
        "__iter__ returns the iterator object and is called at the start of loop in our respective class.\n",
        "__next__ is called at each loop increment, it returns the incremented value. Also Stopiteration is raised when there is no value to return."
      ],
      "metadata": {
        "id": "uaPAwA4dxovI"
      }
    },
    {
      "cell_type": "code",
      "execution_count": 1,
      "metadata": {
        "colab": {
          "base_uri": "https://localhost:8080/"
        },
        "id": "_dnyVXhnxj9C",
        "outputId": "8547c367-b4f8-432a-8d79-d88170aa662f"
      },
      "outputs": [
        {
          "output_type": "stream",
          "name": "stdout",
          "text": [
            "5 6 7 8 9 10 11 12 13 14 15 "
          ]
        }
      ],
      "source": [
        "class Counter:\n",
        "    def __init__(self,low,high):\n",
        "        self.current = low\n",
        "        self.high = high\n",
        "    def __iter__(self):\n",
        "        return self\n",
        "    def __next__(self):\n",
        "        if self.current > self.high:\n",
        "            raise StopIteration\n",
        "        else:\n",
        "            self.current += 1\n",
        "            return self.current - 1\n",
        "for ele in Counter(5,15):\n",
        "    print(ele, end=\" \")"
      ]
    },
    {
      "cell_type": "markdown",
      "source": [
        "Q2. In what contexts do the two operator overloading methods manage printing?"
      ],
      "metadata": {
        "id": "oa13rbGhxsrp"
      }
    },
    {
      "cell_type": "markdown",
      "source": [
        "Ans: __str__ and __repr__ are two operator overloading methods that manage printing.\n",
        "\n",
        "In Short, the difference between both these operators is the goal of __repr__ is to be unambiguous and __str__ is to be readable.\n",
        "Whenever we are printing any object reference internally __str__ method will be called by default.\n",
        "The main purpose of __str__ is for readability. it prints the informal string representation of an object, one that is useful for printing the object. it may not be possible to convert result string to original object.\n",
        "__repr__ is used to print official string representation of an object, so it includes all information and development."
      ],
      "metadata": {
        "id": "QYTDxecbxu6Q"
      }
    },
    {
      "cell_type": "code",
      "source": [
        "class Student:\n",
        "    def __init__(self,name,roll_no):\n",
        "        self.name = name\n",
        "        self.roll_no = roll_no\n",
        "\n",
        "s1 = Student(\"Mano\",1)\n",
        "print(str(s1))\n",
        "\n",
        "class Student:\n",
        "    def __init__(self,name,roll_no):\n",
        "        self.name = name\n",
        "        self.roll_no = roll_no\n",
        "    def __str__(self):\n",
        "        return f'Student Name: {self.name} and Roll No: {self.roll_no}'\n",
        "\n",
        "s1 = Student(\"Mano\",1)\n",
        "print(str(s1))\n",
        "\n",
        "import datetime\n",
        "today = datetime.datetime.now()\n",
        "\n",
        "s = str(today) # converting datetime object to presentable str\n",
        "print(s)\n",
        "try: d = eval(s) # converting str back to datetime object\n",
        "except: print(\"Unable to convert back to original object\")\n",
        "\n",
        "u = repr(today) # converting datetime object to str\n",
        "print(u)\n",
        "e = eval(u) # converting str back to datetime object\n",
        "print(e)"
      ],
      "metadata": {
        "colab": {
          "base_uri": "https://localhost:8080/"
        },
        "id": "p0dOL_LPxrEh",
        "outputId": "a69a4c4c-357c-4e1a-f280-a5b8d4f0b1c3"
      },
      "execution_count": 2,
      "outputs": [
        {
          "output_type": "stream",
          "name": "stdout",
          "text": [
            "<__main__.Student object at 0x7f5c8e746770>\n",
            "Student Name: Mano and Roll No: 1\n",
            "2023-06-22 15:44:19.503198\n",
            "Unable to convert back to original object\n",
            "datetime.datetime(2023, 6, 22, 15, 44, 19, 503198)\n",
            "2023-06-22 15:44:19.503198\n"
          ]
        }
      ]
    },
    {
      "cell_type": "markdown",
      "source": [
        "Q3. In a class, how do you intercept slice operations?"
      ],
      "metadata": {
        "id": "cY2-yq_yx0Yv"
      }
    },
    {
      "cell_type": "markdown",
      "source": [
        "Ans: In a class use of slice() in __getitem__ method is used for intercept slice operation. This slice method is provided with start integer number, stop integer number and step integer number.\n",
        "\n",
        "Example: __getitem__(slice(start,stop,step))"
      ],
      "metadata": {
        "id": "cV-bum-2x2dn"
      }
    },
    {
      "cell_type": "markdown",
      "source": [
        "Q4. In a class, how do you capture in-place addition?"
      ],
      "metadata": {
        "id": "nzWREnBax4X3"
      }
    },
    {
      "cell_type": "markdown",
      "source": [
        "Ans: a+b is normal addition. Whereas a+=b is inplace addition operation. In this in-place addition a itself will store the value of addition. In a class __iadd__ method is used for this in-place operation"
      ],
      "metadata": {
        "id": "KD3khGmlx6Ev"
      }
    },
    {
      "cell_type": "code",
      "source": [
        "class Book:\n",
        "    def __init__(self,pages):\n",
        "        self.pages = pages\n",
        "    def __iadd__(self,other):\n",
        "        self.pages += other.pages\n",
        "        return self.pages\n",
        "\n",
        "b1 = Book(100)\n",
        "b2 = Book(200)\n",
        "b1+=b2\n",
        "print(b1)"
      ],
      "metadata": {
        "colab": {
          "base_uri": "https://localhost:8080/"
        },
        "id": "RWpH9ZAixyT3",
        "outputId": "9b8b666f-69d2-44e9-8c9d-6822d49c1df8"
      },
      "execution_count": 3,
      "outputs": [
        {
          "output_type": "stream",
          "name": "stdout",
          "text": [
            "300\n"
          ]
        }
      ]
    },
    {
      "cell_type": "markdown",
      "source": [
        "Q5. When is it appropriate to use operator overloading?"
      ],
      "metadata": {
        "id": "siJMvmXVx9gQ"
      }
    },
    {
      "cell_type": "markdown",
      "source": [
        "Ans: Operator overloading is used when we want to use an operator other than its normal operation to have different meaning according to the context required in user defined function."
      ],
      "metadata": {
        "id": "Mh5r8ixQx_TX"
      }
    },
    {
      "cell_type": "code",
      "source": [
        "class Book:\n",
        "    def __init__(self,pages):\n",
        "        self.pages = pages\n",
        "    def __add__(self,other):\n",
        "        return self.pages+other.pages\n",
        "b1 = Book(100)\n",
        "b2 = Book(200)\n",
        "print(f'Total Number of Pages -> {b1+b2}')"
      ],
      "metadata": {
        "colab": {
          "base_uri": "https://localhost:8080/"
        },
        "id": "A5siDiqXx7zP",
        "outputId": "0ee77f6c-3ae2-47ca-ef47-4a8587d02fbd"
      },
      "execution_count": 4,
      "outputs": [
        {
          "output_type": "stream",
          "name": "stdout",
          "text": [
            "Total Number of Pages -> 300\n"
          ]
        }
      ]
    },
    {
      "cell_type": "code",
      "source": [],
      "metadata": {
        "id": "-iVC6ynPyBhY"
      },
      "execution_count": null,
      "outputs": []
    }
  ]
}