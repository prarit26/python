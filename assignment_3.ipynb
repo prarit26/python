{
  "nbformat": 4,
  "nbformat_minor": 0,
  "metadata": {
    "colab": {
      "provenance": [],
      "authorship_tag": "ABX9TyMcXRhiJ9Ka8pu3ksb00ra5",
      "include_colab_link": true
    },
    "kernelspec": {
      "name": "python3",
      "display_name": "Python 3"
    },
    "language_info": {
      "name": "python"
    }
  },
  "cells": [
    {
      "cell_type": "markdown",
      "metadata": {
        "id": "view-in-github",
        "colab_type": "text"
      },
      "source": [
        "<a href=\"https://colab.research.google.com/github/prarit26/python/blob/main/assignment_3.ipynb\" target=\"_parent\"><img src=\"https://colab.research.google.com/assets/colab-badge.svg\" alt=\"Open In Colab\"/></a>"
      ]
    },
    {
      "cell_type": "code",
      "execution_count": null,
      "metadata": {
        "id": "1ompD4B_qQTR"
      },
      "outputs": [],
      "source": [
        "1) Why are functions advantageous to have in your programs?"
      ]
    },
    {
      "cell_type": "markdown",
      "source": [
        "ans there are various advantages of use of functions\n",
        "\n",
        "1) if we want to repeat same task multiple time then by defining a function it preform set of line into single line ( reduce no of line)\n",
        "\n",
        "2) it make code more genralized\n",
        "\n",
        "3) it make code easy to read\n"
      ],
      "metadata": {
        "id": "hWOoLmwzqa54"
      }
    },
    {
      "cell_type": "markdown",
      "source": [
        "Q 2. When does the code in a function run: when it&#39;s specified or when it&#39;s called?\n",
        "\n",
        "ans when it's called"
      ],
      "metadata": {
        "id": "dbvQ5kPoreYn"
      }
    },
    {
      "cell_type": "markdown",
      "source": [
        "Q3. What statement creates a function?\n"
      ],
      "metadata": {
        "id": "Dxb_apcnsCfG"
      }
    },
    {
      "cell_type": "code",
      "source": [
        "def func():\n",
        "  code\n",
        "  return()\n"
      ],
      "metadata": {
        "id": "N1h99Ux9skQE"
      },
      "execution_count": null,
      "outputs": []
    },
    {
      "cell_type": "markdown",
      "source": [
        "4. What is the difference between a function and a function call?\n",
        "\n",
        "ans function means defining sets of code or instruction to a name \n",
        "and function call means comanding to preform that sets of code and instruction "
      ],
      "metadata": {
        "id": "-bUyCe8vsy6a"
      }
    },
    {
      "cell_type": "markdown",
      "source": [
        "5. How many global scopes are there in a Python program? How many local scopes?\n",
        "\n",
        "ans 4 global scope"
      ],
      "metadata": {
        "id": "7BwZ-ocxtU3f"
      }
    },
    {
      "cell_type": "code",
      "source": [],
      "metadata": {
        "id": "E3szU_jbP_8j"
      },
      "execution_count": null,
      "outputs": []
    },
    {
      "cell_type": "markdown",
      "source": [
        "6. What happens to variables in a local scope when the function call returns?\n",
        "\n",
        "ans variable in local scope value losse (destroy) after fuction call returns"
      ],
      "metadata": {
        "id": "rJnVwZITvoBD"
      }
    },
    {
      "cell_type": "markdown",
      "source": [
        "7. What is the concept of a return value? Is it possible to have a return value in an expression?\n",
        "\n",
        "ans return pass the value calculated in function to the in main program . yes it is possible to have a return value in an expression "
      ],
      "metadata": {
        "id": "V24gT1bkwOQ0"
      }
    },
    {
      "cell_type": "markdown",
      "source": [
        "8. If a function does not have a return statement, what is the return value of a call to that function?\n",
        "\n",
        "ans in python if we dont write return it defalut automatic pass the value "
      ],
      "metadata": {
        "id": "GD_DGKe5xD6T"
      }
    },
    {
      "cell_type": "markdown",
      "source": [
        "9. How do you make a function variable refer to the global variable?\n",
        "\n",
        "ans by using global "
      ],
      "metadata": {
        "id": "5BUPAHcayOIG"
      }
    },
    {
      "cell_type": "code",
      "source": [
        "def func():\n",
        "  global a = 4"
      ],
      "metadata": {
        "id": "62osY0rmsMBg"
      },
      "execution_count": null,
      "outputs": []
    },
    {
      "cell_type": "markdown",
      "source": [
        "10. What is the data type of None?\n",
        "\n",
        "ans The None keyword is used to define a null value, or no value at all. None is not the same as 0, False, or an empty string. None is a data type of its own (NoneType) and only None can be None."
      ],
      "metadata": {
        "id": "Zon8DGHvylUS"
      }
    },
    {
      "cell_type": "markdown",
      "source": [
        "11. What does the sentence import areallyourpetsnamederic do?\n",
        "\n",
        "ans no module exist by this name so it will show error"
      ],
      "metadata": {
        "id": "Gcv4qKdTy0UP"
      }
    },
    {
      "cell_type": "code",
      "source": [
        "import areallyourpetsnamederic\n",
        "\n"
      ],
      "metadata": {
        "colab": {
          "base_uri": "https://localhost:8080/",
          "height": 321
        },
        "id": "F6A9N0JUNuE7",
        "outputId": "7114f2b7-ecef-4c8d-ad8b-cb8e43cd82bd"
      },
      "execution_count": 1,
      "outputs": [
        {
          "output_type": "error",
          "ename": "ModuleNotFoundError",
          "evalue": "ignored",
          "traceback": [
            "\u001b[0;31m---------------------------------------------------------------------------\u001b[0m",
            "\u001b[0;31mModuleNotFoundError\u001b[0m                       Traceback (most recent call last)",
            "\u001b[0;32m<ipython-input-1-df6d936ed9fc>\u001b[0m in \u001b[0;36m<module>\u001b[0;34m\u001b[0m\n\u001b[0;32m----> 1\u001b[0;31m \u001b[0;32mimport\u001b[0m \u001b[0mareallyourpetsnamederic\u001b[0m\u001b[0;34m\u001b[0m\u001b[0;34m\u001b[0m\u001b[0m\n\u001b[0m\u001b[1;32m      2\u001b[0m \u001b[0;34m\u001b[0m\u001b[0m\n",
            "\u001b[0;31mModuleNotFoundError\u001b[0m: No module named 'areallyourpetsnamederic'",
            "",
            "\u001b[0;31m---------------------------------------------------------------------------\u001b[0;32m\nNOTE: If your import is failing due to a missing package, you can\nmanually install dependencies using either !pip or !apt.\n\nTo view examples of installing some common dependencies, click the\n\"Open Examples\" button below.\n\u001b[0;31m---------------------------------------------------------------------------\u001b[0m\n"
          ],
          "errorDetails": {
            "actions": [
              {
                "action": "open_url",
                "actionText": "Open Examples",
                "url": "/notebooks/snippets/importing_libraries.ipynb"
              }
            ]
          }
        }
      ]
    },
    {
      "cell_type": "markdown",
      "source": [
        "12. If you had a bacon() feature in a spam module, what would you call it after importing spam?\n",
        "\n",
        "ans spam.bacon()"
      ],
      "metadata": {
        "id": "-n5ufXRDOU2D"
      }
    },
    {
      "cell_type": "markdown",
      "source": [
        "13. What can you do to save a programme from crashing if it encounters an error?\n",
        "\n",
        "ans we can use try statement"
      ],
      "metadata": {
        "id": "O280MGspOyQ1"
      }
    },
    {
      "cell_type": "markdown",
      "source": [
        "14. What is the purpose of the try clause? What is the purpose of the except clause?\n",
        "\n",
        "ans The try block lets you test a block of code for errors. it will first attempt to execute the code in the try statement. If no exception occurs, the except statement is skipped"
      ],
      "metadata": {
        "id": "xiB5zk0rPKPq"
      }
    }
  ]
}