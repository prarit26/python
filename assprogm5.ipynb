{
  "nbformat": 4,
  "nbformat_minor": 0,
  "metadata": {
    "colab": {
      "provenance": [],
      "authorship_tag": "ABX9TyN2jpVlsCjEzXbeXNcZNh8H",
      "include_colab_link": true
    },
    "kernelspec": {
      "name": "python3",
      "display_name": "Python 3"
    },
    "language_info": {
      "name": "python"
    }
  },
  "cells": [
    {
      "cell_type": "markdown",
      "metadata": {
        "id": "view-in-github",
        "colab_type": "text"
      },
      "source": [
        "<a href=\"https://colab.research.google.com/github/prarit26/python/blob/python-program/assprogm5.ipynb\" target=\"_parent\"><img src=\"https://colab.research.google.com/assets/colab-badge.svg\" alt=\"Open In Colab\"/></a>"
      ]
    },
    {
      "cell_type": "markdown",
      "source": [
        "1. Write a Python Program to Find LCM?"
      ],
      "metadata": {
        "id": "hayKwREuY3Dt"
      }
    },
    {
      "cell_type": "code",
      "execution_count": 13,
      "metadata": {
        "colab": {
          "base_uri": "https://localhost:8080/"
        },
        "id": "OqQSyu9yYzCf",
        "outputId": "3b6f2abb-00c3-4404-bd7a-4fb35b68958e"
      },
      "outputs": [
        {
          "output_type": "stream",
          "name": "stdout",
          "text": [
            "how many no are there: 5\n",
            "15 13 52 31 5\n",
            "24180\n"
          ]
        }
      ],
      "source": [
        "\n",
        "def lcm(b):\n",
        "  c=max(b)\n",
        "  t=True\n",
        "  while t==True:\n",
        "    d=[]\n",
        "\n",
        "    for i in b:\n",
        "      rem=c%i\n",
        "      if rem!= 0:\n",
        "        d.append(i)\n",
        "        pass\n",
        "    \n",
        "    if len(d)==0:\n",
        "      print(c)   \n",
        "      break \n",
        "    c=c+1\n",
        "\n",
        "a=int(input('how many no are there: '))\n",
        "b=input()\n",
        "b=b.split(\" \")\n",
        "b= list(map(int, b))\n",
        "lcm(b)\n"
      ]
    },
    {
      "cell_type": "markdown",
      "source": [
        "2. Write a Python Program to find HCF ?"
      ],
      "metadata": {
        "id": "oSFQArd3Y2EL"
      }
    },
    {
      "cell_type": "code",
      "source": [
        "def findTheHcf(x_term,y_term):\n",
        "    if x_term>y_term:\n",
        "        smaller = y_term\n",
        "    else:\n",
        "        smaller = x_term\n",
        "    for ele in range(1,smaller+1):\n",
        "        if((x_term%ele == 0) and (y_term%ele == 0)):\n",
        "            hcf = ele\n",
        "    print(f'The HCF of {x_term},{y_term} is {hcf}')\n",
        "\n",
        "findTheHcf(6,12)"
      ],
      "metadata": {
        "colab": {
          "base_uri": "https://localhost:8080/"
        },
        "id": "_akESbf5hbk7",
        "outputId": "8231c7d0-f5c8-4d21-f487-d7453e566715"
      },
      "execution_count": 14,
      "outputs": [
        {
          "output_type": "stream",
          "name": "stdout",
          "text": [
            "The HCF of 6,12 is 6\n"
          ]
        }
      ]
    },
    {
      "cell_type": "markdown",
      "source": [
        "3. Write a Python Program to Convert Decimal to Binary, Octal and Hexadecimal ?"
      ],
      "metadata": {
        "id": "iziZB8DMhzQc"
      }
    },
    {
      "cell_type": "code",
      "source": [
        "\n",
        "def DecimalToOther():\n",
        "    num = int(input('Enter a Number: '))\n",
        "    print(f'Binary Number -> {bin(num)}')\n",
        "    print(f'Octal Number -> {oct(num)}')    \n",
        "    print(f'Hexadecimal Number -> {hex(num)}')    \n",
        "\n",
        "DecimalToOther()"
      ],
      "metadata": {
        "colab": {
          "base_uri": "https://localhost:8080/"
        },
        "id": "0ehflvqKh0EA",
        "outputId": "b7648797-eb3b-42eb-e8ad-da9f2565ef90"
      },
      "execution_count": 15,
      "outputs": [
        {
          "output_type": "stream",
          "name": "stdout",
          "text": [
            "Enter a Number: 50\n",
            "Binary Number -> 0b110010\n",
            "Octal Number -> 0o62\n",
            "Hexadecimal Number -> 0x32\n"
          ]
        }
      ]
    },
    {
      "cell_type": "markdown",
      "source": [
        "4. Write a Python Program to Find the ASCII value of a Character ?"
      ],
      "metadata": {
        "id": "SQ0lsOkqiAIG"
      }
    },
    {
      "cell_type": "code",
      "source": [
        "def charToAscii():\n",
        "    char = input('Enter a Character: ')\n",
        "    if len(char) > 1:\n",
        "        print('Please Enter a Single Character')\n",
        "    else:\n",
        "        print(f'Ascii Character of {char} is {ord(char)}')\n",
        "\n",
        "charToAscii()"
      ],
      "metadata": {
        "colab": {
          "base_uri": "https://localhost:8080/"
        },
        "id": "i0JU1en7iA2u",
        "outputId": "697f9e33-2d0b-4a81-be91-6c15e75a8992"
      },
      "execution_count": 17,
      "outputs": [
        {
          "output_type": "stream",
          "name": "stdout",
          "text": [
            "Enter a Character: a\n",
            "Ascii Character of a is 97\n"
          ]
        }
      ]
    },
    {
      "cell_type": "markdown",
      "source": [
        "5. Write a Python Program to Make a Simple Calculator with 4 Basic Mathematical operations ?"
      ],
      "metadata": {
        "id": "fvUJFDOJiQW8"
      }
    },
    {
      "cell_type": "code",
      "source": [
        "b=True\n",
        "while b == True :\n",
        "  try:\n",
        "    num1=int(input(\"enter first no : \"))\n",
        "    num2=int(input(\"enter second no : \"))\n",
        "   \n",
        "    a= int(input(\"which opration to perform : 1 (addition), 2 (division), 3(multiply), 4(sub)\"))\n",
        "  except :\n",
        "    print(\"enter 1 or 2\")\n",
        "  else :\n",
        "    if a==1:\n",
        "      num3=num1+num2\n",
        "    if a==2 :\n",
        "      num3=num1/num2\n",
        "    if a==3:\n",
        "      num3=num1*num2\n",
        "    if a==4:\n",
        "      num3=num1-num2\n",
        "    print(f\"the result of two nums a: {num1} and b: {num2} is ={num3}\")\n",
        "  c=input(\"calculate more: y/n : \")\n",
        "  if c==\"n\":\n",
        "    b=False"
      ],
      "metadata": {
        "colab": {
          "base_uri": "https://localhost:8080/"
        },
        "id": "ymufy1Cgif1U",
        "outputId": "ba218e30-5f7c-4f93-ec38-2c59dde216d3"
      },
      "execution_count": 19,
      "outputs": [
        {
          "name": "stdout",
          "output_type": "stream",
          "text": [
            "enter first no : 45\n",
            "enter second no : 12\n",
            "which opration to perform : 1 (addition), 2 (division), 3(multiply), 4(sub)4\n",
            "the result of two nums a: 45 and b: 12 is =33\n",
            "calculate more: y/n : n\n"
          ]
        }
      ]
    }
  ]
}