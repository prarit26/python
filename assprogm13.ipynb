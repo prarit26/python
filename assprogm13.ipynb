{
  "nbformat": 4,
  "nbformat_minor": 0,
  "metadata": {
    "colab": {
      "provenance": [],
      "authorship_tag": "ABX9TyPd+0S2O+wPv+cC820BZGa7",
      "include_colab_link": true
    },
    "kernelspec": {
      "name": "python3",
      "display_name": "Python 3"
    },
    "language_info": {
      "name": "python"
    }
  },
  "cells": [
    {
      "cell_type": "markdown",
      "metadata": {
        "id": "view-in-github",
        "colab_type": "text"
      },
      "source": [
        "<a href=\"https://colab.research.google.com/github/prarit26/python/blob/python-program/assprogm13.ipynb\" target=\"_parent\"><img src=\"https://colab.research.google.com/assets/colab-badge.svg\" alt=\"Open In Colab\"/></a>"
      ]
    },
    {
      "cell_type": "markdown",
      "source": [
        "1.Write a program that calculates and prints the value according to the given formula:\n",
        "\n",
        "Q = Square root of [(2 * C * D)/H]\n",
        "\n",
        "Following are the fixed values of C and H:\n",
        "\n",
        "C is 50. H is 30.\n",
        "\n",
        "D is the variable whose values should be input to your program in a comma-separated sequence.\n",
        "\n",
        "Example: Let us assume the following comma separated input sequence is given to the program:100,150,180\n",
        "\n",
        "The output of the program should be: 18,22,24"
      ],
      "metadata": {
        "id": "62deWEhLvtcb"
      }
    },
    {
      "cell_type": "code",
      "execution_count": 2,
      "metadata": {
        "colab": {
          "base_uri": "https://localhost:8080/"
        },
        "id": "_w6p6GNXvqJl",
        "outputId": "53625073-e70f-4848-fe39-e30db8c5de0f"
      },
      "outputs": [
        {
          "output_type": "stream",
          "name": "stdout",
          "text": [
            "Enter the Input: 100,150,180\n",
            "Output: 18,22,24\n"
          ]
        }
      ],
      "source": [
        "from math import sqrt\n",
        "def calculateProgram():\n",
        "    in_num = eval(input(\"Enter the Input: \"))\n",
        "    out_num = []\n",
        "    C = 50 # Declaring and initializing constant C\n",
        "    H = 30 # Declaring and initializing constant H\n",
        "    for ele in in_num:\n",
        "        Q = str(int(sqrt((2*C*ele)/H)))\n",
        "        out_num.append(Q)\n",
        "    print(\"Output: {}\".format(','.join(out_num)))\n",
        "    \n",
        "calculateProgram()"
      ]
    },
    {
      "cell_type": "markdown",
      "source": [
        "2.Write a program which takes 2 digits, X,Y as input and generates a 2-dimensional array. The element value in the i-th row and j-th column of the array should be i*j.\n",
        "\n",
        "Note: i=0,1.., X-1; j=0,1,¡Y-1.\n",
        "\n",
        "Example: Suppose the following inputs are given to the program: 3,5\n",
        "Then, the output of the program should be:[[0, 0, 0, 0, 0], [0, 1, 2, 3, 4], [0, 2, 4, 6, 8]]"
      ],
      "metadata": {
        "id": "Zkb7YbdiyBos"
      }
    },
    {
      "cell_type": "code",
      "source": [
        "import array as arr\n",
        "def generateArray():\n",
        "    in_x = int(input('Enter the No of Rows:'))\n",
        "    in_y = int(input('Enter the No of Columns:')) \n",
        "    out_array = []\n",
        "    for ele in range(in_x):\n",
        "        out_array.insert(in_x,[])\n",
        "        for sub_ele in range(in_y):\n",
        "            out_array[ele].append(ele*sub_ele)\n",
        "    print(out_array)\n",
        "    \n",
        "generateArray()"
      ],
      "metadata": {
        "colab": {
          "base_uri": "https://localhost:8080/"
        },
        "id": "3HwTDkmywFyF",
        "outputId": "bec7da66-b545-4429-8edf-4dbe70617d6c"
      },
      "execution_count": 3,
      "outputs": [
        {
          "output_type": "stream",
          "name": "stdout",
          "text": [
            "Enter the No of Rows:3\n",
            "Enter the No of Columns:5\n",
            "[[0, 0, 0, 0, 0], [0, 1, 2, 3, 4], [0, 2, 4, 6, 8]]\n"
          ]
        }
      ]
    },
    {
      "cell_type": "markdown",
      "source": [
        "3.Write a program that accepts a comma separated sequence of words as input and prints the words in a comma-separated sequence after sorting them alphabetically ?\n",
        "\n",
        "Suppose the following input is supplied to the program: without,hello,bag,world\n",
        "Then, the output should be: bag,hello,without,world"
      ],
      "metadata": {
        "id": "SpnRjc7jykDZ"
      }
    },
    {
      "cell_type": "code",
      "source": [
        "def sortString():\n",
        "    in_string = input(\"Enter the Input String: \")\n",
        "    out_string = ','.join(sorted(in_string.split(',')))\n",
        "    print(f'Output: {out_string}')\n",
        "    \n",
        "sortString()"
      ],
      "metadata": {
        "colab": {
          "base_uri": "https://localhost:8080/"
        },
        "id": "Ml1VecJkynTB",
        "outputId": "1c0f5b05-d9ae-4e8a-cfa3-0b3f9c1263c9"
      },
      "execution_count": 4,
      "outputs": [
        {
          "output_type": "stream",
          "name": "stdout",
          "text": [
            "Enter the Input String: without,hello,bag,world\n",
            "Output: bag,hello,without,world\n"
          ]
        }
      ]
    },
    {
      "cell_type": "markdown",
      "source": [
        "4.Write a program that accepts a sequence of whitespace separated words as input and prints the words after removing all duplicate words and sorting them alphanumerically.\n",
        "\n",
        "Suppose the following input is supplied to the program: hello world and practice makes perfect and hello world again\n",
        "Then, the output should be: again and hello makes perfect practice world"
      ],
      "metadata": {
        "id": "PRDlej4ryzii"
      }
    },
    {
      "cell_type": "code",
      "source": [
        "\n",
        "def sortAlphaNumerically():\n",
        "    in_string = input(\"Enter the Input String: \")\n",
        "    out_string = ' '.join(sorted(sorted(list(set(in_string.split(\" \"))))))\n",
        "    print(f'Output: {out_string}')\n",
        "    \n",
        "sortAlphaNumerically()"
      ],
      "metadata": {
        "colab": {
          "base_uri": "https://localhost:8080/"
        },
        "id": "uO97W6Vay2TI",
        "outputId": "ed73404d-c9f6-4e53-ddae-0a9040833219"
      },
      "execution_count": 5,
      "outputs": [
        {
          "output_type": "stream",
          "name": "stdout",
          "text": [
            "Enter the Input String: hello world and practice makes perfect and hello world again\n",
            "Output: again and hello makes perfect practice world\n"
          ]
        }
      ]
    },
    {
      "cell_type": "markdown",
      "source": [
        "5.Write a program that accepts a sentence and calculate the number of letters and digits.\n",
        "\n",
        "Suppose the following input is supplied to the program: hello world! 123\n",
        "Then, the output should be:\n",
        "\n",
        "LETTERS 10\n",
        "DIGITS 3"
      ],
      "metadata": {
        "id": "c6dltG71zA3a"
      }
    },
    {
      "cell_type": "code",
      "source": [
        "def countLetterAndDigits():\n",
        "    in_string = input(\"Enter the Input String: \")\n",
        "    lettersList = 'ABCDEFGHIJKLMNOPQRSTUVWXYZabcdefghijklmnopqrstuvwxyz'\n",
        "    digitsList = '0123456789'\n",
        "    letters = 0\n",
        "    digits = 0\n",
        "    for ele in in_string:\n",
        "        if ele in lettersList:\n",
        "            letters += 1\n",
        "        if ele in digitsList:\n",
        "            digits += 1\n",
        "    print(f'LETTERS {letters} \\nDIGITS {digits}')\n",
        "        \n",
        "countLetterAndDigits()"
      ],
      "metadata": {
        "colab": {
          "base_uri": "https://localhost:8080/"
        },
        "id": "gfecIeoKzE5V",
        "outputId": "1fa73e66-f35c-4c77-8094-c7fbb7cc734c"
      },
      "execution_count": 7,
      "outputs": [
        {
          "output_type": "stream",
          "name": "stdout",
          "text": [
            "Enter the Input String: hello world! 123\n",
            "LETTERS 10 \n",
            "DIGITS 3\n"
          ]
        }
      ]
    },
    {
      "cell_type": "markdown",
      "source": [
        "6.A website requires the users to input username and password to register. Write a program to check the validity of password input by users.\n",
        "Following are the criteria for checking the password:\n",
        "\n",
        "At least 1 letter between [a-z]\n",
        "\n",
        "At least 1 number between [0-9]\n",
        "\n",
        "At least 1 letter between [A-Z]\n",
        "\n",
        "At least 1 character from [$#@]\n",
        "\n",
        "Minimum length of transaction password: 6\n",
        "\n",
        "Maximum length of transaction password: 12\n",
        "\n",
        "Your program should accept a sequence of comma separated passwords and will check them according to the above criteria. Passwords that match the criteria are to be printed, each separated by a comma.\n",
        "\n",
        "Example:\n",
        "If the following passwords are given as input to the program: ABd1234@1,a F1#,2w3E*,2We3345\n",
        "\n",
        "Then, the output of the program should be:ABd1234@1"
      ],
      "metadata": {
        "id": "7ATo0PQlzbIg"
      }
    },
    {
      "cell_type": "code",
      "source": [
        "\n",
        "def checkPassword():\n",
        "    in_string = input(\"Enter the Input String: \")\n",
        "    small_list = \"abcdefghijklmnopqrstuvwxyz\"\n",
        "    cap_list = \"ABCDEFGHIJKLMNOPQRSTUVWXYZ\"\n",
        "    num_list = \"0123456789\"\n",
        "    special_list = \"$#@\"\n",
        "    for ele in in_string.split(\",\"):\n",
        "        if len(ele) <= 12 and len(ele) >=6 :\n",
        "            if any(i.isupper() for i in ele):\n",
        "                if any(i.islower() for i in ele):\n",
        "                    if any(i for i in ele if i in special_list):\n",
        "                        print(ele)\n",
        "                               \n",
        "checkPassword() "
      ],
      "metadata": {
        "colab": {
          "base_uri": "https://localhost:8080/"
        },
        "id": "LRPDyEBczF_M",
        "outputId": "09b6e4f4-711e-4e35-c4a5-2048e4c97140"
      },
      "execution_count": 8,
      "outputs": [
        {
          "output_type": "stream",
          "name": "stdout",
          "text": [
            "Enter the Input String:  ABd1234@1,a F1#,2w3E*,2We3345\n",
            " ABd1234@1\n"
          ]
        }
      ]
    },
    {
      "cell_type": "code",
      "source": [],
      "metadata": {
        "id": "-MxwfGcCziyM"
      },
      "execution_count": null,
      "outputs": []
    }
  ]
}