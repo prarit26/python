{
  "nbformat": 4,
  "nbformat_minor": 0,
  "metadata": {
    "colab": {
      "provenance": [],
      "authorship_tag": "ABX9TyNrFMuxHkD5poCq9bhhkKJu",
      "include_colab_link": true
    },
    "kernelspec": {
      "name": "python3",
      "display_name": "Python 3"
    },
    "language_info": {
      "name": "python"
    }
  },
  "cells": [
    {
      "cell_type": "markdown",
      "metadata": {
        "id": "view-in-github",
        "colab_type": "text"
      },
      "source": [
        "<a href=\"https://colab.research.google.com/github/prarit26/python/blob/python-adv/assingment6.ipynb\" target=\"_parent\"><img src=\"https://colab.research.google.com/assets/colab-badge.svg\" alt=\"Open In Colab\"/></a>"
      ]
    },
    {
      "cell_type": "markdown",
      "source": [
        "Q1. Describe three applications for exception processing."
      ],
      "metadata": {
        "id": "zs_Wea8akspY"
      }
    },
    {
      "cell_type": "markdown",
      "source": [
        "Ans: Exception Processing is important to find exceptions that causes the runtime error. As runtime errors Halt the program execution when exception occurs.\n",
        "\n",
        "Exception Processing is used in Various Applications of which few examples are:\n",
        "\n",
        "Checking Appropriate use of input in an application\n",
        "Checking for Arithmetic exceptions in mathematical executions\n",
        "Checking File I/O exceptions during File handling"
      ],
      "metadata": {
        "id": "nRRpCrBzkvO3"
      }
    },
    {
      "cell_type": "markdown",
      "source": [
        "Q2. What happens if you don't do something extra to treat an exception?"
      ],
      "metadata": {
        "id": "lUWpzO1QkxFX"
      }
    },
    {
      "cell_type": "markdown",
      "source": [
        "Ans: If Exceptions are not handled flow of program will be broken during the run time which might lead to a abnormal termination of the program. Inshort inability of program to handle exceptions will result in crashing of program."
      ],
      "metadata": {
        "id": "Pq2rvmyBkzdg"
      }
    },
    {
      "cell_type": "markdown",
      "source": [
        "Q3. What are your options for recovering from an exception in your script?"
      ],
      "metadata": {
        "id": "HkP9cmcIk1KH"
      }
    },
    {
      "cell_type": "markdown",
      "source": [
        "Ans: Python provides try and except statements for recovering from an exception in your script."
      ],
      "metadata": {
        "id": "ZYhwg6Mvk3AO"
      }
    },
    {
      "cell_type": "markdown",
      "source": [
        "Q4. Describe two methods for triggering exceptions in your script ?"
      ],
      "metadata": {
        "id": "2JJ-IdWlk4vH"
      }
    },
    {
      "cell_type": "markdown",
      "source": [
        "Ans: raise and assert are two methods that can be used to trigger manual exceptions in your script.\n",
        "\n",
        "raise method triggers an exception if condition provided to it turns out to be True.\n",
        "assert will let the program to continue execution if condition provided to it turns out to be True else exception will be raised"
      ],
      "metadata": {
        "id": "Qpw0Jfydk6zP"
      }
    },
    {
      "cell_type": "code",
      "execution_count": 1,
      "metadata": {
        "colab": {
          "base_uri": "https://localhost:8080/",
          "height": 200
        },
        "id": "tSDv-hxskPr8",
        "outputId": "cc7809f4-00c7-456a-dcd2-05572c24558c"
      },
      "outputs": [
        {
          "output_type": "error",
          "ename": "Exception",
          "evalue": "ignored",
          "traceback": [
            "\u001b[0;31m---------------------------------------------------------------------------\u001b[0m",
            "\u001b[0;31mException\u001b[0m                                 Traceback (most recent call last)",
            "\u001b[0;32m<ipython-input-1-3bda0e4dbc13>\u001b[0m in \u001b[0;36m<cell line: 3>\u001b[0;34m()\u001b[0m\n\u001b[1;32m      1\u001b[0m \u001b[0;31m# Example of raise\u001b[0m\u001b[0;34m\u001b[0m\u001b[0;34m\u001b[0m\u001b[0m\n\u001b[1;32m      2\u001b[0m \u001b[0mx\u001b[0m \u001b[0;34m=\u001b[0m \u001b[0;36m10\u001b[0m\u001b[0;34m\u001b[0m\u001b[0;34m\u001b[0m\u001b[0m\n\u001b[0;32m----> 3\u001b[0;31m \u001b[0;32mraise\u001b[0m \u001b[0mException\u001b[0m\u001b[0;34m(\u001b[0m\u001b[0;34mf'X Value Should not exceed 5 The Provided Value of X is {x}'\u001b[0m\u001b[0;34m)\u001b[0m\u001b[0;34m\u001b[0m\u001b[0;34m\u001b[0m\u001b[0m\n\u001b[0m",
            "\u001b[0;31mException\u001b[0m: X Value Should not exceed 5 The Provided Value of X is 10"
          ]
        }
      ],
      "source": [
        "# Example of raise\n",
        "x = 10\n",
        "raise Exception(f'X Value Should not exceed 5 The Provided Value of X is {x}')"
      ]
    },
    {
      "cell_type": "markdown",
      "source": [
        "Q5. Identify two methods for specifying actions to be executed at termination time, regardless of whether or not an exception exists."
      ],
      "metadata": {
        "id": "piW7JhIIk_8H"
      }
    },
    {
      "cell_type": "markdown",
      "source": [
        "Ans: Python Provides else and finally blocks for specifying actions to be executed at termination time, regardless of whether an exceptions exists or not."
      ],
      "metadata": {
        "id": "8ImsEpcTlBlX"
      }
    },
    {
      "cell_type": "code",
      "source": [],
      "metadata": {
        "id": "9K-DqWArk9xI"
      },
      "execution_count": null,
      "outputs": []
    }
  ]
}