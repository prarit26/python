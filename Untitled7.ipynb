{
  "nbformat": 4,
  "nbformat_minor": 0,
  "metadata": {
    "colab": {
      "provenance": [],
      "authorship_tag": "ABX9TyPh14bNgXJhT9fJxC6ZDoOo",
      "include_colab_link": true
    },
    "kernelspec": {
      "name": "python3",
      "display_name": "Python 3"
    },
    "language_info": {
      "name": "python"
    }
  },
  "cells": [
    {
      "cell_type": "markdown",
      "metadata": {
        "id": "view-in-github",
        "colab_type": "text"
      },
      "source": [
        "<a href=\"https://colab.research.google.com/github/prarit26/python/blob/main/Untitled7.ipynb\" target=\"_parent\"><img src=\"https://colab.research.google.com/assets/colab-badge.svg\" alt=\"Open In Colab\"/></a>"
      ]
    },
    {
      "cell_type": "markdown",
      "source": [
        "Given two strings s and t, *determine if they are isomorphic*.\n",
        "\n",
        "Two strings s and t are isomorphic if the characters in s can be replaced to get t.\n",
        "\n",
        "All occurrences of a character must be replaced with another character while preserving the order of characters. No two characters may map to the same character, but a character may map to itself.\n",
        "\n",
        "**Example 1:**\n",
        "\n",
        "**Input:** s = \"egg\", t = \"add\"\n",
        "\n",
        "**Output:** true"
      ],
      "metadata": {
        "id": "TTbcSnPz2vbs"
      }
    },
    {
      "cell_type": "code",
      "execution_count": 2,
      "metadata": {
        "colab": {
          "base_uri": "https://localhost:8080/"
        },
        "id": "6ivjpVW92n3U",
        "outputId": "0ed628c4-9f5f-4432-d018-44436b2643e7"
      },
      "outputs": [
        {
          "output_type": "stream",
          "name": "stdout",
          "text": [
            "True\n"
          ]
        }
      ],
      "source": [
        "def isIsomorphic(s, t):\n",
        "    if len(s) != len(t):\n",
        "        return False\n",
        "\n",
        "    s_to_t = {}  # Mapping from s to t\n",
        "    t_to_s = {}  # Mapping from t to s\n",
        "\n",
        "    for i in range(len(s)):\n",
        "        char_s = s[i]\n",
        "        char_t = t[i]\n",
        "\n",
        "        if char_s in s_to_t and s_to_t[char_s] != char_t:\n",
        "            return False\n",
        "\n",
        "        if char_t in t_to_s and t_to_s[char_t] != char_s:\n",
        "            return False\n",
        "\n",
        "        s_to_t[char_s] = char_t\n",
        "        t_to_s[char_t] = char_s\n",
        "\n",
        "    return True\n",
        "\n",
        "s = \"egg\"\n",
        "t = \"add\"\n",
        "print(isIsomorphic(s, t))"
      ]
    },
    {
      "cell_type": "markdown",
      "source": [
        "Given a string num which represents an integer, return true *if* num *is a **strobogrammatic number***.\n",
        "\n",
        "A **strobogrammatic number** is a number that looks the same when rotated 180 degrees (looked at upside down).\n",
        "\n",
        "**Example 1:**\n",
        "\n",
        "**Input:** num = \"69\"\n",
        "\n",
        "**Output:**\n",
        "\n",
        "true"
      ],
      "metadata": {
        "id": "psHvcG7728vv"
      }
    },
    {
      "cell_type": "code",
      "source": [
        "def isStrobogrammatic(num):\n",
        "    valid_pairs = {'0': '0', '1': '1', '6': '9', '8': '8', '9': '6'}\n",
        "    left, right = 0, len(num) - 1\n",
        "\n",
        "    while left <= right:\n",
        "        if num[left] not in valid_pairs or num[right] != valid_pairs[num[left]]:\n",
        "            return False\n",
        "\n",
        "        left += 1\n",
        "        right -= 1\n",
        "\n",
        "    return True\n",
        "num = \"69\"\n",
        "print(isStrobogrammatic(num))\n"
      ],
      "metadata": {
        "colab": {
          "base_uri": "https://localhost:8080/"
        },
        "id": "IdxQ0iZ-21iY",
        "outputId": "528bc32c-8ad9-434b-b307-cfe05118a587"
      },
      "execution_count": 3,
      "outputs": [
        {
          "output_type": "stream",
          "name": "stdout",
          "text": [
            "True\n"
          ]
        }
      ]
    },
    {
      "cell_type": "markdown",
      "source": [
        "Given two non-negative integers, num1 and num2 represented as string, return *the sum of* num1 *and* num2 *as a string*.\n",
        "\n",
        "You must solve the problem without using any built-in library for handling large integers (such as BigInteger). You must also not convert the inputs to integers directly.\n",
        "\n",
        "**Example 1:**\n",
        "\n",
        "**Input:** num1 = \"11\", num2 = \"123\"\n",
        "\n",
        "**Output:**\n",
        "\n",
        "\"134\""
      ],
      "metadata": {
        "id": "JGhdibOV3JTB"
      }
    },
    {
      "cell_type": "code",
      "source": [
        "def addStrings(num1, num2):\n",
        "    # Initialize variables\n",
        "    result = \"\"\n",
        "    carry = 0\n",
        "    i = len(num1) - 1\n",
        "    j = len(num2) - 1\n",
        "\n",
        "    # Perform digit-by-digit addition\n",
        "    while i >= 0 or j >= 0:\n",
        "        # Get the current digits\n",
        "        digit1 = int(num1[i]) if i >= 0 else 0\n",
        "        digit2 = int(num2[j]) if j >= 0 else 0\n",
        "\n",
        "        # Calculate the sum with carry\n",
        "        current_sum = digit1 + digit2 + carry\n",
        "\n",
        "        # Update carry and result\n",
        "        carry = current_sum // 10\n",
        "        result = str(current_sum % 10) + result\n",
        "\n",
        "        # Move to the next digits\n",
        "        i -= 1\n",
        "        j -= 1\n",
        "\n",
        "    # Check if there is any remaining carry\n",
        "    if carry > 0:\n",
        "        result = str(carry) + result\n",
        "\n",
        "    return result\n",
        "num1 = \"11\"\n",
        "num2 = \"123\"\n",
        "print(addStrings(num1, num2))\n"
      ],
      "metadata": {
        "colab": {
          "base_uri": "https://localhost:8080/"
        },
        "id": "5SEiyUwI3DuX",
        "outputId": "42b65aff-620c-42f1-bc96-d863192e8f95"
      },
      "execution_count": 4,
      "outputs": [
        {
          "output_type": "stream",
          "name": "stdout",
          "text": [
            "134\n"
          ]
        }
      ]
    },
    {
      "cell_type": "markdown",
      "source": [
        "Given a string s, reverse the order of characters in each word within a sentence while still preserving whitespace and initial word order.\n",
        "\n",
        "**Example 1:**\n",
        "\n",
        "**Input:** s = \"Let's take LeetCode contest\"\n",
        "\n",
        "**Output:** \"s'teL ekat edoCteeL tsetnoc\""
      ],
      "metadata": {
        "id": "jxJB0v2b3Vcu"
      }
    },
    {
      "cell_type": "code",
      "source": [
        "def reverseWords(s):\n",
        "    # Split the sentence into words\n",
        "    words = s.split()\n",
        "\n",
        "    # Reverse each word\n",
        "    reversed_words = [word[::-1] for word in words]\n",
        "\n",
        "    # Join the reversed words back into a sentence\n",
        "    reversed_sentence = ' '.join(reversed_words)\n",
        "\n",
        "    return reversed_sentence\n",
        "s = \"Let's take LeetCode contest\"\n",
        "print(reverseWords(s))\n"
      ],
      "metadata": {
        "colab": {
          "base_uri": "https://localhost:8080/"
        },
        "id": "EHi6wOnG3P-z",
        "outputId": "fa35341d-a311-4cda-b459-3e33dbb5863f"
      },
      "execution_count": 5,
      "outputs": [
        {
          "output_type": "stream",
          "name": "stdout",
          "text": [
            "s'teL ekat edoCteeL tsetnoc\n"
          ]
        }
      ]
    },
    {
      "cell_type": "markdown",
      "source": [
        "Given a string s and an integer k, reverse the first k characters for every 2k characters counting from the start of the string.\n",
        "\n",
        "If there are fewer than k characters left, reverse all of them. If there are less than 2k but greater than or equal to k characters, then reverse the first k characters and leave the other as original.\n",
        "\n",
        "**Example 1:**\n",
        "\n",
        "**Input:** s = \"abcdefg\", k = 2\n",
        "\n",
        "**Output:**\n",
        "\n",
        "\"bacdfeg\""
      ],
      "metadata": {
        "id": "d599nOiR3iM0"
      }
    },
    {
      "cell_type": "code",
      "source": [
        "def reverseStr(s, k):\n",
        "    # Convert the string to a list of characters\n",
        "    chars = list(s)\n",
        "    \n",
        "    # Iterate through the string in steps of 2k\n",
        "    for i in range(0, len(chars), 2 * k):\n",
        "        # Reverse the first k characters\n",
        "        chars[i:i+k] = reversed(chars[i:i+k])\n",
        "\n",
        "    # Convert the list of characters back to a string\n",
        "    reversed_str = ''.join(chars)\n",
        "    \n",
        "    return reversed_str\n",
        "s = \"abcdefg\"\n",
        "k = 2\n",
        "print(reverseStr(s, k))\n"
      ],
      "metadata": {
        "colab": {
          "base_uri": "https://localhost:8080/"
        },
        "id": "BVyCu4Cp3cCm",
        "outputId": "ff6d35db-ce40-42c0-eecf-daf2f6e3e70a"
      },
      "execution_count": 6,
      "outputs": [
        {
          "output_type": "stream",
          "name": "stdout",
          "text": [
            "bacdfeg\n"
          ]
        }
      ]
    },
    {
      "cell_type": "markdown",
      "source": [
        "Given two strings s and goal, return true *if and only if* s *can become* goal *after some number of **shifts** on* s.\n",
        "\n",
        "A **shift** on s consists of moving the leftmost character of s to the rightmost position.\n",
        "\n",
        "- For example, if s = \"abcde\", then it will be \"bcdea\" after one shift.\n",
        "\n",
        "**Example 1:**\n",
        "\n",
        "**Input:** s = \"abcde\", goal = \"cdeab\"\n",
        "\n",
        "**Output:**\n",
        "\n",
        "true"
      ],
      "metadata": {
        "id": "03LFZWw43s2C"
      }
    },
    {
      "cell_type": "code",
      "source": [
        "def isGoalAchievable(s, goal):\n",
        "    # Concatenate s with itself\n",
        "    concatenated = s + s\n",
        "    \n",
        "    # Check if goal is a substring of concatenated\n",
        "    if goal in concatenated:\n",
        "        return True\n",
        "    else:\n",
        "        return False\n",
        "s = \"abcde\"\n",
        "goal = \"cdeab\"\n",
        "print(isGoalAchievable(s, goal))\n"
      ],
      "metadata": {
        "colab": {
          "base_uri": "https://localhost:8080/"
        },
        "id": "I58ekEH83ocD",
        "outputId": "1334d502-acea-43e0-f3ce-b788b22fa383"
      },
      "execution_count": 7,
      "outputs": [
        {
          "output_type": "stream",
          "name": "stdout",
          "text": [
            "True\n"
          ]
        }
      ]
    },
    {
      "cell_type": "markdown",
      "source": [
        "Given two strings s and t, return true *if they are equal when both are typed into empty text editors*. '#' means a backspace character.\n",
        "\n",
        "Note that after backspacing an empty text, the text will continue empty.\n",
        "\n",
        "**Example 1:**\n",
        "\n",
        "**Input:** s = \"ab#c\", t = \"ad#c\"\n",
        "\n",
        "**Output:** true\n",
        "\n",
        "**Explanation:**\n",
        "\n",
        "Both s and t become \"ac\"."
      ],
      "metadata": {
        "id": "QE1U0A0833r9"
      }
    },
    {
      "cell_type": "code",
      "source": [
        "def processString(s):\n",
        "    stack = []\n",
        "    for char in s:\n",
        "        if char == '#':\n",
        "            if stack:\n",
        "                stack.pop()\n",
        "        else:\n",
        "            stack.append(char)\n",
        "    return ''.join(stack)\n",
        "\n",
        "\n",
        "def backspaceCompare(s, t):\n",
        "    processed_s = processString(s)\n",
        "    processed_t = processString(t)\n",
        "    return processed_s == processed_t\n",
        "s = \"ab#c\"\n",
        "t = \"ad#c\"\n",
        "print(backspaceCompare(s, t))\n"
      ],
      "metadata": {
        "colab": {
          "base_uri": "https://localhost:8080/"
        },
        "id": "Iz0sGZEX3x4Q",
        "outputId": "5dbc1e72-8c4a-4854-f923-2b34542cfadb"
      },
      "execution_count": 8,
      "outputs": [
        {
          "output_type": "stream",
          "name": "stdout",
          "text": [
            "True\n"
          ]
        }
      ]
    },
    {
      "cell_type": "markdown",
      "source": [
        "You are given an array coordinates, coordinates[i] = [x, y], where [x, y] represents the coordinate of a point. Check if these points make a straight line in the XY plane.\n",
        "\n",
        "**Example 1:**\n",
        "**Input:** coordinates = [[1,2],[2,3],[3,4],[4,5],[5,6],[6,7]]\n",
        "\n",
        "**Output:** true"
      ],
      "metadata": {
        "id": "s5U1K45R4RFC"
      }
    },
    {
      "cell_type": "code",
      "source": [
        "def checkStraightLine(coordinates):\n",
        "    if len(coordinates) < 3:\n",
        "        return True\n",
        "\n",
        "    x0, y0 = coordinates[0]\n",
        "    x1, y1 = coordinates[1]\n",
        "    slope = (y1 - y0) / (x1 - x0)\n",
        "\n",
        "    for i in range(2, len(coordinates)):\n",
        "        x, y = coordinates[i]\n",
        "        if (y - y0) / (x - x0) != slope:\n",
        "            return False\n",
        "\n",
        "    return True\n",
        "coordinates = [[1, 2], [2, 3], [3, 4], [4, 5], [5, 6], [6, 7]]\n",
        "print(checkStraightLine(coordinates))\n"
      ],
      "metadata": {
        "colab": {
          "base_uri": "https://localhost:8080/"
        },
        "id": "FB4ko7zG39UR",
        "outputId": "dbf9b4c2-89ab-4193-dcb8-6eb938b19ee8"
      },
      "execution_count": 9,
      "outputs": [
        {
          "output_type": "stream",
          "name": "stdout",
          "text": [
            "True\n"
          ]
        }
      ]
    },
    {
      "cell_type": "code",
      "source": [],
      "metadata": {
        "id": "3LyscTW44a0F"
      },
      "execution_count": null,
      "outputs": []
    }
  ]
}