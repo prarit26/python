{
  "nbformat": 4,
  "nbformat_minor": 0,
  "metadata": {
    "colab": {
      "provenance": [],
      "authorship_tag": "ABX9TyOB1oUHsljmFkh+3vZ6bCZH",
      "include_colab_link": true
    },
    "kernelspec": {
      "name": "python3",
      "display_name": "Python 3"
    },
    "language_info": {
      "name": "python"
    }
  },
  "cells": [
    {
      "cell_type": "markdown",
      "metadata": {
        "id": "view-in-github",
        "colab_type": "text"
      },
      "source": [
        "<a href=\"https://colab.research.google.com/github/prarit26/python/blob/main/assignment_2.ipynb\" target=\"_parent\"><img src=\"https://colab.research.google.com/assets/colab-badge.svg\" alt=\"Open In Colab\"/></a>"
      ]
    },
    {
      "cell_type": "code",
      "source": [
        "a=bool(1)\n",
        "print(a)\n",
        "a=bool(0)\n",
        "print(a)\n",
        "a=bool(11)\n",
        "print(a)\n",
        "a=bool(-11)\n",
        "print(a)\n"
      ],
      "metadata": {
        "colab": {
          "base_uri": "https://localhost:8080/"
        },
        "id": "6FTMeKW-db1R",
        "outputId": "352eb988-47ad-48d5-b757-3755cc0323a4"
      },
      "execution_count": null,
      "outputs": [
        {
          "output_type": "stream",
          "name": "stdout",
          "text": [
            "True\n",
            "False\n",
            "True\n",
            "True\n"
          ]
        }
      ]
    },
    {
      "cell_type": "code",
      "execution_count": null,
      "metadata": {
        "id": "RIMRyRZNcuVo"
      },
      "outputs": [],
      "source": []
    },
    {
      "cell_type": "markdown",
      "source": [
        "1.What are the two values of the Boolean data type? How do you write them?\n",
        "\n",
        "ans 'True' means 1 , 'False' means 0 \n",
        "\n",
        "bool"
      ],
      "metadata": {
        "id": "DHRAcYpAdFis"
      }
    },
    {
      "cell_type": "markdown",
      "source": [
        "2. What are the three different types of Boolean operators?\n",
        "\n",
        "ans or , and , not\n",
        "\n",
        "or = it will take decision that if one of 2 is true then it will give true\n",
        "\n",
        "and = it will take decision that if both of 2 is true then it will give true\n",
        "\n",
        "not = it just reverse the input eg if a= True then not(a) = False"
      ],
      "metadata": {
        "id": "7WwHKMJogpGD"
      }
    },
    {
      "cell_type": "markdown",
      "source": [
        "3. Make a list of each Boolean operator's truth tables (i.e. every possible combination of Boolean\n",
        "values for the operator and what it evaluate ).\n",
        "\n",
        "ans \n",
        "\n",
        "     False | true  = False\n",
        "\n",
        "     False | False = False\n",
        "\n",
        "     True  | True  = True\n",
        "\n",
        "     True  | False  =False"
      ],
      "metadata": {
        "id": "6XWzs3yvjbyi"
      }
    },
    {
      "cell_type": "markdown",
      "source": [
        "4. What are the values of the following expressions?\n",
        "(5 > 4) and (3 == 5)\n",
        "not (5 > 4)\n",
        "(5 > 4) or (3 == 5)\n",
        "not ((5 > 4) or (3 == 5))\n",
        "(True and True) and (True == False)\n",
        "(not False) or (not True)\n",
        "\n",
        "ans \n",
        "\n",
        "1.   False\n",
        "2.   False\n",
        "3.   True\n",
        "4.   False\n",
        "5.   False\n",
        "6.   True\n",
        "\n",
        "\n",
        "\n",
        "\n",
        "\n"
      ],
      "metadata": {
        "id": "LLtqLxqIkZhb"
      }
    },
    {
      "cell_type": "markdown",
      "source": [
        "Q 5. What are the six comparison operators?\n",
        "\n",
        "ans\n",
        "\n",
        "1. == equal to\n",
        "2. > greater then\n",
        "3. < less then\n",
        "4. <= less then or equal to\n",
        "5. >= greater then and equal to \n",
        "6. != not equal to"
      ],
      "metadata": {
        "id": "e3JJtqs0mG8R"
      }
    },
    {
      "cell_type": "markdown",
      "source": [
        "6. How do you tell the difference between the equal to and assignment operators?Describe a\n",
        "condition and when you would use one.\n",
        "\n",
        "ans to assign some value top variable we use single =\n",
        "\n",
        "and for equal to we use double ==\n"
      ],
      "metadata": {
        "id": "zm9DqD8WmvQh"
      }
    },
    {
      "cell_type": "code",
      "source": [
        "a= 2\n",
        "print(a)\n",
        "2 == 3"
      ],
      "metadata": {
        "colab": {
          "base_uri": "https://localhost:8080/"
        },
        "id": "a-wIrWBwjaOb",
        "outputId": "51d477cc-9a46-49ca-f977-8f50a78b87ba"
      },
      "execution_count": null,
      "outputs": [
        {
          "output_type": "stream",
          "name": "stdout",
          "text": [
            "2\n"
          ]
        },
        {
          "output_type": "execute_result",
          "data": {
            "text/plain": [
              "False"
            ]
          },
          "metadata": {},
          "execution_count": 8
        }
      ]
    },
    {
      "cell_type": "markdown",
      "source": [
        "7. Identify the three blocks in this code:\n",
        "spam = 0\n",
        "if spam == 10:\n",
        "print(&#39;eggs&#39;)\n",
        "if spam &gt; 5:\n",
        "print(&#39;bacon&#39;)\n",
        "else:\n",
        "print(&#39;ham&#39;)\n",
        "print(&#39;spam&#39;)\n",
        "print(&#39;spam&#39;)\n",
        "\n",
        "ans \n",
        "\n",
        "1.   if spam == 10:\n",
        "  \n",
        "  print('eggs')\n",
        "2.   if spam > 5:\n",
        "  \n",
        "  print('bacon')\n",
        "\n",
        "  else:\n",
        "\n",
        "  print('ham')\n",
        "\n",
        "3. print('spam')\n",
        "\n",
        "   print('spam')\n",
        "\n",
        "\n",
        "\n"
      ],
      "metadata": {
        "id": "GpPyLrzfoj4p"
      }
    },
    {
      "cell_type": "code",
      "source": [
        "\n",
        "spam = 0\n",
        "if spam == 10:\n",
        "  print('eggs')\n",
        "if spam > 5:\n",
        "  print('bacon')\n",
        "else:\n",
        "  print('ham')\n",
        "print('spam')\n",
        "print('spam')"
      ],
      "metadata": {
        "colab": {
          "base_uri": "https://localhost:8080/"
        },
        "id": "IHqKcJdbpqew",
        "outputId": "e91a8fdc-fafd-46aa-b25f-17f9119ef7b1"
      },
      "execution_count": null,
      "outputs": [
        {
          "output_type": "stream",
          "name": "stdout",
          "text": [
            "ham\n",
            "spam\n",
            "spam\n"
          ]
        }
      ]
    },
    {
      "cell_type": "markdown",
      "source": [
        "8. Write code that prints Hello if 1 is stored in spam, prints Howdy if 2 is stored in spam, and prints\n",
        "Greetings! if anything else is stored in spam."
      ],
      "metadata": {
        "id": "K6B9UiRRrDSI"
      }
    },
    {
      "cell_type": "code",
      "source": [
        "spam= (input('enter the no : '))\n",
        "if spam=='1':\n",
        "  print('Hello')\n",
        "elif spam=='2':\n",
        "  print('Howdy')\n",
        "else :\n",
        "  print('Greeting!')"
      ],
      "metadata": {
        "colab": {
          "base_uri": "https://localhost:8080/"
        },
        "id": "gJGmofwlp87R",
        "outputId": "19026b84-dfe1-4cc5-8344-124cf762e597"
      },
      "execution_count": null,
      "outputs": [
        {
          "output_type": "stream",
          "name": "stdout",
          "text": [
            "enter the no : 2\n",
            "Howdy\n"
          ]
        }
      ]
    },
    {
      "cell_type": "markdown",
      "source": [
        "9.If your programme is stuck in an endless loop, what keys you’ll press?\n",
        "\n",
        "ans = ctrl + c"
      ],
      "metadata": {
        "id": "c6I00tDEth7o"
      }
    },
    {
      "cell_type": "markdown",
      "source": [
        "10. How can you tell the difference between break and continue?\n",
        "\n",
        "ans =  break is used to exit the loop (it completetly stop the loop)\n",
        "\n",
        "continue is use to skip line written below and start loop from start line (jump to next itration)"
      ],
      "metadata": {
        "id": "FkNOFzuUuXn_"
      }
    },
    {
      "cell_type": "markdown",
      "source": [
        "11. In a for loop, what is the difference between range(10), range(0, 10), and range(0, 10, 1)?\n",
        "\n",
        "ans - these 3 will give same result\n",
        "\n",
        "for range(10) it will default select 0 as starting value of i \n",
        "\n",
        "for range(0,10) it will take staring to ending range of loop \n",
        "\n",
        "for range(0,10,1) it will take 0 as start , 10 as end value and 1 as step size (1 is default step size)"
      ],
      "metadata": {
        "id": "y_6IWx9IvIJ_"
      }
    },
    {
      "cell_type": "code",
      "source": [
        "for i in range(10):\n",
        "  print(i)\n",
        "print('.....')\n",
        "\n",
        "for i in range(0,10):\n",
        "  print(i)\n",
        "print('.....')\n",
        "\n",
        "for i in range(0,10,1):\n",
        "  print(i)"
      ],
      "metadata": {
        "colab": {
          "base_uri": "https://localhost:8080/"
        },
        "id": "ZXNxgExRt1pw",
        "outputId": "0caf081e-c4d7-445a-d1b2-2190159c6322"
      },
      "execution_count": null,
      "outputs": [
        {
          "output_type": "stream",
          "name": "stdout",
          "text": [
            "0\n",
            "1\n",
            "2\n",
            "3\n",
            "4\n",
            "5\n",
            "6\n",
            "7\n",
            "8\n",
            "9\n",
            ".....\n",
            "0\n",
            "1\n",
            "2\n",
            "3\n",
            "4\n",
            "5\n",
            "6\n",
            "7\n",
            "8\n",
            "9\n",
            ".....\n",
            "0\n",
            "1\n",
            "2\n",
            "3\n",
            "4\n",
            "5\n",
            "6\n",
            "7\n",
            "8\n",
            "9\n"
          ]
        }
      ]
    },
    {
      "cell_type": "markdown",
      "source": [
        "12. Write a short program that prints the numbers 1 to 10 using a for loop. Then write an equivalent\n",
        "program that prints the numbers 1 to 10 using a while loop."
      ],
      "metadata": {
        "id": "ds-m1LUwxmX-"
      }
    },
    {
      "cell_type": "code",
      "source": [
        "for i in range(1,11):\n",
        "  print(i)\n",
        "print('.....')\n",
        "j=1\n",
        "while j<=10:\n",
        "  print(j)\n",
        "  j=j+1"
      ],
      "metadata": {
        "colab": {
          "base_uri": "https://localhost:8080/"
        },
        "id": "1OfB5LwqxsA-",
        "outputId": "c6654745-33f1-4cfa-8983-b260e0ba2aa4"
      },
      "execution_count": null,
      "outputs": [
        {
          "output_type": "stream",
          "name": "stdout",
          "text": [
            "1\n",
            "2\n",
            "3\n",
            "4\n",
            "5\n",
            "6\n",
            "7\n",
            "8\n",
            "9\n",
            "10\n",
            ".....\n",
            "1\n",
            "2\n",
            "3\n",
            "4\n",
            "5\n",
            "6\n",
            "7\n",
            "8\n",
            "9\n",
            "10\n"
          ]
        }
      ]
    },
    {
      "cell_type": "code",
      "source": [],
      "metadata": {
        "id": "7xQzd3UUx8x_"
      },
      "execution_count": null,
      "outputs": []
    },
    {
      "cell_type": "markdown",
      "source": [
        "13. If you had a function named bacon() inside a module named spam, how would you call it after\n",
        "importing spam?"
      ],
      "metadata": {
        "id": "gNqs4ICjyasW"
      }
    },
    {
      "cell_type": "code",
      "source": [
        "ans \n",
        "spam.bacon()"
      ],
      "metadata": {
        "id": "KGwmSfYmpg1b"
      },
      "execution_count": null,
      "outputs": []
    },
    {
      "cell_type": "markdown",
      "source": [],
      "metadata": {
        "id": "uDh7EFFLpgaH"
      }
    }
  ]
}