{
  "nbformat": 4,
  "nbformat_minor": 0,
  "metadata": {
    "colab": {
      "provenance": [],
      "authorship_tag": "ABX9TyMw13az2+QJTrIB/VZskj25",
      "include_colab_link": true
    },
    "kernelspec": {
      "name": "python3",
      "display_name": "Python 3"
    },
    "language_info": {
      "name": "python"
    }
  },
  "cells": [
    {
      "cell_type": "markdown",
      "metadata": {
        "id": "view-in-github",
        "colab_type": "text"
      },
      "source": [
        "<a href=\"https://colab.research.google.com/github/prarit26/python/blob/main/Untitled13.ipynb\" target=\"_parent\"><img src=\"https://colab.research.google.com/assets/colab-badge.svg\" alt=\"Open In Colab\"/></a>"
      ]
    },
    {
      "cell_type": "markdown",
      "source": [
        "Given two linked list of the same size, the task is to create a new linked list using those linked lists. The condition is that the greater node among both linked list will be added to the new linked list."
      ],
      "metadata": {
        "id": "3C0DICI_KQN0"
      }
    },
    {
      "cell_type": "code",
      "execution_count": 1,
      "metadata": {
        "id": "ATDvmMC_KPeR"
      },
      "outputs": [],
      "source": [
        "class Node:\n",
        "    def __init__(self, data=None):\n",
        "        self.data = data\n",
        "        self.next = None\n",
        "\n",
        "\n",
        "def merge_linked_lists(list1, list2):\n",
        "    if not list1:\n",
        "        return list2\n",
        "    if not list2:\n",
        "        return list1\n",
        "\n",
        "    # Create a dummy node as the starting point of the result list\n",
        "    dummy = Node()\n",
        "\n",
        "    # Pointer to the current node of the result list\n",
        "    curr = dummy\n",
        "\n",
        "    while list1 and list2:\n",
        "        if list1.data >= list2.data:\n",
        "            curr.next = Node(list1.data)\n",
        "            list1 = list1.next\n",
        "        else:\n",
        "            curr.next = Node(list2.data)\n",
        "            list2 = list2.next\n",
        "        curr = curr.next\n",
        "\n",
        "    # Add remaining nodes from list1 or list2 if any\n",
        "    if list1:\n",
        "        curr.next = list1\n",
        "    if list2:\n",
        "        curr.next = list2\n",
        "\n",
        "    # Return the head of the result list (excluding the dummy node)\n",
        "    return dummy.next\n"
      ]
    },
    {
      "cell_type": "markdown",
      "source": [
        "Write a function that takes a list sorted in non-decreasing order and deletes any duplicate nodes from the list. The list should only be traversed once.\n",
        "\n",
        "For example if the linked list is 11->11->11->21->43->43->60 then removeDuplicates() should convert the list to 11->21->43->60.\n",
        "\n",
        "**Example 1:**"
      ],
      "metadata": {
        "id": "jM1IcopHMf4z"
      }
    },
    {
      "cell_type": "code",
      "source": [
        "class Node:\n",
        "    def __init__(self, data=None):\n",
        "        self.data = data\n",
        "        self.next = None\n",
        "\n",
        "\n",
        "def remove_duplicates(head):\n",
        "    if not head:\n",
        "        return head\n",
        "\n",
        "    current = head\n",
        "    while current.next:\n",
        "        if current.data == current.next.data:\n",
        "            current.next = current.next.next\n",
        "        else:\n",
        "            current = current.next\n",
        "\n",
        "    return head\n",
        "# Create the linked list: 11->11->11->21->43->43->60\n",
        "list1 = Node(11)\n",
        "list1.next = Node(11)\n",
        "list1.next.next = Node(11)\n",
        "list1.next.next.next = Node(21)\n",
        "list1.next.next.next.next = Node(43)\n",
        "list1.next.next.next.next.next = Node(43)\n",
        "list1.next.next.next.next.next.next = Node(60)\n",
        "\n",
        "# Call the function to remove duplicates\n",
        "result = remove_duplicates(list1)\n",
        "\n",
        "# Print the modified linked list\n",
        "while result:\n",
        "    print(result.data, end=\"->\")\n",
        "    result = result.next\n",
        "\n"
      ],
      "metadata": {
        "colab": {
          "base_uri": "https://localhost:8080/"
        },
        "id": "yd-3m4AaKTyN",
        "outputId": "34c1601e-90cc-4543-d701-d1c29d26feb1"
      },
      "execution_count": 2,
      "outputs": [
        {
          "output_type": "stream",
          "name": "stdout",
          "text": [
            "11->21->43->60->"
          ]
        }
      ]
    },
    {
      "cell_type": "markdown",
      "source": [
        "Given a linked list of size **N**. The task is to reverse every **k** nodes (where k is an input to the function) in the linked list. If the number of nodes is not a multiple of *k* then left-out nodes, in the end, should be considered as a group and must be reversed (See Example 2 for clarification).\n",
        "\n",
        "**Example 1:**"
      ],
      "metadata": {
        "id": "nDvPVu0CM-Io"
      }
    },
    {
      "cell_type": "code",
      "source": [
        "class Node:\n",
        "    def __init__(self, data=None):\n",
        "        self.data = data\n",
        "        self.next = None\n",
        "\n",
        "\n",
        "def reverse_k_nodes(head, k):\n",
        "    if not head or k == 1:\n",
        "        return head\n",
        "\n",
        "    dummy = Node()  # Dummy node to handle the case where head needs to be reversed\n",
        "    dummy.next = head\n",
        "    prev = dummy\n",
        "    curr = head\n",
        "    count = 0\n",
        "\n",
        "    while curr:\n",
        "        count += 1\n",
        "        if count % k == 0:\n",
        "            prev = reverse_list(prev, curr.next)\n",
        "            curr = prev.next\n",
        "        else:\n",
        "            curr = curr.next\n",
        "\n",
        "    return dummy.next\n",
        "\n",
        "\n",
        "def reverse_list(prev, next_node):\n",
        "    last = prev.next\n",
        "    curr = last.next\n",
        "\n",
        "    while curr != next_node:\n",
        "        last.next = curr.next\n",
        "        curr.next = prev.next\n",
        "        prev.next = curr\n",
        "        curr = last.next\n",
        "\n",
        "    return last\n",
        "# Create the linked list: 1->2->3->4->5->6->7->8->9->10\n",
        "list1 = Node(1)\n",
        "list1.next = Node(2)\n",
        "list1.next.next = Node(2)\n",
        "list1.next.next.next = Node(4)\n",
        "list1.next.next.next.next = Node(5)\n",
        "list1.next.next.next.next.next = Node(6)\n",
        "list1.next.next.next.next.next.next = Node(7)\n",
        "list1.next.next.next.next.next.next.next = Node(8)\n",
        "\n",
        "# Call the function to reverse every 3 nodes\n",
        "result = reverse_k_nodes(list1, 3)\n",
        "\n",
        "# Print the modified linked list\n",
        "while result:\n",
        "    print(result.data, end=\"->\")\n",
        "    result = result.next\n"
      ],
      "metadata": {
        "colab": {
          "base_uri": "https://localhost:8080/"
        },
        "id": "U8pVAxSzMt6u",
        "outputId": "d90e442e-a570-401f-8a76-2f5f605f4c3f"
      },
      "execution_count": 3,
      "outputs": [
        {
          "output_type": "stream",
          "name": "stdout",
          "text": [
            "2->2->1->6->5->4->7->8->"
          ]
        }
      ]
    },
    {
      "cell_type": "markdown",
      "source": [
        "given a linked list, write a function to reverse every alternate k nodes (where k is an input to the function) in an efficient way. Give the complexity of your algorithm.\n",
        "\n",
        "**Example:**"
      ],
      "metadata": {
        "id": "8a24JnS9OADT"
      }
    },
    {
      "cell_type": "code",
      "source": [
        "class Node:\n",
        "    def __init__(self, data=None):\n",
        "        self.data = data\n",
        "        self.next = None\n",
        "\n",
        "\n",
        "def reverse_alternate_k_nodes(head, k):\n",
        "    if not head or k == 1:\n",
        "        return head\n",
        "\n",
        "    curr = head\n",
        "    prev = None\n",
        "    next_node = None\n",
        "    count = 0\n",
        "\n",
        "    # Reverse the first k nodes\n",
        "    while curr and count < k:\n",
        "        next_node = curr.next\n",
        "        curr.next = prev\n",
        "        prev = curr\n",
        "        curr = next_node\n",
        "        count += 1\n",
        "\n",
        "    # Connect the reversed k nodes to the next k nodes\n",
        "    if head:\n",
        "        head.next = curr\n",
        "\n",
        "    # Skip the next k nodes\n",
        "    count = 0\n",
        "    while curr and count < k - 1:\n",
        "        curr = curr.next\n",
        "        count += 1\n",
        "\n",
        "    # Recursively reverse the next k nodes\n",
        "    if curr:\n",
        "        curr.next = reverse_alternate_k_nodes(curr.next, k)\n",
        "\n",
        "    return prev\n"
      ],
      "metadata": {
        "id": "pKPU0_8PNVsv"
      },
      "execution_count": 4,
      "outputs": []
    },
    {
      "cell_type": "code",
      "source": [
        "# Create the linked list: 1->2->3->4->5->6->7->8->9->10\n",
        "list1 = Node(1)\n",
        "list1.next = Node(2)\n",
        "list1.next.next = Node(3)\n",
        "list1.next.next.next = Node(4)\n",
        "list1.next.next.next.next = Node(5)\n",
        "list1.next.next.next.next.next = Node(6)\n",
        "list1.next.next.next.next.next.next = Node(7)\n",
        "list1.next.next.next.next.next.next.next = Node(8)\n",
        "list1.next.next.next.next.next.next.next.next = Node(9)\n",
        "list1.next.next.next.next.next.next.next.next.next = Node(10)\n",
        "\n",
        "# Call the function to reverse every alternate 3 nodes\n",
        "result = reverse_alternate_k_nodes(list1, 3)\n",
        "\n",
        "# Print the modified linked list\n",
        "while result:\n",
        "    print(result.data, end=\"->\")\n",
        "    result = result.next\n"
      ],
      "metadata": {
        "colab": {
          "base_uri": "https://localhost:8080/"
        },
        "id": "_X-Zkm5NOHsV",
        "outputId": "8d15f433-4a00-446a-e660-4dd3de67fa37"
      },
      "execution_count": 5,
      "outputs": [
        {
          "output_type": "stream",
          "name": "stdout",
          "text": [
            "3->2->1->4->5->6->9->8->7->10->"
          ]
        }
      ]
    },
    {
      "cell_type": "markdown",
      "source": [
        "Given a linked list and a key to be deleted. Delete last occurrence of key from linked. The list may have duplicates."
      ],
      "metadata": {
        "id": "W2xvEKb5OQM6"
      }
    },
    {
      "cell_type": "code",
      "source": [
        "class Node:\n",
        "    def __init__(self, data=None):\n",
        "        self.data = data\n",
        "        self.next = None\n",
        "\n",
        "\n",
        "def delete_last_occurrence(head, key):\n",
        "    if not head:\n",
        "        return None\n",
        "\n",
        "    prev = None\n",
        "    last = None\n",
        "    current = head\n",
        "\n",
        "    while current:\n",
        "        if current.data == key:\n",
        "            last = current\n",
        "        current = current.next\n",
        "\n",
        "    if not last:\n",
        "        return head\n",
        "\n",
        "    if last == head:\n",
        "        head = head.next\n",
        "    else:\n",
        "        current = head\n",
        "        while current.next != last:\n",
        "            current = current.next\n",
        "        current.next = last.next\n",
        "\n",
        "    return head\n",
        "# Create the linked list: 1->2->3->5->2->10\n",
        "list1 = Node(1)\n",
        "list1.next = Node(2)\n",
        "list1.next.next = Node(3)\n",
        "list1.next.next.next = Node(5)\n",
        "list1.next.next.next.next = Node(2)\n",
        "list1.next.next.next.next.next = Node(10)\n",
        "\n",
        "# Call the function to delete the last occurrence of 2\n",
        "result = delete_last_occurrence(list1, 2)\n",
        "\n",
        "# Print the modified linked list\n",
        "while result:\n",
        "    print(result.data, end=\"->\")\n",
        "    result = result.next\n"
      ],
      "metadata": {
        "colab": {
          "base_uri": "https://localhost:8080/"
        },
        "id": "YIjpYMEHOKas",
        "outputId": "db84cc4d-1c7c-472e-fb77-92e1255c2a08"
      },
      "execution_count": 6,
      "outputs": [
        {
          "output_type": "stream",
          "name": "stdout",
          "text": [
            "1->2->3->5->10->"
          ]
        }
      ]
    },
    {
      "cell_type": "markdown",
      "source": [
        "Given two sorted linked lists consisting of **N** and **M** nodes respectively. The task is to merge both of the lists (in place) and return the head of the merged list.\n",
        "\n",
        "**Examples:**\n",
        "\n",
        "Input: a: 5->10->15, b: 2->3->20"
      ],
      "metadata": {
        "id": "ivKwk0EsOijt"
      }
    },
    {
      "cell_type": "code",
      "source": [
        "class Node:\n",
        "    def __init__(self, data=None):\n",
        "        self.data = data\n",
        "        self.next = None\n",
        "\n",
        "\n",
        "def merge_sorted_lists(a, b):\n",
        "    if not a:\n",
        "        return b\n",
        "    if not b:\n",
        "        return a\n",
        "\n",
        "    # Determine the head of the merged list\n",
        "    if a.data <= b.data:\n",
        "        head = a\n",
        "        a = a.next\n",
        "    else:\n",
        "        head = b\n",
        "        b = b.next\n",
        "\n",
        "    current = head\n",
        "\n",
        "    # Merge the lists\n",
        "    while a and b:\n",
        "        if a.data <= b.data:\n",
        "            current.next = a\n",
        "            a = a.next\n",
        "        else:\n",
        "            current.next = b\n",
        "            b = b.next\n",
        "        current = current.next\n",
        "\n",
        "    # Append remaining nodes from list a, if any\n",
        "    if a:\n",
        "        current.next = a\n",
        "\n",
        "    # Append remaining nodes from list b, if any\n",
        "    if b:\n",
        "        current.next = b\n",
        "\n",
        "    return head\n",
        "# Create the first sorted linked list: 5->10->15\n",
        "list1 = Node(5)\n",
        "list1.next = Node(10)\n",
        "list1.next.next = Node(15)\n",
        "\n",
        "# Create the second sorted linked list: 2->3->20\n",
        "list2 = Node(2)\n",
        "list2.next = Node(3)\n",
        "list2.next.next = Node(20)\n",
        "\n",
        "# Call the function to merge the lists\n",
        "result = merge_sorted_lists(list1, list2)\n",
        "\n",
        "# Print the merged linked list\n",
        "while result:\n",
        "    print(result.data, end=\"->\")\n",
        "    result = result.next\n"
      ],
      "metadata": {
        "colab": {
          "base_uri": "https://localhost:8080/"
        },
        "id": "fX8p1u1uObyL",
        "outputId": "dceb4200-7bf0-49c0-88c3-6276e3af7f92"
      },
      "execution_count": 7,
      "outputs": [
        {
          "output_type": "stream",
          "name": "stdout",
          "text": [
            "2->3->5->10->15->20->"
          ]
        }
      ]
    },
    {
      "cell_type": "markdown",
      "source": [
        "Given a Doubly Linked List, the task is to reverse the given Doubly Linked List."
      ],
      "metadata": {
        "id": "_jWfls8VOul2"
      }
    },
    {
      "cell_type": "code",
      "source": [
        "class Node:\n",
        "    def __init__(self, data=None):\n",
        "        self.data = data\n",
        "        self.next = None\n",
        "\n",
        "\n",
        "def reverse_linked_list(head):\n",
        "    if not head or not head.next:\n",
        "        return head\n",
        "\n",
        "    prev = None\n",
        "    current = head\n",
        "\n",
        "    while current:\n",
        "        # Store the next node\n",
        "        next_node = current.next\n",
        "\n",
        "        # Reverse the link\n",
        "        current.next = prev\n",
        "\n",
        "        # Move to the next nodes\n",
        "        prev = current\n",
        "        current = next_node\n",
        "\n",
        "    # Update the head\n",
        "    head = prev\n",
        "\n",
        "    return head\n",
        "# Create the linked list: 10 -> 8 -> 4 -> 2\n",
        "list1 = Node(10)\n",
        "list1.next = Node(8)\n",
        "list1.next.next = Node(4)\n",
        "list1.next.next.next = Node(2)\n",
        "\n",
        "# Call the function to reverse the linked list\n",
        "result = reverse_linked_list(list1)\n",
        "\n",
        "# Print the reversed linked list\n",
        "while result:\n",
        "    print(result.data, end=\" \")\n",
        "    result = result.next\n"
      ],
      "metadata": {
        "colab": {
          "base_uri": "https://localhost:8080/"
        },
        "id": "mK47t-QgOppe",
        "outputId": "ca89ab57-622b-4fb1-e526-01d647c98f4e"
      },
      "execution_count": 8,
      "outputs": [
        {
          "output_type": "stream",
          "name": "stdout",
          "text": [
            "2 4 8 10 "
          ]
        }
      ]
    },
    {
      "cell_type": "markdown",
      "source": [
        "Given a doubly linked list and a position. The task is to delete a node from given position in a doubly linked list."
      ],
      "metadata": {
        "id": "jfPlnzEJO8mV"
      }
    },
    {
      "cell_type": "code",
      "source": [
        "class Node:\n",
        "    def __init__(self, data=None):\n",
        "        self.data = data\n",
        "        self.prev = None\n",
        "        self.next = None\n",
        "\n",
        "\n",
        "def delete_node_at_position(head, position):\n",
        "    if not head:\n",
        "        return None\n",
        "\n",
        "    if position == 1:\n",
        "        # If the head node is to be deleted\n",
        "        if head.next is None:\n",
        "            head = None\n",
        "        else:\n",
        "            head = head.next\n",
        "            head.prev = None\n",
        "        return head\n",
        "\n",
        "    current = head\n",
        "    count = 1\n",
        "\n",
        "    # Traverse to the node at the given position\n",
        "    while current and count != position:\n",
        "        current = current.next\n",
        "        count += 1\n",
        "\n",
        "    if not current:\n",
        "        # If the given position exceeds the length of the linked list\n",
        "        return head\n",
        "\n",
        "    # Adjust the pointers to remove the node\n",
        "    if current.next is not None:\n",
        "        current.next.prev = current.prev\n",
        "    if current.prev is not None:\n",
        "        current.prev.next = current.next\n",
        "\n",
        "    return head\n",
        "# Create the doubly linked list: 1 <-> 3 <-> 4\n",
        "list1 = Node(1)\n",
        "list1.next = Node(3)\n",
        "list1.next.prev = list1\n",
        "list1.next.next = Node(4)\n",
        "list1.next.next.prev = list1.next\n",
        "\n",
        "# Call the function to delete a node at position 3\n",
        "result = delete_node_at_position(list1, 3)\n",
        "\n",
        "# Print the modified doubly linked list\n",
        "current = result\n",
        "while current:\n",
        "    print(current.data, end=\" <-> \")\n",
        "    current = current.next\n"
      ],
      "metadata": {
        "colab": {
          "base_uri": "https://localhost:8080/"
        },
        "id": "8iaEUYS-O3pQ",
        "outputId": "ff52b556-4545-4a50-faf2-c784ba31d27e"
      },
      "execution_count": 9,
      "outputs": [
        {
          "output_type": "stream",
          "name": "stdout",
          "text": [
            "1 <-> 3 <-> "
          ]
        }
      ]
    },
    {
      "cell_type": "code",
      "source": [],
      "metadata": {
        "id": "Cdul1tr8PGu3"
      },
      "execution_count": null,
      "outputs": []
    }
  ]
}