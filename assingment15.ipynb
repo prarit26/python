{
  "nbformat": 4,
  "nbformat_minor": 0,
  "metadata": {
    "colab": {
      "provenance": [],
      "authorship_tag": "ABX9TyP2+znBZTN1X90AbHFnU0Je",
      "include_colab_link": true
    },
    "kernelspec": {
      "name": "python3",
      "display_name": "Python 3"
    },
    "language_info": {
      "name": "python"
    }
  },
  "cells": [
    {
      "cell_type": "markdown",
      "metadata": {
        "id": "view-in-github",
        "colab_type": "text"
      },
      "source": [
        "<a href=\"https://colab.research.google.com/github/prarit26/python/blob/main/assingment15.ipynb\" target=\"_parent\"><img src=\"https://colab.research.google.com/assets/colab-badge.svg\" alt=\"Open In Colab\"/></a>"
      ]
    },
    {
      "cell_type": "markdown",
      "source": [
        "1.How many seconds are in an hour? Use the interactive interpreter as a calculator and multiply the number of seconds in a minute (60) by the number of minutes in an hour (also 60)."
      ],
      "metadata": {
        "id": "3JBcw6y_AwvM"
      }
    },
    {
      "cell_type": "code",
      "execution_count": 1,
      "metadata": {
        "colab": {
          "base_uri": "https://localhost:8080/"
        },
        "id": "fQZL7eJaAtaD",
        "outputId": "46deb191-85ed-43ea-bd73-12ba56e70ee5"
      },
      "outputs": [
        {
          "output_type": "stream",
          "name": "stdout",
          "text": [
            "3600\n"
          ]
        }
      ],
      "source": [
        "print(60*60)"
      ]
    },
    {
      "cell_type": "markdown",
      "source": [
        "2. Assign the result from the previous task (seconds in an hour) to a variable called seconds_per_hour."
      ],
      "metadata": {
        "id": "BObz9UrnA1zz"
      }
    },
    {
      "cell_type": "code",
      "source": [
        "seconds_per_hour = 60*60\n",
        "print(seconds_per_hour)"
      ],
      "metadata": {
        "colab": {
          "base_uri": "https://localhost:8080/"
        },
        "id": "noBDxEfpA0Ss",
        "outputId": "7a281a6a-8cac-4bd6-c483-b9598f46fd41"
      },
      "execution_count": 2,
      "outputs": [
        {
          "output_type": "stream",
          "name": "stdout",
          "text": [
            "3600\n"
          ]
        }
      ]
    },
    {
      "cell_type": "markdown",
      "source": [
        "3. How many seconds do you think there are in a day? Make use of the variables seconds per hour and minutes per hour."
      ],
      "metadata": {
        "id": "9GXYK4r2A40z"
      }
    },
    {
      "cell_type": "code",
      "source": [
        "minutes_per_hour = 60\n",
        "print(seconds_per_hour*24)"
      ],
      "metadata": {
        "colab": {
          "base_uri": "https://localhost:8080/"
        },
        "id": "EzcxHapjA3mz",
        "outputId": "4acefc5e-4621-40e8-be52-c835734667f9"
      },
      "execution_count": 3,
      "outputs": [
        {
          "output_type": "stream",
          "name": "stdout",
          "text": [
            "86400\n"
          ]
        }
      ]
    },
    {
      "cell_type": "markdown",
      "source": [
        "4. Calculate seconds per day again, but this time save the result in a variable called seconds_per_day"
      ],
      "metadata": {
        "id": "7UqalXdoA8Rk"
      }
    },
    {
      "cell_type": "code",
      "source": [
        "seconds_per_day = 24*60*60\n",
        "print(seconds_per_day)"
      ],
      "metadata": {
        "colab": {
          "base_uri": "https://localhost:8080/"
        },
        "id": "mr-2AO6GA6tz",
        "outputId": "857babb9-d1ac-4ee9-d1ba-cd8098abe6cc"
      },
      "execution_count": 4,
      "outputs": [
        {
          "output_type": "stream",
          "name": "stdout",
          "text": [
            "86400\n"
          ]
        }
      ]
    },
    {
      "cell_type": "markdown",
      "source": [
        "\n",
        "5. Divide seconds_per_day by seconds_per_hour. Use floating-point (/) division."
      ],
      "metadata": {
        "id": "tbb1SOJKBAQs"
      }
    },
    {
      "cell_type": "code",
      "source": [
        "print(seconds_per_day/seconds_per_hour)\n"
      ],
      "metadata": {
        "colab": {
          "base_uri": "https://localhost:8080/"
        },
        "id": "hjUHWmqpA-WU",
        "outputId": "7f7bf4d5-7fd9-44d9-8935-c1cd3d29ef84"
      },
      "execution_count": 5,
      "outputs": [
        {
          "output_type": "stream",
          "name": "stdout",
          "text": [
            "24.0\n"
          ]
        }
      ]
    },
    {
      "cell_type": "markdown",
      "source": [
        "6. Divide seconds_per_day by seconds_per_hour, using integer (//) division. Did this number agree with the floating-point value from the previous question, aside from the final .0?"
      ],
      "metadata": {
        "id": "juNv1_5BBD-U"
      }
    },
    {
      "cell_type": "code",
      "source": [
        "print(seconds_per_day//seconds_per_hour, end='')\n",
        "print(' -> yes this values agree with the floating point value from the previous question')"
      ],
      "metadata": {
        "colab": {
          "base_uri": "https://localhost:8080/"
        },
        "id": "IoSAILWeBCiU",
        "outputId": "c7ed3e16-78b2-4da8-a93f-7d2700ecff2a"
      },
      "execution_count": 6,
      "outputs": [
        {
          "output_type": "stream",
          "name": "stdout",
          "text": [
            "24 -> yes this values agree with the floating point value from the previous question\n"
          ]
        }
      ]
    },
    {
      "cell_type": "markdown",
      "source": [
        "7. Write a generator, genPrimes, that returns the sequence of prime numbers on successive calls to its next() method: 2, 3, 5, 7, 11, ..."
      ],
      "metadata": {
        "id": "XDTrs9GjBHk0"
      }
    },
    {
      "cell_type": "code",
      "source": [
        "\n",
        "def genPrimes():\n",
        "    n = 0\n",
        "    while True:\n",
        "        if n == 2 or n == 3 :\n",
        "            yield n\n",
        "        elif ((n-1)%6 == 0 or (n+1)%6 == 0) and n !=1:\n",
        "            yield n\n",
        "        n = n+1\n",
        "\n",
        "output = genPrimes()\n",
        "for ele in range(5):\n",
        "    print(next(output))"
      ],
      "metadata": {
        "colab": {
          "base_uri": "https://localhost:8080/"
        },
        "id": "KmkAZIyTBF7U",
        "outputId": "64ff54b6-8530-4e68-daec-b648368b1a47"
      },
      "execution_count": 7,
      "outputs": [
        {
          "output_type": "stream",
          "name": "stdout",
          "text": [
            "2\n",
            "3\n",
            "5\n",
            "7\n",
            "11\n"
          ]
        }
      ]
    },
    {
      "cell_type": "code",
      "source": [],
      "metadata": {
        "id": "vb1auJ4SBJxM"
      },
      "execution_count": null,
      "outputs": []
    }
  ]
}